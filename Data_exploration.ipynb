{
 "cells": [
  {
   "cell_type": "markdown",
   "id": "73226bbc-baf6-44d9-a261-e96d99cda97b",
   "metadata": {},
   "source": [
    "# HIVE DATASET EXPLORATION"
   ]
  },
  {
   "cell_type": "markdown",
   "id": "e24718ee-85d6-442d-862d-62e015d8e9eb",
   "metadata": {},
   "source": [
    "## 0. Set up environment"
   ]
  },
  {
   "cell_type": "code",
   "execution_count": 7,
   "id": "b4e74139-08df-4d43-a67a-8958328182f4",
   "metadata": {},
   "outputs": [],
   "source": [
    "import os\n",
    "import shutil\n",
    "import json\n",
    "import pandas as pd\n",
    "import numpy as np"
   ]
  },
  {
   "cell_type": "markdown",
   "id": "51ad1f2d-6f85-430c-bf36-5c26e87ad18e",
   "metadata": {},
   "source": [
    "# 1. Data Playground"
   ]
  },
  {
   "cell_type": "markdown",
   "id": "1b21b04e-458b-4e28-93c8-c0bfd840abf5",
   "metadata": {},
   "source": [
    "#### Load data"
   ]
  },
  {
   "cell_type": "code",
   "execution_count": 13,
   "id": "0b911469-b9e7-4542-9874-0e6c597c8339",
   "metadata": {},
   "outputs": [],
   "source": [
    "DATA_VERSION = 'final_v1'\n",
    "CWD = os.getcwd()\n",
    "DATA_DIR = os.path.join(CWD, 'dataset', 'hive', DATA_VERSION)"
   ]
  },
  {
   "cell_type": "code",
   "execution_count": 18,
   "id": "b7fd86a5-a323-4dc2-9eb1-069fdc100726",
   "metadata": {},
   "outputs": [],
   "source": [
    "# load data from csv file\n",
    "node_df = pd.read_csv(os.path.join(DATA_DIR, 'nodes_labelled.csv'))\n",
    "edge_df = pd.read_csv(os.path.join(DATA_DIR, 'edges_labelled.csv'))"
   ]
  },
  {
   "cell_type": "markdown",
   "id": "51147f32-0e69-46bf-ab75-b219ac585d68",
   "metadata": {},
   "source": [
    "#### Data exploration"
   ]
  },
  {
   "cell_type": "code",
   "execution_count": 24,
   "id": "58cd427a-7830-46ef-ad09-3a38e1fd9a20",
   "metadata": {},
   "outputs": [
    {
     "data": {
      "text/html": [
       "<div>\n",
       "<style scoped>\n",
       "    .dataframe tbody tr th:only-of-type {\n",
       "        vertical-align: middle;\n",
       "    }\n",
       "\n",
       "    .dataframe tbody tr th {\n",
       "        vertical-align: top;\n",
       "    }\n",
       "\n",
       "    .dataframe thead th {\n",
       "        text-align: right;\n",
       "    }\n",
       "</style>\n",
       "<table border=\"1\" class=\"dataframe\">\n",
       "  <thead>\n",
       "    <tr style=\"text-align: right;\">\n",
       "      <th></th>\n",
       "      <th>ID</th>\n",
       "      <th>Type</th>\n",
       "      <th>Value</th>\n",
       "      <th>HP</th>\n",
       "      <th>Total vote</th>\n",
       "      <th>No. Follower</th>\n",
       "      <th>No. Following</th>\n",
       "      <th>Created</th>\n",
       "      <th>Post Count</th>\n",
       "      <th>Reputation</th>\n",
       "      <th>Abnormally</th>\n",
       "    </tr>\n",
       "  </thead>\n",
       "  <tbody>\n",
       "    <tr>\n",
       "      <th>0</th>\n",
       "      <td>245921</td>\n",
       "      <td>User</td>\n",
       "      <td>davedickeyyall</td>\n",
       "      <td>15418.963626</td>\n",
       "      <td>NaN</td>\n",
       "      <td>2864.0</td>\n",
       "      <td>848.0</td>\n",
       "      <td>2017-07-08 11:32:27</td>\n",
       "      <td>28993.0</td>\n",
       "      <td>77.123604</td>\n",
       "      <td>False</td>\n",
       "    </tr>\n",
       "    <tr>\n",
       "      <th>1</th>\n",
       "      <td>1412702</td>\n",
       "      <td>User</td>\n",
       "      <td>rohansuares</td>\n",
       "      <td>7.598047</td>\n",
       "      <td>NaN</td>\n",
       "      <td>31.0</td>\n",
       "      <td>27.0</td>\n",
       "      <td>2020-09-21 12:30:57</td>\n",
       "      <td>40.0</td>\n",
       "      <td>54.853018</td>\n",
       "      <td>False</td>\n",
       "    </tr>\n",
       "    <tr>\n",
       "      <th>2</th>\n",
       "      <td>113695968</td>\n",
       "      <td>Comment</td>\n",
       "      <td>wyosfwue</td>\n",
       "      <td>NaN</td>\n",
       "      <td>317.0</td>\n",
       "      <td>NaN</td>\n",
       "      <td>NaN</td>\n",
       "      <td>2022-06-01 11:53:06</td>\n",
       "      <td>NaN</td>\n",
       "      <td>NaN</td>\n",
       "      <td>False</td>\n",
       "    </tr>\n",
       "    <tr>\n",
       "      <th>3</th>\n",
       "      <td>103635</td>\n",
       "      <td>User</td>\n",
       "      <td>tangmo</td>\n",
       "      <td>6115.797315</td>\n",
       "      <td>NaN</td>\n",
       "      <td>1898.0</td>\n",
       "      <td>985.0</td>\n",
       "      <td>2016-10-08 00:34:09</td>\n",
       "      <td>29567.0</td>\n",
       "      <td>72.521919</td>\n",
       "      <td>True</td>\n",
       "    </tr>\n",
       "    <tr>\n",
       "      <th>4</th>\n",
       "      <td>1305145</td>\n",
       "      <td>User</td>\n",
       "      <td>idig</td>\n",
       "      <td>762.926607</td>\n",
       "      <td>NaN</td>\n",
       "      <td>59.0</td>\n",
       "      <td>50.0</td>\n",
       "      <td>2019-08-08 12:49:51</td>\n",
       "      <td>651.0</td>\n",
       "      <td>57.602628</td>\n",
       "      <td>False</td>\n",
       "    </tr>\n",
       "  </tbody>\n",
       "</table>\n",
       "</div>"
      ],
      "text/plain": [
       "          ID     Type           Value            HP  Total vote  No. Follower  \\\n",
       "0     245921     User  davedickeyyall  15418.963626         NaN        2864.0   \n",
       "1    1412702     User     rohansuares      7.598047         NaN          31.0   \n",
       "2  113695968  Comment        wyosfwue           NaN       317.0           NaN   \n",
       "3     103635     User          tangmo   6115.797315         NaN        1898.0   \n",
       "4    1305145     User            idig    762.926607         NaN          59.0   \n",
       "\n",
       "   No. Following              Created  Post Count  Reputation  Abnormally  \n",
       "0          848.0  2017-07-08 11:32:27     28993.0   77.123604       False  \n",
       "1           27.0  2020-09-21 12:30:57        40.0   54.853018       False  \n",
       "2            NaN  2022-06-01 11:53:06         NaN         NaN       False  \n",
       "3          985.0  2016-10-08 00:34:09     29567.0   72.521919        True  \n",
       "4           50.0  2019-08-08 12:49:51       651.0   57.602628       False  "
      ]
     },
     "execution_count": 24,
     "metadata": {},
     "output_type": "execute_result"
    }
   ],
   "source": [
    "node_df.head()"
   ]
  },
  {
   "cell_type": "code",
   "execution_count": 42,
   "id": "a3214c3f-cd35-4beb-9680-770f2a60d370",
   "metadata": {},
   "outputs": [
    {
     "data": {
      "text/plain": [
       "array([False,  True])"
      ]
     },
     "execution_count": 42,
     "metadata": {},
     "output_type": "execute_result"
    }
   ],
   "source": [
    "np.unique(node_df.Abnormally)"
   ]
  },
  {
   "cell_type": "code",
   "execution_count": 23,
   "id": "eb21c14e-03f9-460d-8bd6-53d760268e9a",
   "metadata": {},
   "outputs": [
    {
     "data": {
      "text/html": [
       "<div>\n",
       "<style scoped>\n",
       "    .dataframe tbody tr th:only-of-type {\n",
       "        vertical-align: middle;\n",
       "    }\n",
       "\n",
       "    .dataframe tbody tr th {\n",
       "        vertical-align: top;\n",
       "    }\n",
       "\n",
       "    .dataframe thead th {\n",
       "        text-align: right;\n",
       "    }\n",
       "</style>\n",
       "<table border=\"1\" class=\"dataframe\">\n",
       "  <thead>\n",
       "    <tr style=\"text-align: right;\">\n",
       "      <th></th>\n",
       "      <th>Source</th>\n",
       "      <th>Target</th>\n",
       "      <th>Type</th>\n",
       "      <th>Timestamp</th>\n",
       "      <th>Weight</th>\n",
       "      <th>Abnormally</th>\n",
       "    </tr>\n",
       "  </thead>\n",
       "  <tbody>\n",
       "    <tr>\n",
       "      <th>0</th>\n",
       "      <td>219</td>\n",
       "      <td>113693978</td>\n",
       "      <td>Upvote</td>\n",
       "      <td>2022-06-01 10:47:33</td>\n",
       "      <td>5000</td>\n",
       "      <td>False</td>\n",
       "    </tr>\n",
       "    <tr>\n",
       "      <th>1</th>\n",
       "      <td>219</td>\n",
       "      <td>113695893</td>\n",
       "      <td>Upvote</td>\n",
       "      <td>2022-06-01 12:26:45</td>\n",
       "      <td>5000</td>\n",
       "      <td>False</td>\n",
       "    </tr>\n",
       "    <tr>\n",
       "      <th>2</th>\n",
       "      <td>219</td>\n",
       "      <td>113697078</td>\n",
       "      <td>Upvote</td>\n",
       "      <td>2022-06-01 13:29:15</td>\n",
       "      <td>4600</td>\n",
       "      <td>False</td>\n",
       "    </tr>\n",
       "    <tr>\n",
       "      <th>3</th>\n",
       "      <td>219</td>\n",
       "      <td>113701528</td>\n",
       "      <td>Upvote</td>\n",
       "      <td>2022-06-01 16:44:54</td>\n",
       "      <td>5000</td>\n",
       "      <td>False</td>\n",
       "    </tr>\n",
       "    <tr>\n",
       "      <th>4</th>\n",
       "      <td>219</td>\n",
       "      <td>113701891</td>\n",
       "      <td>Upvote</td>\n",
       "      <td>2022-06-01 17:11:24</td>\n",
       "      <td>5000</td>\n",
       "      <td>False</td>\n",
       "    </tr>\n",
       "  </tbody>\n",
       "</table>\n",
       "</div>"
      ],
      "text/plain": [
       "   Source     Target    Type            Timestamp  Weight  Abnormally\n",
       "0     219  113693978  Upvote  2022-06-01 10:47:33    5000       False\n",
       "1     219  113695893  Upvote  2022-06-01 12:26:45    5000       False\n",
       "2     219  113697078  Upvote  2022-06-01 13:29:15    4600       False\n",
       "3     219  113701528  Upvote  2022-06-01 16:44:54    5000       False\n",
       "4     219  113701891  Upvote  2022-06-01 17:11:24    5000       False"
      ]
     },
     "execution_count": 23,
     "metadata": {},
     "output_type": "execute_result"
    }
   ],
   "source": [
    "edge_df.head()"
   ]
  },
  {
   "cell_type": "code",
   "execution_count": 25,
   "id": "01f785a0-54b3-46eb-ad50-439549cfc883",
   "metadata": {},
   "outputs": [
    {
     "name": "stdout",
     "output_type": "stream",
     "text": [
      "<class 'pandas.core.frame.DataFrame'>\n",
      "RangeIndex: 157296 entries, 0 to 157295\n",
      "Data columns (total 11 columns):\n",
      " #   Column         Non-Null Count   Dtype  \n",
      "---  ------         --------------   -----  \n",
      " 0   ID             157296 non-null  int64  \n",
      " 1   Type           157296 non-null  object \n",
      " 2   Value          157296 non-null  object \n",
      " 3   HP             18645 non-null   float64\n",
      " 4   Total vote     138651 non-null  float64\n",
      " 5   No. Follower   18645 non-null   float64\n",
      " 6   No. Following  18645 non-null   float64\n",
      " 7   Created        157296 non-null  object \n",
      " 8   Post Count     18645 non-null   float64\n",
      " 9   Reputation     18645 non-null   float64\n",
      " 10  Abnormally     157296 non-null  bool   \n",
      "dtypes: bool(1), float64(6), int64(1), object(3)\n",
      "memory usage: 12.2+ MB\n"
     ]
    }
   ],
   "source": [
    "node_df.info()"
   ]
  },
  {
   "cell_type": "code",
   "execution_count": 28,
   "id": "7cf5f779-1862-434b-aadc-50578486bb78",
   "metadata": {},
   "outputs": [
    {
     "name": "stdout",
     "output_type": "stream",
     "text": [
      "<class 'pandas.core.frame.DataFrame'>\n",
      "RangeIndex: 1157925 entries, 0 to 1157924\n",
      "Data columns (total 6 columns):\n",
      " #   Column      Non-Null Count    Dtype \n",
      "---  ------      --------------    ----- \n",
      " 0   Source      1157925 non-null  int64 \n",
      " 1   Target      1157925 non-null  int64 \n",
      " 2   Type        1157925 non-null  object\n",
      " 3   Timestamp   1157925 non-null  object\n",
      " 4   Weight      1157925 non-null  int64 \n",
      " 5   Abnormally  1157925 non-null  bool  \n",
      "dtypes: bool(1), int64(3), object(2)\n",
      "memory usage: 45.3+ MB\n"
     ]
    }
   ],
   "source": [
    "edge_df.info()"
   ]
  },
  {
   "cell_type": "code",
   "execution_count": 29,
   "id": "9f02df67-15a7-4e12-bcae-d792723a0777",
   "metadata": {},
   "outputs": [
    {
     "data": {
      "text/plain": [
       "array(['Belong_to', 'Downvote', 'Upvote', 'Write'], dtype=object)"
      ]
     },
     "execution_count": 29,
     "metadata": {},
     "output_type": "execute_result"
    }
   ],
   "source": [
    "np.unique(edge_df.Type)"
   ]
  },
  {
   "cell_type": "code",
   "execution_count": 30,
   "id": "d09510ba-a682-478f-83da-23e5489160d5",
   "metadata": {},
   "outputs": [
    {
     "data": {
      "text/plain": [
       "array(['Comment', 'Post', 'User'], dtype=object)"
      ]
     },
     "execution_count": 30,
     "metadata": {},
     "output_type": "execute_result"
    }
   ],
   "source": [
    "np.unique(node_df.Type)"
   ]
  },
  {
   "cell_type": "code",
   "execution_count": 31,
   "id": "03f6ea0e-9126-40a6-91c2-b34c21ac9dc2",
   "metadata": {},
   "outputs": [
    {
     "data": {
      "text/plain": [
       "array([    0,     1,     2, ..., 11322, 19372, 21966], dtype=int64)"
      ]
     },
     "execution_count": 31,
     "metadata": {},
     "output_type": "execute_result"
    }
   ],
   "source": [
    "np.unique(edge_df.Weight)"
   ]
  },
  {
   "cell_type": "code",
   "execution_count": 38,
   "id": "e2eae9e1-049a-48a0-9215-41206b8dd8e0",
   "metadata": {},
   "outputs": [
    {
     "name": "stdout",
     "output_type": "stream",
     "text": [
      "<class 'pandas.core.frame.DataFrame'>\n",
      "Index: 18645 entries, 0 to 157054\n",
      "Data columns (total 11 columns):\n",
      " #   Column         Non-Null Count  Dtype  \n",
      "---  ------         --------------  -----  \n",
      " 0   ID             18645 non-null  int64  \n",
      " 1   Type           18645 non-null  object \n",
      " 2   Value          18645 non-null  object \n",
      " 3   HP             18645 non-null  float64\n",
      " 4   Total vote     0 non-null      float64\n",
      " 5   No. Follower   18645 non-null  float64\n",
      " 6   No. Following  18645 non-null  float64\n",
      " 7   Created        18645 non-null  object \n",
      " 8   Post Count     18645 non-null  float64\n",
      " 9   Reputation     18645 non-null  float64\n",
      " 10  Abnormally     18645 non-null  bool   \n",
      "dtypes: bool(1), float64(6), int64(1), object(3)\n",
      "memory usage: 1.6+ MB\n"
     ]
    }
   ],
   "source": [
    "user_node = node_df.loc[node_df.Type == 'User']\n",
    "user_node.info()"
   ]
  },
  {
   "cell_type": "code",
   "execution_count": 39,
   "id": "3e4cd815-21ed-4464-961a-cc8329534611",
   "metadata": {},
   "outputs": [
    {
     "name": "stdout",
     "output_type": "stream",
     "text": [
      "<class 'pandas.core.frame.DataFrame'>\n",
      "Index: 13540 entries, 28 to 157229\n",
      "Data columns (total 11 columns):\n",
      " #   Column         Non-Null Count  Dtype  \n",
      "---  ------         --------------  -----  \n",
      " 0   ID             13540 non-null  int64  \n",
      " 1   Type           13540 non-null  object \n",
      " 2   Value          13540 non-null  object \n",
      " 3   HP             0 non-null      float64\n",
      " 4   Total vote     13540 non-null  float64\n",
      " 5   No. Follower   0 non-null      float64\n",
      " 6   No. Following  0 non-null      float64\n",
      " 7   Created        13540 non-null  object \n",
      " 8   Post Count     0 non-null      float64\n",
      " 9   Reputation     0 non-null      float64\n",
      " 10  Abnormally     13540 non-null  bool   \n",
      "dtypes: bool(1), float64(6), int64(1), object(3)\n",
      "memory usage: 1.1+ MB\n"
     ]
    }
   ],
   "source": [
    "post_node = node_df.loc[node_df.Type == 'Post']\n",
    "post_node.info()"
   ]
  },
  {
   "cell_type": "code",
   "execution_count": 40,
   "id": "240fe9f0-6911-4e83-a6c9-f48223a8228b",
   "metadata": {},
   "outputs": [
    {
     "name": "stdout",
     "output_type": "stream",
     "text": [
      "<class 'pandas.core.frame.DataFrame'>\n",
      "Index: 125111 entries, 2 to 157295\n",
      "Data columns (total 11 columns):\n",
      " #   Column         Non-Null Count   Dtype  \n",
      "---  ------         --------------   -----  \n",
      " 0   ID             125111 non-null  int64  \n",
      " 1   Type           125111 non-null  object \n",
      " 2   Value          125111 non-null  object \n",
      " 3   HP             0 non-null       float64\n",
      " 4   Total vote     125111 non-null  float64\n",
      " 5   No. Follower   0 non-null       float64\n",
      " 6   No. Following  0 non-null       float64\n",
      " 7   Created        125111 non-null  object \n",
      " 8   Post Count     0 non-null       float64\n",
      " 9   Reputation     0 non-null       float64\n",
      " 10  Abnormally     125111 non-null  bool   \n",
      "dtypes: bool(1), float64(6), int64(1), object(3)\n",
      "memory usage: 10.6+ MB\n"
     ]
    }
   ],
   "source": [
    "cmt_node = node_df.loc[node_df.Type == 'Comment']\n",
    "cmt_node.info()"
   ]
  },
  {
   "cell_type": "code",
   "execution_count": 52,
   "id": "0ca277fd-7329-482b-b502-7f61cbb64aa1",
   "metadata": {},
   "outputs": [
    {
     "data": {
      "text/html": [
       "<div>\n",
       "<style scoped>\n",
       "    .dataframe tbody tr th:only-of-type {\n",
       "        vertical-align: middle;\n",
       "    }\n",
       "\n",
       "    .dataframe tbody tr th {\n",
       "        vertical-align: top;\n",
       "    }\n",
       "\n",
       "    .dataframe thead th {\n",
       "        text-align: right;\n",
       "    }\n",
       "</style>\n",
       "<table border=\"1\" class=\"dataframe\">\n",
       "  <thead>\n",
       "    <tr style=\"text-align: right;\">\n",
       "      <th></th>\n",
       "      <th>Source</th>\n",
       "      <th>Target</th>\n",
       "      <th>Type</th>\n",
       "      <th>Timestamp</th>\n",
       "      <th>Weight</th>\n",
       "      <th>Abnormally</th>\n",
       "    </tr>\n",
       "  </thead>\n",
       "  <tbody>\n",
       "    <tr>\n",
       "      <th>1079176</th>\n",
       "      <td>14130740</td>\n",
       "      <td>14128206</td>\n",
       "      <td>Belong_to</td>\n",
       "      <td>2022-06-07 19:55:03</td>\n",
       "      <td>1</td>\n",
       "      <td>False</td>\n",
       "    </tr>\n",
       "    <tr>\n",
       "      <th>1079177</th>\n",
       "      <td>14133737</td>\n",
       "      <td>14132553</td>\n",
       "      <td>Belong_to</td>\n",
       "      <td>2022-06-07 19:54:06</td>\n",
       "      <td>1</td>\n",
       "      <td>False</td>\n",
       "    </tr>\n",
       "    <tr>\n",
       "      <th>1079178</th>\n",
       "      <td>14197893</td>\n",
       "      <td>14147125</td>\n",
       "      <td>Belong_to</td>\n",
       "      <td>2022-06-07 19:53:21</td>\n",
       "      <td>1</td>\n",
       "      <td>False</td>\n",
       "    </tr>\n",
       "    <tr>\n",
       "      <th>1079179</th>\n",
       "      <td>107931797</td>\n",
       "      <td>107901340</td>\n",
       "      <td>Belong_to</td>\n",
       "      <td>2022-06-13 14:26:39</td>\n",
       "      <td>214</td>\n",
       "      <td>False</td>\n",
       "    </tr>\n",
       "    <tr>\n",
       "      <th>1079180</th>\n",
       "      <td>107934402</td>\n",
       "      <td>107901340</td>\n",
       "      <td>Belong_to</td>\n",
       "      <td>2022-06-09 17:22:42</td>\n",
       "      <td>212</td>\n",
       "      <td>False</td>\n",
       "    </tr>\n",
       "    <tr>\n",
       "      <th>...</th>\n",
       "      <td>...</td>\n",
       "      <td>...</td>\n",
       "      <td>...</td>\n",
       "      <td>...</td>\n",
       "      <td>...</td>\n",
       "      <td>...</td>\n",
       "    </tr>\n",
       "    <tr>\n",
       "      <th>1157920</th>\n",
       "      <td>114421729</td>\n",
       "      <td>114267130</td>\n",
       "      <td>Belong_to</td>\n",
       "      <td>2022-06-29 11:48:39</td>\n",
       "      <td>93</td>\n",
       "      <td>False</td>\n",
       "    </tr>\n",
       "    <tr>\n",
       "      <th>1157921</th>\n",
       "      <td>114421730</td>\n",
       "      <td>114421701</td>\n",
       "      <td>Belong_to</td>\n",
       "      <td>2022-06-29 11:48:54</td>\n",
       "      <td>53</td>\n",
       "      <td>False</td>\n",
       "    </tr>\n",
       "    <tr>\n",
       "      <th>1157922</th>\n",
       "      <td>114421731</td>\n",
       "      <td>114356799</td>\n",
       "      <td>Belong_to</td>\n",
       "      <td>2022-06-29 11:49:00</td>\n",
       "      <td>43</td>\n",
       "      <td>False</td>\n",
       "    </tr>\n",
       "    <tr>\n",
       "      <th>1157923</th>\n",
       "      <td>114421733</td>\n",
       "      <td>114410742</td>\n",
       "      <td>Belong_to</td>\n",
       "      <td>2022-06-29 11:49:12</td>\n",
       "      <td>51</td>\n",
       "      <td>False</td>\n",
       "    </tr>\n",
       "    <tr>\n",
       "      <th>1157924</th>\n",
       "      <td>114421734</td>\n",
       "      <td>114397515</td>\n",
       "      <td>Belong_to</td>\n",
       "      <td>2022-06-29 11:49:12</td>\n",
       "      <td>185</td>\n",
       "      <td>False</td>\n",
       "    </tr>\n",
       "  </tbody>\n",
       "</table>\n",
       "<p>58911 rows × 6 columns</p>\n",
       "</div>"
      ],
      "text/plain": [
       "            Source     Target       Type            Timestamp  Weight  \\\n",
       "1079176   14130740   14128206  Belong_to  2022-06-07 19:55:03       1   \n",
       "1079177   14133737   14132553  Belong_to  2022-06-07 19:54:06       1   \n",
       "1079178   14197893   14147125  Belong_to  2022-06-07 19:53:21       1   \n",
       "1079179  107931797  107901340  Belong_to  2022-06-13 14:26:39     214   \n",
       "1079180  107934402  107901340  Belong_to  2022-06-09 17:22:42     212   \n",
       "...            ...        ...        ...                  ...     ...   \n",
       "1157920  114421729  114267130  Belong_to  2022-06-29 11:48:39      93   \n",
       "1157921  114421730  114421701  Belong_to  2022-06-29 11:48:54      53   \n",
       "1157922  114421731  114356799  Belong_to  2022-06-29 11:49:00      43   \n",
       "1157923  114421733  114410742  Belong_to  2022-06-29 11:49:12      51   \n",
       "1157924  114421734  114397515  Belong_to  2022-06-29 11:49:12     185   \n",
       "\n",
       "         Abnormally  \n",
       "1079176       False  \n",
       "1079177       False  \n",
       "1079178       False  \n",
       "1079179       False  \n",
       "1079180       False  \n",
       "...             ...  \n",
       "1157920       False  \n",
       "1157921       False  \n",
       "1157922       False  \n",
       "1157923       False  \n",
       "1157924       False  \n",
       "\n",
       "[58911 rows x 6 columns]"
      ]
     },
     "execution_count": 52,
     "metadata": {},
     "output_type": "execute_result"
    }
   ],
   "source": [
    "edge_df.loc[edge_df.Type == 'Belong_to'].loc[edge_df.Target.isin(cmt_node.ID)]"
   ]
  },
  {
   "cell_type": "code",
   "execution_count": 58,
   "id": "931cc9f0-a571-436f-b8d8-530c1df42ae0",
   "metadata": {},
   "outputs": [
    {
     "data": {
      "text/plain": [
       "(1157925, 1)"
      ]
     },
     "execution_count": 58,
     "metadata": {},
     "output_type": "execute_result"
    }
   ],
   "source": [
    "np.array(edge_df.Weight).reshape(-1, 1).shape"
   ]
  },
  {
   "cell_type": "code",
   "execution_count": null,
   "id": "eaa60220-23f1-45cb-aa01-83156189d110",
   "metadata": {},
   "outputs": [],
   "source": []
  }
 ],
 "metadata": {
  "kernelspec": {
   "display_name": "Python 3 (ipykernel)",
   "language": "python",
   "name": "python3"
  },
  "language_info": {
   "codemirror_mode": {
    "name": "ipython",
    "version": 3
   },
   "file_extension": ".py",
   "mimetype": "text/x-python",
   "name": "python",
   "nbconvert_exporter": "python",
   "pygments_lexer": "ipython3",
   "version": "3.9.16"
  }
 },
 "nbformat": 4,
 "nbformat_minor": 5
}
