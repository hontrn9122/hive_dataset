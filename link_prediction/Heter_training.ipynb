{
 "cells": [
  {
   "cell_type": "markdown",
   "id": "2a58262e-3cb6-4ac4-bdfc-7c668b44db2e",
   "metadata": {},
   "source": [
    "# Link Prediction for Heterogeneous graph"
   ]
  },
  {
   "cell_type": "markdown",
   "id": "7c43a503-c35b-4f57-af13-b9b1cb66498d",
   "metadata": {},
   "source": [
    "## 0. Enviroment setup"
   ]
  },
  {
   "cell_type": "code",
   "execution_count": 1,
   "id": "b342f272-4864-4e44-9973-9e2d0e6c6a7c",
   "metadata": {},
   "outputs": [],
   "source": [
    "import os\n",
    "import shutil\n",
    "import numpy as np\n",
    "import pandas as pd\n",
    "import torch\n",
    "import torch.nn as nn\n",
    "from tqdm import tqdm\n",
    "\n",
    "from sklearn.metrics import roc_auc_score, f1_score\n",
    "from torch_geometric.utils import negative_sampling\n",
    "import torch_geometric.transforms as T\n",
    "from torch_geometric.utils import train_test_split_edges\n",
    "from torch_geometric.loader import LinkNeighborLoader\n",
    "\n",
    "import lightning as L\n",
    "from lightning.pytorch.callbacks import ModelCheckpoint\n",
    "from lightning.pytorch.loggers import WandbLogger"
   ]
  },
  {
   "cell_type": "code",
   "execution_count": 2,
   "id": "0279406c-1e43-4f2e-b7ae-d8cdef5a384b",
   "metadata": {},
   "outputs": [],
   "source": [
    "from models import *\n",
    "from dataloaders import *"
   ]
  },
  {
   "cell_type": "code",
   "execution_count": 3,
   "id": "dda9588f-6383-46e9-8a86-4bdd0ec8e5f2",
   "metadata": {},
   "outputs": [],
   "source": [
    "os.environ['CUDA_LAUNCH_BLOCKING'] = '1'"
   ]
  },
  {
   "cell_type": "code",
   "execution_count": 4,
   "id": "448a0250-aed8-4f35-8a06-7e40fd3939f4",
   "metadata": {},
   "outputs": [
    {
     "data": {
      "text/plain": [
       "'cuda'"
      ]
     },
     "execution_count": 4,
     "metadata": {},
     "output_type": "execute_result"
    }
   ],
   "source": [
    "# Setup device agnostic code\n",
    "device = \"cuda\" if torch.cuda.is_available() else \"cpu\"\n",
    "device"
   ]
  },
  {
   "cell_type": "markdown",
   "id": "22880da8-8fb8-4288-b6d2-fdc56493af45",
   "metadata": {},
   "source": [
    "## 1. Data Pre-processing"
   ]
  },
  {
   "cell_type": "code",
   "execution_count": 5,
   "id": "0e3fad6d-95fb-48b8-af4f-1fccc4271f0d",
   "metadata": {},
   "outputs": [
    {
     "data": {
      "text/plain": [
       "HeteroData(\n",
       "  user={ x=[12585, 6] },\n",
       "  link={ x=[23612, 1] },\n",
       "  (user, upvote, link)={\n",
       "    edge_index=[2, 95390],\n",
       "    edge_attr=[95390, 2],\n",
       "    y=[95390],\n",
       "  },\n",
       "  (user, post, link)={\n",
       "    edge_index=[2, 19181],\n",
       "    edge_attr=[19181, 1],\n",
       "    y=[19181],\n",
       "  },\n",
       "  (user, downvote, link)={\n",
       "    edge_index=[2, 2243],\n",
       "    edge_attr=[2243, 2],\n",
       "    y=[2243],\n",
       "  },\n",
       "  (link, rev_upvote, user)={\n",
       "    edge_index=[2, 95390],\n",
       "    edge_attr=[95390, 2],\n",
       "    y=[95390],\n",
       "  },\n",
       "  (link, rev_post, user)={\n",
       "    edge_index=[2, 19181],\n",
       "    edge_attr=[19181, 1],\n",
       "    y=[19181],\n",
       "  },\n",
       "  (link, rev_downvote, user)={\n",
       "    edge_index=[2, 2243],\n",
       "    edge_attr=[2243, 2],\n",
       "    y=[2243],\n",
       "  }\n",
       ")"
      ]
     },
     "execution_count": 5,
     "metadata": {},
     "output_type": "execute_result"
    }
   ],
   "source": [
    "data = getHiveDataset(\n",
    "    'dataset/hive/v3/nodes.csv',\n",
    "    'dataset/hive/v3/edges.csv'\n",
    ")\n",
    "data = T.ToUndirected()(data)\n",
    "data"
   ]
  },
  {
   "cell_type": "code",
   "execution_count": 6,
   "id": "7f78565b-7e76-4e28-a735-2299f1e54f57",
   "metadata": {},
   "outputs": [],
   "source": [
    "edge_types, rev_edge_types = [data.edge_types[:3], data.edge_types[3:]]"
   ]
  },
  {
   "cell_type": "code",
   "execution_count": 7,
   "id": "fa9b9598-8f90-4462-a354-a5b9090ad119",
   "metadata": {},
   "outputs": [],
   "source": [
    "transform = T.RandomLinkSplit(\n",
    "    num_val=0.1,\n",
    "    num_test=0.1,\n",
    "    disjoint_train_ratio=0.3, \n",
    "    add_negative_train_samples=False,\n",
    "    # neg_sampling_ratio=2.0,\n",
    "    edge_types=edge_types,\n",
    "    rev_edge_types=rev_edge_types, \n",
    ")\n",
    "\n",
    "train_data, val_data, test_data = transform(data)"
   ]
  },
  {
   "cell_type": "markdown",
   "id": "2f33980f-d459-48c9-862c-3b87d217f598",
   "metadata": {},
   "source": [
    "## 2. Training"
   ]
  },
  {
   "cell_type": "code",
   "execution_count": 8,
   "id": "5c703cf3-1874-4cea-ba5d-1a251fd1289d",
   "metadata": {},
   "outputs": [],
   "source": [
    "model = GraphSAGE(\n",
    "    in_channels=-1, \n",
    "    out_channels=128, \n",
    "    hidden_channels=[64, 128, 256, 256, 512], \n",
    "    metadata=data.metadata(), \n",
    "    aggr_scheme='mean',\n",
    ")\n"
   ]
  },
  {
   "cell_type": "code",
   "execution_count": 9,
   "id": "37f31a01-ffc3-4b4d-91cf-1774ca19b390",
   "metadata": {},
   "outputs": [],
   "source": [
    "lr = 1e-3\n",
    "optim = torch.optim.Adam(model.parameters(), lr=lr)\n",
    "model.set_optimizer(optim)\n",
    "\n",
    "wandb_logger = WandbLogger(\n",
    "    project=\"LinkPrediction\",\n",
    "    log_model='all',\n",
    "    save_dir='results/log',\n",
    "    name='graphsage',\n",
    "    config={\n",
    "        \"learning_rate\": lr,\n",
    "        \"architecture\": GraphSAGE,\n",
    "        \"epoch\": 100\n",
    "    },\n",
    "    entity='ssc_project'\n",
    ")"
   ]
  },
  {
   "cell_type": "code",
   "execution_count": 12,
   "id": "dc952de0-8844-4663-8c51-e7cf504f3370",
   "metadata": {
    "scrolled": true
   },
   "outputs": [
    {
     "name": "stderr",
     "output_type": "stream",
     "text": [
      "GPU available: True (cuda), used: True\n",
      "TPU available: False, using: 0 TPU cores\n",
      "IPU available: False, using: 0 IPUs\n",
      "HPU available: False, using: 0 HPUs\n",
      "/home/hoangtran/miniconda3/envs/graph/lib/python3.9/site-packages/lightning/pytorch/callbacks/model_checkpoint.py:653: Checkpoint directory /media/hoangtran/T7/graph-anomaly-detection/link_prediction/results/checkpoints/graphsage/loss exists and is not empty.\n",
      "/home/hoangtran/miniconda3/envs/graph/lib/python3.9/site-packages/lightning/pytorch/callbacks/model_checkpoint.py:653: Checkpoint directory /media/hoangtran/T7/graph-anomaly-detection/link_prediction/results/checkpoints/graphsage/roc_auc exists and is not empty.\n",
      "LOCAL_RANK: 0 - CUDA_VISIBLE_DEVICES: [0]\n",
      "\n",
      "  | Name   | Type              | Params\n",
      "---------------------------------------------\n",
      "0 | layers | GraphModule       | 3.6 M \n",
      "1 | crit   | BCEWithLogitsLoss | 0     \n",
      "---------------------------------------------\n",
      "3.6 M     Trainable params\n",
      "0         Non-trainable params\n",
      "3.6 M     Total params\n",
      "14.592    Total estimated model params size (MB)\n"
     ]
    },
    {
     "data": {
      "application/vnd.jupyter.widget-view+json": {
       "model_id": "",
       "version_major": 2,
       "version_minor": 0
      },
      "text/plain": [
       "Sanity Checking: |                                     | 0/? [00:00<?, ?it/s]"
      ]
     },
     "metadata": {},
     "output_type": "display_data"
    },
    {
     "data": {
      "application/vnd.jupyter.widget-view+json": {
       "model_id": "3f5c1849dfa74640b46c452f375d2257",
       "version_major": 2,
       "version_minor": 0
      },
      "text/plain": [
       "Training: |                                            | 0/? [00:00<?, ?it/s]"
      ]
     },
     "metadata": {},
     "output_type": "display_data"
    },
    {
     "data": {
      "application/vnd.jupyter.widget-view+json": {
       "model_id": "",
       "version_major": 2,
       "version_minor": 0
      },
      "text/plain": [
       "Validation: |                                          | 0/? [00:00<?, ?it/s]"
      ]
     },
     "metadata": {},
     "output_type": "display_data"
    },
    {
     "data": {
      "application/vnd.jupyter.widget-view+json": {
       "model_id": "",
       "version_major": 2,
       "version_minor": 0
      },
      "text/plain": [
       "Validation: |                                          | 0/? [00:00<?, ?it/s]"
      ]
     },
     "metadata": {},
     "output_type": "display_data"
    },
    {
     "data": {
      "application/vnd.jupyter.widget-view+json": {
       "model_id": "",
       "version_major": 2,
       "version_minor": 0
      },
      "text/plain": [
       "Validation: |                                          | 0/? [00:00<?, ?it/s]"
      ]
     },
     "metadata": {},
     "output_type": "display_data"
    },
    {
     "data": {
      "application/vnd.jupyter.widget-view+json": {
       "model_id": "",
       "version_major": 2,
       "version_minor": 0
      },
      "text/plain": [
       "Validation: |                                          | 0/? [00:00<?, ?it/s]"
      ]
     },
     "metadata": {},
     "output_type": "display_data"
    },
    {
     "data": {
      "application/vnd.jupyter.widget-view+json": {
       "model_id": "",
       "version_major": 2,
       "version_minor": 0
      },
      "text/plain": [
       "Validation: |                                          | 0/? [00:00<?, ?it/s]"
      ]
     },
     "metadata": {},
     "output_type": "display_data"
    },
    {
     "data": {
      "application/vnd.jupyter.widget-view+json": {
       "model_id": "",
       "version_major": 2,
       "version_minor": 0
      },
      "text/plain": [
       "Validation: |                                          | 0/? [00:00<?, ?it/s]"
      ]
     },
     "metadata": {},
     "output_type": "display_data"
    },
    {
     "data": {
      "application/vnd.jupyter.widget-view+json": {
       "model_id": "",
       "version_major": 2,
       "version_minor": 0
      },
      "text/plain": [
       "Validation: |                                          | 0/? [00:00<?, ?it/s]"
      ]
     },
     "metadata": {},
     "output_type": "display_data"
    },
    {
     "data": {
      "application/vnd.jupyter.widget-view+json": {
       "model_id": "",
       "version_major": 2,
       "version_minor": 0
      },
      "text/plain": [
       "Validation: |                                          | 0/? [00:00<?, ?it/s]"
      ]
     },
     "metadata": {},
     "output_type": "display_data"
    },
    {
     "data": {
      "application/vnd.jupyter.widget-view+json": {
       "model_id": "",
       "version_major": 2,
       "version_minor": 0
      },
      "text/plain": [
       "Validation: |                                          | 0/? [00:00<?, ?it/s]"
      ]
     },
     "metadata": {},
     "output_type": "display_data"
    },
    {
     "data": {
      "application/vnd.jupyter.widget-view+json": {
       "model_id": "",
       "version_major": 2,
       "version_minor": 0
      },
      "text/plain": [
       "Validation: |                                          | 0/? [00:00<?, ?it/s]"
      ]
     },
     "metadata": {},
     "output_type": "display_data"
    },
    {
     "data": {
      "application/vnd.jupyter.widget-view+json": {
       "model_id": "",
       "version_major": 2,
       "version_minor": 0
      },
      "text/plain": [
       "Validation: |                                          | 0/? [00:00<?, ?it/s]"
      ]
     },
     "metadata": {},
     "output_type": "display_data"
    },
    {
     "data": {
      "application/vnd.jupyter.widget-view+json": {
       "model_id": "",
       "version_major": 2,
       "version_minor": 0
      },
      "text/plain": [
       "Validation: |                                          | 0/? [00:00<?, ?it/s]"
      ]
     },
     "metadata": {},
     "output_type": "display_data"
    },
    {
     "data": {
      "application/vnd.jupyter.widget-view+json": {
       "model_id": "",
       "version_major": 2,
       "version_minor": 0
      },
      "text/plain": [
       "Validation: |                                          | 0/? [00:00<?, ?it/s]"
      ]
     },
     "metadata": {},
     "output_type": "display_data"
    },
    {
     "data": {
      "application/vnd.jupyter.widget-view+json": {
       "model_id": "",
       "version_major": 2,
       "version_minor": 0
      },
      "text/plain": [
       "Validation: |                                          | 0/? [00:00<?, ?it/s]"
      ]
     },
     "metadata": {},
     "output_type": "display_data"
    },
    {
     "data": {
      "application/vnd.jupyter.widget-view+json": {
       "model_id": "",
       "version_major": 2,
       "version_minor": 0
      },
      "text/plain": [
       "Validation: |                                          | 0/? [00:00<?, ?it/s]"
      ]
     },
     "metadata": {},
     "output_type": "display_data"
    },
    {
     "data": {
      "application/vnd.jupyter.widget-view+json": {
       "model_id": "",
       "version_major": 2,
       "version_minor": 0
      },
      "text/plain": [
       "Validation: |                                          | 0/? [00:00<?, ?it/s]"
      ]
     },
     "metadata": {},
     "output_type": "display_data"
    },
    {
     "data": {
      "application/vnd.jupyter.widget-view+json": {
       "model_id": "",
       "version_major": 2,
       "version_minor": 0
      },
      "text/plain": [
       "Validation: |                                          | 0/? [00:00<?, ?it/s]"
      ]
     },
     "metadata": {},
     "output_type": "display_data"
    },
    {
     "data": {
      "application/vnd.jupyter.widget-view+json": {
       "model_id": "",
       "version_major": 2,
       "version_minor": 0
      },
      "text/plain": [
       "Validation: |                                          | 0/? [00:00<?, ?it/s]"
      ]
     },
     "metadata": {},
     "output_type": "display_data"
    },
    {
     "data": {
      "application/vnd.jupyter.widget-view+json": {
       "model_id": "",
       "version_major": 2,
       "version_minor": 0
      },
      "text/plain": [
       "Validation: |                                          | 0/? [00:00<?, ?it/s]"
      ]
     },
     "metadata": {},
     "output_type": "display_data"
    },
    {
     "data": {
      "application/vnd.jupyter.widget-view+json": {
       "model_id": "",
       "version_major": 2,
       "version_minor": 0
      },
      "text/plain": [
       "Validation: |                                          | 0/? [00:00<?, ?it/s]"
      ]
     },
     "metadata": {},
     "output_type": "display_data"
    },
    {
     "data": {
      "application/vnd.jupyter.widget-view+json": {
       "model_id": "",
       "version_major": 2,
       "version_minor": 0
      },
      "text/plain": [
       "Validation: |                                          | 0/? [00:00<?, ?it/s]"
      ]
     },
     "metadata": {},
     "output_type": "display_data"
    },
    {
     "data": {
      "application/vnd.jupyter.widget-view+json": {
       "model_id": "",
       "version_major": 2,
       "version_minor": 0
      },
      "text/plain": [
       "Validation: |                                          | 0/? [00:00<?, ?it/s]"
      ]
     },
     "metadata": {},
     "output_type": "display_data"
    },
    {
     "data": {
      "application/vnd.jupyter.widget-view+json": {
       "model_id": "",
       "version_major": 2,
       "version_minor": 0
      },
      "text/plain": [
       "Validation: |                                          | 0/? [00:00<?, ?it/s]"
      ]
     },
     "metadata": {},
     "output_type": "display_data"
    },
    {
     "data": {
      "application/vnd.jupyter.widget-view+json": {
       "model_id": "",
       "version_major": 2,
       "version_minor": 0
      },
      "text/plain": [
       "Validation: |                                          | 0/? [00:00<?, ?it/s]"
      ]
     },
     "metadata": {},
     "output_type": "display_data"
    },
    {
     "data": {
      "application/vnd.jupyter.widget-view+json": {
       "model_id": "",
       "version_major": 2,
       "version_minor": 0
      },
      "text/plain": [
       "Validation: |                                          | 0/? [00:00<?, ?it/s]"
      ]
     },
     "metadata": {},
     "output_type": "display_data"
    },
    {
     "data": {
      "application/vnd.jupyter.widget-view+json": {
       "model_id": "",
       "version_major": 2,
       "version_minor": 0
      },
      "text/plain": [
       "Validation: |                                          | 0/? [00:00<?, ?it/s]"
      ]
     },
     "metadata": {},
     "output_type": "display_data"
    },
    {
     "data": {
      "application/vnd.jupyter.widget-view+json": {
       "model_id": "",
       "version_major": 2,
       "version_minor": 0
      },
      "text/plain": [
       "Validation: |                                          | 0/? [00:00<?, ?it/s]"
      ]
     },
     "metadata": {},
     "output_type": "display_data"
    },
    {
     "data": {
      "application/vnd.jupyter.widget-view+json": {
       "model_id": "",
       "version_major": 2,
       "version_minor": 0
      },
      "text/plain": [
       "Validation: |                                          | 0/? [00:00<?, ?it/s]"
      ]
     },
     "metadata": {},
     "output_type": "display_data"
    },
    {
     "data": {
      "application/vnd.jupyter.widget-view+json": {
       "model_id": "",
       "version_major": 2,
       "version_minor": 0
      },
      "text/plain": [
       "Validation: |                                          | 0/? [00:00<?, ?it/s]"
      ]
     },
     "metadata": {},
     "output_type": "display_data"
    },
    {
     "data": {
      "application/vnd.jupyter.widget-view+json": {
       "model_id": "",
       "version_major": 2,
       "version_minor": 0
      },
      "text/plain": [
       "Validation: |                                          | 0/? [00:00<?, ?it/s]"
      ]
     },
     "metadata": {},
     "output_type": "display_data"
    },
    {
     "data": {
      "application/vnd.jupyter.widget-view+json": {
       "model_id": "",
       "version_major": 2,
       "version_minor": 0
      },
      "text/plain": [
       "Validation: |                                          | 0/? [00:00<?, ?it/s]"
      ]
     },
     "metadata": {},
     "output_type": "display_data"
    },
    {
     "data": {
      "application/vnd.jupyter.widget-view+json": {
       "model_id": "",
       "version_major": 2,
       "version_minor": 0
      },
      "text/plain": [
       "Validation: |                                          | 0/? [00:00<?, ?it/s]"
      ]
     },
     "metadata": {},
     "output_type": "display_data"
    },
    {
     "data": {
      "application/vnd.jupyter.widget-view+json": {
       "model_id": "",
       "version_major": 2,
       "version_minor": 0
      },
      "text/plain": [
       "Validation: |                                          | 0/? [00:00<?, ?it/s]"
      ]
     },
     "metadata": {},
     "output_type": "display_data"
    },
    {
     "data": {
      "application/vnd.jupyter.widget-view+json": {
       "model_id": "",
       "version_major": 2,
       "version_minor": 0
      },
      "text/plain": [
       "Validation: |                                          | 0/? [00:00<?, ?it/s]"
      ]
     },
     "metadata": {},
     "output_type": "display_data"
    },
    {
     "data": {
      "application/vnd.jupyter.widget-view+json": {
       "model_id": "",
       "version_major": 2,
       "version_minor": 0
      },
      "text/plain": [
       "Validation: |                                          | 0/? [00:00<?, ?it/s]"
      ]
     },
     "metadata": {},
     "output_type": "display_data"
    },
    {
     "data": {
      "application/vnd.jupyter.widget-view+json": {
       "model_id": "",
       "version_major": 2,
       "version_minor": 0
      },
      "text/plain": [
       "Validation: |                                          | 0/? [00:00<?, ?it/s]"
      ]
     },
     "metadata": {},
     "output_type": "display_data"
    },
    {
     "data": {
      "application/vnd.jupyter.widget-view+json": {
       "model_id": "",
       "version_major": 2,
       "version_minor": 0
      },
      "text/plain": [
       "Validation: |                                          | 0/? [00:00<?, ?it/s]"
      ]
     },
     "metadata": {},
     "output_type": "display_data"
    },
    {
     "data": {
      "application/vnd.jupyter.widget-view+json": {
       "model_id": "",
       "version_major": 2,
       "version_minor": 0
      },
      "text/plain": [
       "Validation: |                                          | 0/? [00:00<?, ?it/s]"
      ]
     },
     "metadata": {},
     "output_type": "display_data"
    },
    {
     "data": {
      "application/vnd.jupyter.widget-view+json": {
       "model_id": "",
       "version_major": 2,
       "version_minor": 0
      },
      "text/plain": [
       "Validation: |                                          | 0/? [00:00<?, ?it/s]"
      ]
     },
     "metadata": {},
     "output_type": "display_data"
    },
    {
     "data": {
      "application/vnd.jupyter.widget-view+json": {
       "model_id": "",
       "version_major": 2,
       "version_minor": 0
      },
      "text/plain": [
       "Validation: |                                          | 0/? [00:00<?, ?it/s]"
      ]
     },
     "metadata": {},
     "output_type": "display_data"
    },
    {
     "data": {
      "application/vnd.jupyter.widget-view+json": {
       "model_id": "",
       "version_major": 2,
       "version_minor": 0
      },
      "text/plain": [
       "Validation: |                                          | 0/? [00:00<?, ?it/s]"
      ]
     },
     "metadata": {},
     "output_type": "display_data"
    },
    {
     "data": {
      "application/vnd.jupyter.widget-view+json": {
       "model_id": "",
       "version_major": 2,
       "version_minor": 0
      },
      "text/plain": [
       "Validation: |                                          | 0/? [00:00<?, ?it/s]"
      ]
     },
     "metadata": {},
     "output_type": "display_data"
    },
    {
     "data": {
      "application/vnd.jupyter.widget-view+json": {
       "model_id": "",
       "version_major": 2,
       "version_minor": 0
      },
      "text/plain": [
       "Validation: |                                          | 0/? [00:00<?, ?it/s]"
      ]
     },
     "metadata": {},
     "output_type": "display_data"
    },
    {
     "data": {
      "application/vnd.jupyter.widget-view+json": {
       "model_id": "",
       "version_major": 2,
       "version_minor": 0
      },
      "text/plain": [
       "Validation: |                                          | 0/? [00:00<?, ?it/s]"
      ]
     },
     "metadata": {},
     "output_type": "display_data"
    },
    {
     "data": {
      "application/vnd.jupyter.widget-view+json": {
       "model_id": "",
       "version_major": 2,
       "version_minor": 0
      },
      "text/plain": [
       "Validation: |                                          | 0/? [00:00<?, ?it/s]"
      ]
     },
     "metadata": {},
     "output_type": "display_data"
    },
    {
     "data": {
      "application/vnd.jupyter.widget-view+json": {
       "model_id": "",
       "version_major": 2,
       "version_minor": 0
      },
      "text/plain": [
       "Validation: |                                          | 0/? [00:00<?, ?it/s]"
      ]
     },
     "metadata": {},
     "output_type": "display_data"
    },
    {
     "data": {
      "application/vnd.jupyter.widget-view+json": {
       "model_id": "",
       "version_major": 2,
       "version_minor": 0
      },
      "text/plain": [
       "Validation: |                                          | 0/? [00:00<?, ?it/s]"
      ]
     },
     "metadata": {},
     "output_type": "display_data"
    },
    {
     "data": {
      "application/vnd.jupyter.widget-view+json": {
       "model_id": "",
       "version_major": 2,
       "version_minor": 0
      },
      "text/plain": [
       "Validation: |                                          | 0/? [00:00<?, ?it/s]"
      ]
     },
     "metadata": {},
     "output_type": "display_data"
    },
    {
     "data": {
      "application/vnd.jupyter.widget-view+json": {
       "model_id": "",
       "version_major": 2,
       "version_minor": 0
      },
      "text/plain": [
       "Validation: |                                          | 0/? [00:00<?, ?it/s]"
      ]
     },
     "metadata": {},
     "output_type": "display_data"
    },
    {
     "data": {
      "application/vnd.jupyter.widget-view+json": {
       "model_id": "",
       "version_major": 2,
       "version_minor": 0
      },
      "text/plain": [
       "Validation: |                                          | 0/? [00:00<?, ?it/s]"
      ]
     },
     "metadata": {},
     "output_type": "display_data"
    },
    {
     "data": {
      "application/vnd.jupyter.widget-view+json": {
       "model_id": "",
       "version_major": 2,
       "version_minor": 0
      },
      "text/plain": [
       "Validation: |                                          | 0/? [00:00<?, ?it/s]"
      ]
     },
     "metadata": {},
     "output_type": "display_data"
    },
    {
     "data": {
      "application/vnd.jupyter.widget-view+json": {
       "model_id": "",
       "version_major": 2,
       "version_minor": 0
      },
      "text/plain": [
       "Validation: |                                          | 0/? [00:00<?, ?it/s]"
      ]
     },
     "metadata": {},
     "output_type": "display_data"
    },
    {
     "data": {
      "application/vnd.jupyter.widget-view+json": {
       "model_id": "",
       "version_major": 2,
       "version_minor": 0
      },
      "text/plain": [
       "Validation: |                                          | 0/? [00:00<?, ?it/s]"
      ]
     },
     "metadata": {},
     "output_type": "display_data"
    },
    {
     "data": {
      "application/vnd.jupyter.widget-view+json": {
       "model_id": "",
       "version_major": 2,
       "version_minor": 0
      },
      "text/plain": [
       "Validation: |                                          | 0/? [00:00<?, ?it/s]"
      ]
     },
     "metadata": {},
     "output_type": "display_data"
    },
    {
     "data": {
      "application/vnd.jupyter.widget-view+json": {
       "model_id": "",
       "version_major": 2,
       "version_minor": 0
      },
      "text/plain": [
       "Validation: |                                          | 0/? [00:00<?, ?it/s]"
      ]
     },
     "metadata": {},
     "output_type": "display_data"
    },
    {
     "data": {
      "application/vnd.jupyter.widget-view+json": {
       "model_id": "",
       "version_major": 2,
       "version_minor": 0
      },
      "text/plain": [
       "Validation: |                                          | 0/? [00:00<?, ?it/s]"
      ]
     },
     "metadata": {},
     "output_type": "display_data"
    },
    {
     "data": {
      "application/vnd.jupyter.widget-view+json": {
       "model_id": "",
       "version_major": 2,
       "version_minor": 0
      },
      "text/plain": [
       "Validation: |                                          | 0/? [00:00<?, ?it/s]"
      ]
     },
     "metadata": {},
     "output_type": "display_data"
    },
    {
     "data": {
      "application/vnd.jupyter.widget-view+json": {
       "model_id": "",
       "version_major": 2,
       "version_minor": 0
      },
      "text/plain": [
       "Validation: |                                          | 0/? [00:00<?, ?it/s]"
      ]
     },
     "metadata": {},
     "output_type": "display_data"
    },
    {
     "data": {
      "application/vnd.jupyter.widget-view+json": {
       "model_id": "",
       "version_major": 2,
       "version_minor": 0
      },
      "text/plain": [
       "Validation: |                                          | 0/? [00:00<?, ?it/s]"
      ]
     },
     "metadata": {},
     "output_type": "display_data"
    },
    {
     "data": {
      "application/vnd.jupyter.widget-view+json": {
       "model_id": "",
       "version_major": 2,
       "version_minor": 0
      },
      "text/plain": [
       "Validation: |                                          | 0/? [00:00<?, ?it/s]"
      ]
     },
     "metadata": {},
     "output_type": "display_data"
    },
    {
     "data": {
      "application/vnd.jupyter.widget-view+json": {
       "model_id": "",
       "version_major": 2,
       "version_minor": 0
      },
      "text/plain": [
       "Validation: |                                          | 0/? [00:00<?, ?it/s]"
      ]
     },
     "metadata": {},
     "output_type": "display_data"
    },
    {
     "data": {
      "application/vnd.jupyter.widget-view+json": {
       "model_id": "",
       "version_major": 2,
       "version_minor": 0
      },
      "text/plain": [
       "Validation: |                                          | 0/? [00:00<?, ?it/s]"
      ]
     },
     "metadata": {},
     "output_type": "display_data"
    },
    {
     "data": {
      "application/vnd.jupyter.widget-view+json": {
       "model_id": "",
       "version_major": 2,
       "version_minor": 0
      },
      "text/plain": [
       "Validation: |                                          | 0/? [00:00<?, ?it/s]"
      ]
     },
     "metadata": {},
     "output_type": "display_data"
    },
    {
     "data": {
      "application/vnd.jupyter.widget-view+json": {
       "model_id": "",
       "version_major": 2,
       "version_minor": 0
      },
      "text/plain": [
       "Validation: |                                          | 0/? [00:00<?, ?it/s]"
      ]
     },
     "metadata": {},
     "output_type": "display_data"
    },
    {
     "data": {
      "application/vnd.jupyter.widget-view+json": {
       "model_id": "",
       "version_major": 2,
       "version_minor": 0
      },
      "text/plain": [
       "Validation: |                                          | 0/? [00:00<?, ?it/s]"
      ]
     },
     "metadata": {},
     "output_type": "display_data"
    },
    {
     "data": {
      "application/vnd.jupyter.widget-view+json": {
       "model_id": "",
       "version_major": 2,
       "version_minor": 0
      },
      "text/plain": [
       "Validation: |                                          | 0/? [00:00<?, ?it/s]"
      ]
     },
     "metadata": {},
     "output_type": "display_data"
    },
    {
     "data": {
      "application/vnd.jupyter.widget-view+json": {
       "model_id": "",
       "version_major": 2,
       "version_minor": 0
      },
      "text/plain": [
       "Validation: |                                          | 0/? [00:00<?, ?it/s]"
      ]
     },
     "metadata": {},
     "output_type": "display_data"
    },
    {
     "data": {
      "application/vnd.jupyter.widget-view+json": {
       "model_id": "",
       "version_major": 2,
       "version_minor": 0
      },
      "text/plain": [
       "Validation: |                                          | 0/? [00:00<?, ?it/s]"
      ]
     },
     "metadata": {},
     "output_type": "display_data"
    },
    {
     "data": {
      "application/vnd.jupyter.widget-view+json": {
       "model_id": "",
       "version_major": 2,
       "version_minor": 0
      },
      "text/plain": [
       "Validation: |                                          | 0/? [00:00<?, ?it/s]"
      ]
     },
     "metadata": {},
     "output_type": "display_data"
    },
    {
     "data": {
      "application/vnd.jupyter.widget-view+json": {
       "model_id": "",
       "version_major": 2,
       "version_minor": 0
      },
      "text/plain": [
       "Validation: |                                          | 0/? [00:00<?, ?it/s]"
      ]
     },
     "metadata": {},
     "output_type": "display_data"
    },
    {
     "data": {
      "application/vnd.jupyter.widget-view+json": {
       "model_id": "",
       "version_major": 2,
       "version_minor": 0
      },
      "text/plain": [
       "Validation: |                                          | 0/? [00:00<?, ?it/s]"
      ]
     },
     "metadata": {},
     "output_type": "display_data"
    },
    {
     "data": {
      "application/vnd.jupyter.widget-view+json": {
       "model_id": "",
       "version_major": 2,
       "version_minor": 0
      },
      "text/plain": [
       "Validation: |                                          | 0/? [00:00<?, ?it/s]"
      ]
     },
     "metadata": {},
     "output_type": "display_data"
    },
    {
     "data": {
      "application/vnd.jupyter.widget-view+json": {
       "model_id": "",
       "version_major": 2,
       "version_minor": 0
      },
      "text/plain": [
       "Validation: |                                          | 0/? [00:00<?, ?it/s]"
      ]
     },
     "metadata": {},
     "output_type": "display_data"
    },
    {
     "data": {
      "application/vnd.jupyter.widget-view+json": {
       "model_id": "",
       "version_major": 2,
       "version_minor": 0
      },
      "text/plain": [
       "Validation: |                                          | 0/? [00:00<?, ?it/s]"
      ]
     },
     "metadata": {},
     "output_type": "display_data"
    },
    {
     "data": {
      "application/vnd.jupyter.widget-view+json": {
       "model_id": "",
       "version_major": 2,
       "version_minor": 0
      },
      "text/plain": [
       "Validation: |                                          | 0/? [00:00<?, ?it/s]"
      ]
     },
     "metadata": {},
     "output_type": "display_data"
    },
    {
     "data": {
      "application/vnd.jupyter.widget-view+json": {
       "model_id": "",
       "version_major": 2,
       "version_minor": 0
      },
      "text/plain": [
       "Validation: |                                          | 0/? [00:00<?, ?it/s]"
      ]
     },
     "metadata": {},
     "output_type": "display_data"
    },
    {
     "data": {
      "application/vnd.jupyter.widget-view+json": {
       "model_id": "",
       "version_major": 2,
       "version_minor": 0
      },
      "text/plain": [
       "Validation: |                                          | 0/? [00:00<?, ?it/s]"
      ]
     },
     "metadata": {},
     "output_type": "display_data"
    },
    {
     "data": {
      "application/vnd.jupyter.widget-view+json": {
       "model_id": "",
       "version_major": 2,
       "version_minor": 0
      },
      "text/plain": [
       "Validation: |                                          | 0/? [00:00<?, ?it/s]"
      ]
     },
     "metadata": {},
     "output_type": "display_data"
    },
    {
     "data": {
      "application/vnd.jupyter.widget-view+json": {
       "model_id": "",
       "version_major": 2,
       "version_minor": 0
      },
      "text/plain": [
       "Validation: |                                          | 0/? [00:00<?, ?it/s]"
      ]
     },
     "metadata": {},
     "output_type": "display_data"
    },
    {
     "data": {
      "application/vnd.jupyter.widget-view+json": {
       "model_id": "",
       "version_major": 2,
       "version_minor": 0
      },
      "text/plain": [
       "Validation: |                                          | 0/? [00:00<?, ?it/s]"
      ]
     },
     "metadata": {},
     "output_type": "display_data"
    },
    {
     "data": {
      "application/vnd.jupyter.widget-view+json": {
       "model_id": "",
       "version_major": 2,
       "version_minor": 0
      },
      "text/plain": [
       "Validation: |                                          | 0/? [00:00<?, ?it/s]"
      ]
     },
     "metadata": {},
     "output_type": "display_data"
    },
    {
     "data": {
      "application/vnd.jupyter.widget-view+json": {
       "model_id": "",
       "version_major": 2,
       "version_minor": 0
      },
      "text/plain": [
       "Validation: |                                          | 0/? [00:00<?, ?it/s]"
      ]
     },
     "metadata": {},
     "output_type": "display_data"
    },
    {
     "data": {
      "application/vnd.jupyter.widget-view+json": {
       "model_id": "",
       "version_major": 2,
       "version_minor": 0
      },
      "text/plain": [
       "Validation: |                                          | 0/? [00:00<?, ?it/s]"
      ]
     },
     "metadata": {},
     "output_type": "display_data"
    },
    {
     "data": {
      "application/vnd.jupyter.widget-view+json": {
       "model_id": "",
       "version_major": 2,
       "version_minor": 0
      },
      "text/plain": [
       "Validation: |                                          | 0/? [00:00<?, ?it/s]"
      ]
     },
     "metadata": {},
     "output_type": "display_data"
    },
    {
     "data": {
      "application/vnd.jupyter.widget-view+json": {
       "model_id": "",
       "version_major": 2,
       "version_minor": 0
      },
      "text/plain": [
       "Validation: |                                          | 0/? [00:00<?, ?it/s]"
      ]
     },
     "metadata": {},
     "output_type": "display_data"
    },
    {
     "data": {
      "application/vnd.jupyter.widget-view+json": {
       "model_id": "",
       "version_major": 2,
       "version_minor": 0
      },
      "text/plain": [
       "Validation: |                                          | 0/? [00:00<?, ?it/s]"
      ]
     },
     "metadata": {},
     "output_type": "display_data"
    },
    {
     "data": {
      "application/vnd.jupyter.widget-view+json": {
       "model_id": "",
       "version_major": 2,
       "version_minor": 0
      },
      "text/plain": [
       "Validation: |                                          | 0/? [00:00<?, ?it/s]"
      ]
     },
     "metadata": {},
     "output_type": "display_data"
    },
    {
     "data": {
      "application/vnd.jupyter.widget-view+json": {
       "model_id": "",
       "version_major": 2,
       "version_minor": 0
      },
      "text/plain": [
       "Validation: |                                          | 0/? [00:00<?, ?it/s]"
      ]
     },
     "metadata": {},
     "output_type": "display_data"
    },
    {
     "data": {
      "application/vnd.jupyter.widget-view+json": {
       "model_id": "",
       "version_major": 2,
       "version_minor": 0
      },
      "text/plain": [
       "Validation: |                                          | 0/? [00:00<?, ?it/s]"
      ]
     },
     "metadata": {},
     "output_type": "display_data"
    },
    {
     "data": {
      "application/vnd.jupyter.widget-view+json": {
       "model_id": "",
       "version_major": 2,
       "version_minor": 0
      },
      "text/plain": [
       "Validation: |                                          | 0/? [00:00<?, ?it/s]"
      ]
     },
     "metadata": {},
     "output_type": "display_data"
    },
    {
     "data": {
      "application/vnd.jupyter.widget-view+json": {
       "model_id": "",
       "version_major": 2,
       "version_minor": 0
      },
      "text/plain": [
       "Validation: |                                          | 0/? [00:00<?, ?it/s]"
      ]
     },
     "metadata": {},
     "output_type": "display_data"
    },
    {
     "data": {
      "application/vnd.jupyter.widget-view+json": {
       "model_id": "",
       "version_major": 2,
       "version_minor": 0
      },
      "text/plain": [
       "Validation: |                                          | 0/? [00:00<?, ?it/s]"
      ]
     },
     "metadata": {},
     "output_type": "display_data"
    },
    {
     "data": {
      "application/vnd.jupyter.widget-view+json": {
       "model_id": "",
       "version_major": 2,
       "version_minor": 0
      },
      "text/plain": [
       "Validation: |                                          | 0/? [00:00<?, ?it/s]"
      ]
     },
     "metadata": {},
     "output_type": "display_data"
    },
    {
     "data": {
      "application/vnd.jupyter.widget-view+json": {
       "model_id": "",
       "version_major": 2,
       "version_minor": 0
      },
      "text/plain": [
       "Validation: |                                          | 0/? [00:00<?, ?it/s]"
      ]
     },
     "metadata": {},
     "output_type": "display_data"
    },
    {
     "data": {
      "application/vnd.jupyter.widget-view+json": {
       "model_id": "",
       "version_major": 2,
       "version_minor": 0
      },
      "text/plain": [
       "Validation: |                                          | 0/? [00:00<?, ?it/s]"
      ]
     },
     "metadata": {},
     "output_type": "display_data"
    },
    {
     "data": {
      "application/vnd.jupyter.widget-view+json": {
       "model_id": "",
       "version_major": 2,
       "version_minor": 0
      },
      "text/plain": [
       "Validation: |                                          | 0/? [00:00<?, ?it/s]"
      ]
     },
     "metadata": {},
     "output_type": "display_data"
    },
    {
     "data": {
      "application/vnd.jupyter.widget-view+json": {
       "model_id": "",
       "version_major": 2,
       "version_minor": 0
      },
      "text/plain": [
       "Validation: |                                          | 0/? [00:00<?, ?it/s]"
      ]
     },
     "metadata": {},
     "output_type": "display_data"
    },
    {
     "data": {
      "application/vnd.jupyter.widget-view+json": {
       "model_id": "",
       "version_major": 2,
       "version_minor": 0
      },
      "text/plain": [
       "Validation: |                                          | 0/? [00:00<?, ?it/s]"
      ]
     },
     "metadata": {},
     "output_type": "display_data"
    },
    {
     "data": {
      "application/vnd.jupyter.widget-view+json": {
       "model_id": "",
       "version_major": 2,
       "version_minor": 0
      },
      "text/plain": [
       "Validation: |                                          | 0/? [00:00<?, ?it/s]"
      ]
     },
     "metadata": {},
     "output_type": "display_data"
    },
    {
     "data": {
      "application/vnd.jupyter.widget-view+json": {
       "model_id": "",
       "version_major": 2,
       "version_minor": 0
      },
      "text/plain": [
       "Validation: |                                          | 0/? [00:00<?, ?it/s]"
      ]
     },
     "metadata": {},
     "output_type": "display_data"
    },
    {
     "name": "stderr",
     "output_type": "stream",
     "text": [
      "`Trainer.fit` stopped: `max_epochs=100` reached.\n",
      "GPU available: True (cuda), used: True\n",
      "TPU available: False, using: 0 TPU cores\n",
      "IPU available: False, using: 0 IPUs\n",
      "HPU available: False, using: 0 HPUs\n",
      "/home/hoangtran/miniconda3/envs/graph/lib/python3.9/site-packages/lightning/pytorch/callbacks/model_checkpoint.py:653: Checkpoint directory /media/hoangtran/T7/graph-anomaly-detection/link_prediction/results/checkpoints/graphsage/loss exists and is not empty.\n",
      "/home/hoangtran/miniconda3/envs/graph/lib/python3.9/site-packages/lightning/pytorch/callbacks/model_checkpoint.py:653: Checkpoint directory /media/hoangtran/T7/graph-anomaly-detection/link_prediction/results/checkpoints/graphsage/roc_auc exists and is not empty.\n",
      "LOCAL_RANK: 0 - CUDA_VISIBLE_DEVICES: [0]\n",
      "\n",
      "  | Name   | Type              | Params\n",
      "---------------------------------------------\n",
      "0 | layers | GraphModule       | 3.6 M \n",
      "1 | crit   | BCEWithLogitsLoss | 0     \n",
      "---------------------------------------------\n",
      "3.6 M     Trainable params\n",
      "0         Non-trainable params\n",
      "3.6 M     Total params\n",
      "14.592    Total estimated model params size (MB)\n"
     ]
    },
    {
     "data": {
      "application/vnd.jupyter.widget-view+json": {
       "model_id": "",
       "version_major": 2,
       "version_minor": 0
      },
      "text/plain": [
       "Sanity Checking: |                                     | 0/? [00:00<?, ?it/s]"
      ]
     },
     "metadata": {},
     "output_type": "display_data"
    },
    {
     "name": "stderr",
     "output_type": "stream",
     "text": [
      "/home/hoangtran/miniconda3/envs/graph/lib/python3.9/site-packages/lightning/pytorch/loops/fit_loop.py:298: The number of training batches (36) is smaller than the logging interval Trainer(log_every_n_steps=50). Set a lower value for log_every_n_steps if you want to see logs for the training epoch.\n"
     ]
    },
    {
     "data": {
      "application/vnd.jupyter.widget-view+json": {
       "model_id": "7b7a024fdfa448ba99c156d26786ae19",
       "version_major": 2,
       "version_minor": 0
      },
      "text/plain": [
       "Training: |                                            | 0/? [00:00<?, ?it/s]"
      ]
     },
     "metadata": {},
     "output_type": "display_data"
    },
    {
     "data": {
      "application/vnd.jupyter.widget-view+json": {
       "model_id": "",
       "version_major": 2,
       "version_minor": 0
      },
      "text/plain": [
       "Validation: |                                          | 0/? [00:00<?, ?it/s]"
      ]
     },
     "metadata": {},
     "output_type": "display_data"
    },
    {
     "data": {
      "application/vnd.jupyter.widget-view+json": {
       "model_id": "",
       "version_major": 2,
       "version_minor": 0
      },
      "text/plain": [
       "Validation: |                                          | 0/? [00:00<?, ?it/s]"
      ]
     },
     "metadata": {},
     "output_type": "display_data"
    },
    {
     "data": {
      "application/vnd.jupyter.widget-view+json": {
       "model_id": "",
       "version_major": 2,
       "version_minor": 0
      },
      "text/plain": [
       "Validation: |                                          | 0/? [00:00<?, ?it/s]"
      ]
     },
     "metadata": {},
     "output_type": "display_data"
    },
    {
     "data": {
      "application/vnd.jupyter.widget-view+json": {
       "model_id": "",
       "version_major": 2,
       "version_minor": 0
      },
      "text/plain": [
       "Validation: |                                          | 0/? [00:00<?, ?it/s]"
      ]
     },
     "metadata": {},
     "output_type": "display_data"
    },
    {
     "data": {
      "application/vnd.jupyter.widget-view+json": {
       "model_id": "",
       "version_major": 2,
       "version_minor": 0
      },
      "text/plain": [
       "Validation: |                                          | 0/? [00:00<?, ?it/s]"
      ]
     },
     "metadata": {},
     "output_type": "display_data"
    },
    {
     "data": {
      "application/vnd.jupyter.widget-view+json": {
       "model_id": "",
       "version_major": 2,
       "version_minor": 0
      },
      "text/plain": [
       "Validation: |                                          | 0/? [00:00<?, ?it/s]"
      ]
     },
     "metadata": {},
     "output_type": "display_data"
    },
    {
     "data": {
      "application/vnd.jupyter.widget-view+json": {
       "model_id": "",
       "version_major": 2,
       "version_minor": 0
      },
      "text/plain": [
       "Validation: |                                          | 0/? [00:00<?, ?it/s]"
      ]
     },
     "metadata": {},
     "output_type": "display_data"
    },
    {
     "data": {
      "application/vnd.jupyter.widget-view+json": {
       "model_id": "",
       "version_major": 2,
       "version_minor": 0
      },
      "text/plain": [
       "Validation: |                                          | 0/? [00:00<?, ?it/s]"
      ]
     },
     "metadata": {},
     "output_type": "display_data"
    },
    {
     "data": {
      "application/vnd.jupyter.widget-view+json": {
       "model_id": "",
       "version_major": 2,
       "version_minor": 0
      },
      "text/plain": [
       "Validation: |                                          | 0/? [00:00<?, ?it/s]"
      ]
     },
     "metadata": {},
     "output_type": "display_data"
    },
    {
     "data": {
      "application/vnd.jupyter.widget-view+json": {
       "model_id": "",
       "version_major": 2,
       "version_minor": 0
      },
      "text/plain": [
       "Validation: |                                          | 0/? [00:00<?, ?it/s]"
      ]
     },
     "metadata": {},
     "output_type": "display_data"
    },
    {
     "data": {
      "application/vnd.jupyter.widget-view+json": {
       "model_id": "",
       "version_major": 2,
       "version_minor": 0
      },
      "text/plain": [
       "Validation: |                                          | 0/? [00:00<?, ?it/s]"
      ]
     },
     "metadata": {},
     "output_type": "display_data"
    },
    {
     "data": {
      "application/vnd.jupyter.widget-view+json": {
       "model_id": "",
       "version_major": 2,
       "version_minor": 0
      },
      "text/plain": [
       "Validation: |                                          | 0/? [00:00<?, ?it/s]"
      ]
     },
     "metadata": {},
     "output_type": "display_data"
    },
    {
     "data": {
      "application/vnd.jupyter.widget-view+json": {
       "model_id": "",
       "version_major": 2,
       "version_minor": 0
      },
      "text/plain": [
       "Validation: |                                          | 0/? [00:00<?, ?it/s]"
      ]
     },
     "metadata": {},
     "output_type": "display_data"
    },
    {
     "data": {
      "application/vnd.jupyter.widget-view+json": {
       "model_id": "",
       "version_major": 2,
       "version_minor": 0
      },
      "text/plain": [
       "Validation: |                                          | 0/? [00:00<?, ?it/s]"
      ]
     },
     "metadata": {},
     "output_type": "display_data"
    },
    {
     "data": {
      "application/vnd.jupyter.widget-view+json": {
       "model_id": "",
       "version_major": 2,
       "version_minor": 0
      },
      "text/plain": [
       "Validation: |                                          | 0/? [00:00<?, ?it/s]"
      ]
     },
     "metadata": {},
     "output_type": "display_data"
    },
    {
     "data": {
      "application/vnd.jupyter.widget-view+json": {
       "model_id": "",
       "version_major": 2,
       "version_minor": 0
      },
      "text/plain": [
       "Validation: |                                          | 0/? [00:00<?, ?it/s]"
      ]
     },
     "metadata": {},
     "output_type": "display_data"
    },
    {
     "data": {
      "application/vnd.jupyter.widget-view+json": {
       "model_id": "",
       "version_major": 2,
       "version_minor": 0
      },
      "text/plain": [
       "Validation: |                                          | 0/? [00:00<?, ?it/s]"
      ]
     },
     "metadata": {},
     "output_type": "display_data"
    },
    {
     "data": {
      "application/vnd.jupyter.widget-view+json": {
       "model_id": "",
       "version_major": 2,
       "version_minor": 0
      },
      "text/plain": [
       "Validation: |                                          | 0/? [00:00<?, ?it/s]"
      ]
     },
     "metadata": {},
     "output_type": "display_data"
    },
    {
     "data": {
      "application/vnd.jupyter.widget-view+json": {
       "model_id": "",
       "version_major": 2,
       "version_minor": 0
      },
      "text/plain": [
       "Validation: |                                          | 0/? [00:00<?, ?it/s]"
      ]
     },
     "metadata": {},
     "output_type": "display_data"
    },
    {
     "data": {
      "application/vnd.jupyter.widget-view+json": {
       "model_id": "",
       "version_major": 2,
       "version_minor": 0
      },
      "text/plain": [
       "Validation: |                                          | 0/? [00:00<?, ?it/s]"
      ]
     },
     "metadata": {},
     "output_type": "display_data"
    },
    {
     "data": {
      "application/vnd.jupyter.widget-view+json": {
       "model_id": "",
       "version_major": 2,
       "version_minor": 0
      },
      "text/plain": [
       "Validation: |                                          | 0/? [00:00<?, ?it/s]"
      ]
     },
     "metadata": {},
     "output_type": "display_data"
    },
    {
     "data": {
      "application/vnd.jupyter.widget-view+json": {
       "model_id": "",
       "version_major": 2,
       "version_minor": 0
      },
      "text/plain": [
       "Validation: |                                          | 0/? [00:00<?, ?it/s]"
      ]
     },
     "metadata": {},
     "output_type": "display_data"
    },
    {
     "data": {
      "application/vnd.jupyter.widget-view+json": {
       "model_id": "",
       "version_major": 2,
       "version_minor": 0
      },
      "text/plain": [
       "Validation: |                                          | 0/? [00:00<?, ?it/s]"
      ]
     },
     "metadata": {},
     "output_type": "display_data"
    },
    {
     "data": {
      "application/vnd.jupyter.widget-view+json": {
       "model_id": "",
       "version_major": 2,
       "version_minor": 0
      },
      "text/plain": [
       "Validation: |                                          | 0/? [00:00<?, ?it/s]"
      ]
     },
     "metadata": {},
     "output_type": "display_data"
    },
    {
     "data": {
      "application/vnd.jupyter.widget-view+json": {
       "model_id": "",
       "version_major": 2,
       "version_minor": 0
      },
      "text/plain": [
       "Validation: |                                          | 0/? [00:00<?, ?it/s]"
      ]
     },
     "metadata": {},
     "output_type": "display_data"
    },
    {
     "data": {
      "application/vnd.jupyter.widget-view+json": {
       "model_id": "",
       "version_major": 2,
       "version_minor": 0
      },
      "text/plain": [
       "Validation: |                                          | 0/? [00:00<?, ?it/s]"
      ]
     },
     "metadata": {},
     "output_type": "display_data"
    },
    {
     "data": {
      "application/vnd.jupyter.widget-view+json": {
       "model_id": "",
       "version_major": 2,
       "version_minor": 0
      },
      "text/plain": [
       "Validation: |                                          | 0/? [00:00<?, ?it/s]"
      ]
     },
     "metadata": {},
     "output_type": "display_data"
    },
    {
     "data": {
      "application/vnd.jupyter.widget-view+json": {
       "model_id": "",
       "version_major": 2,
       "version_minor": 0
      },
      "text/plain": [
       "Validation: |                                          | 0/? [00:00<?, ?it/s]"
      ]
     },
     "metadata": {},
     "output_type": "display_data"
    },
    {
     "data": {
      "application/vnd.jupyter.widget-view+json": {
       "model_id": "",
       "version_major": 2,
       "version_minor": 0
      },
      "text/plain": [
       "Validation: |                                          | 0/? [00:00<?, ?it/s]"
      ]
     },
     "metadata": {},
     "output_type": "display_data"
    },
    {
     "data": {
      "application/vnd.jupyter.widget-view+json": {
       "model_id": "",
       "version_major": 2,
       "version_minor": 0
      },
      "text/plain": [
       "Validation: |                                          | 0/? [00:00<?, ?it/s]"
      ]
     },
     "metadata": {},
     "output_type": "display_data"
    },
    {
     "data": {
      "application/vnd.jupyter.widget-view+json": {
       "model_id": "",
       "version_major": 2,
       "version_minor": 0
      },
      "text/plain": [
       "Validation: |                                          | 0/? [00:00<?, ?it/s]"
      ]
     },
     "metadata": {},
     "output_type": "display_data"
    },
    {
     "data": {
      "application/vnd.jupyter.widget-view+json": {
       "model_id": "",
       "version_major": 2,
       "version_minor": 0
      },
      "text/plain": [
       "Validation: |                                          | 0/? [00:00<?, ?it/s]"
      ]
     },
     "metadata": {},
     "output_type": "display_data"
    },
    {
     "data": {
      "application/vnd.jupyter.widget-view+json": {
       "model_id": "",
       "version_major": 2,
       "version_minor": 0
      },
      "text/plain": [
       "Validation: |                                          | 0/? [00:00<?, ?it/s]"
      ]
     },
     "metadata": {},
     "output_type": "display_data"
    },
    {
     "data": {
      "application/vnd.jupyter.widget-view+json": {
       "model_id": "",
       "version_major": 2,
       "version_minor": 0
      },
      "text/plain": [
       "Validation: |                                          | 0/? [00:00<?, ?it/s]"
      ]
     },
     "metadata": {},
     "output_type": "display_data"
    },
    {
     "data": {
      "application/vnd.jupyter.widget-view+json": {
       "model_id": "",
       "version_major": 2,
       "version_minor": 0
      },
      "text/plain": [
       "Validation: |                                          | 0/? [00:00<?, ?it/s]"
      ]
     },
     "metadata": {},
     "output_type": "display_data"
    },
    {
     "data": {
      "application/vnd.jupyter.widget-view+json": {
       "model_id": "",
       "version_major": 2,
       "version_minor": 0
      },
      "text/plain": [
       "Validation: |                                          | 0/? [00:00<?, ?it/s]"
      ]
     },
     "metadata": {},
     "output_type": "display_data"
    },
    {
     "data": {
      "application/vnd.jupyter.widget-view+json": {
       "model_id": "",
       "version_major": 2,
       "version_minor": 0
      },
      "text/plain": [
       "Validation: |                                          | 0/? [00:00<?, ?it/s]"
      ]
     },
     "metadata": {},
     "output_type": "display_data"
    },
    {
     "data": {
      "application/vnd.jupyter.widget-view+json": {
       "model_id": "",
       "version_major": 2,
       "version_minor": 0
      },
      "text/plain": [
       "Validation: |                                          | 0/? [00:00<?, ?it/s]"
      ]
     },
     "metadata": {},
     "output_type": "display_data"
    },
    {
     "ename": "OSError",
     "evalue": "[Errno 28] No space left on device: '/media/hoangtran/T7/graph-anomaly-detection/link_prediction/results/checkpoints/graphsage/loss/last-v8.ckpt' -> '/home/hoangtran/.local/share/wandb/artifacts/staging/tmpa_1iuoah'",
     "output_type": "error",
     "traceback": [
      "\u001b[0;31m---------------------------------------------------------------------------\u001b[0m",
      "\u001b[0;31mOSError\u001b[0m                                   Traceback (most recent call last)",
      "Cell \u001b[0;32mIn[12], line 62\u001b[0m\n\u001b[1;32m     49\u001b[0m val_edge_label \u001b[38;5;241m=\u001b[39m val_data[edge_type]\u001b[38;5;241m.\u001b[39medge_label\n\u001b[1;32m     50\u001b[0m val_loader \u001b[38;5;241m=\u001b[39m LinkNeighborLoader(\n\u001b[1;32m     51\u001b[0m     data\u001b[38;5;241m=\u001b[39mval_data,\n\u001b[1;32m     52\u001b[0m     num_neighbors\u001b[38;5;241m=\u001b[39m[\u001b[38;5;241m20\u001b[39m, \u001b[38;5;241m20\u001b[39m],\n\u001b[0;32m   (...)\u001b[0m\n\u001b[1;32m     59\u001b[0m     num_workers\u001b[38;5;241m=\u001b[39m\u001b[38;5;241m8\u001b[39m,\n\u001b[1;32m     60\u001b[0m )\n\u001b[0;32m---> 62\u001b[0m \u001b[43mtrainer\u001b[49m\u001b[38;5;241;43m.\u001b[39;49m\u001b[43mfit\u001b[49m\u001b[43m(\u001b[49m\u001b[43mmodel\u001b[49m\u001b[43m,\u001b[49m\u001b[43m \u001b[49m\u001b[43mtrain_loader\u001b[49m\u001b[43m,\u001b[49m\u001b[43m \u001b[49m\u001b[43mval_loader\u001b[49m\u001b[43m)\u001b[49m\n",
      "File \u001b[0;32m~/miniconda3/envs/graph/lib/python3.9/site-packages/lightning/pytorch/trainer/trainer.py:544\u001b[0m, in \u001b[0;36mTrainer.fit\u001b[0;34m(self, model, train_dataloaders, val_dataloaders, datamodule, ckpt_path)\u001b[0m\n\u001b[1;32m    542\u001b[0m \u001b[38;5;28mself\u001b[39m\u001b[38;5;241m.\u001b[39mstate\u001b[38;5;241m.\u001b[39mstatus \u001b[38;5;241m=\u001b[39m TrainerStatus\u001b[38;5;241m.\u001b[39mRUNNING\n\u001b[1;32m    543\u001b[0m \u001b[38;5;28mself\u001b[39m\u001b[38;5;241m.\u001b[39mtraining \u001b[38;5;241m=\u001b[39m \u001b[38;5;28;01mTrue\u001b[39;00m\n\u001b[0;32m--> 544\u001b[0m \u001b[43mcall\u001b[49m\u001b[38;5;241;43m.\u001b[39;49m\u001b[43m_call_and_handle_interrupt\u001b[49m\u001b[43m(\u001b[49m\n\u001b[1;32m    545\u001b[0m \u001b[43m    \u001b[49m\u001b[38;5;28;43mself\u001b[39;49m\u001b[43m,\u001b[49m\u001b[43m \u001b[49m\u001b[38;5;28;43mself\u001b[39;49m\u001b[38;5;241;43m.\u001b[39;49m\u001b[43m_fit_impl\u001b[49m\u001b[43m,\u001b[49m\u001b[43m \u001b[49m\u001b[43mmodel\u001b[49m\u001b[43m,\u001b[49m\u001b[43m \u001b[49m\u001b[43mtrain_dataloaders\u001b[49m\u001b[43m,\u001b[49m\u001b[43m \u001b[49m\u001b[43mval_dataloaders\u001b[49m\u001b[43m,\u001b[49m\u001b[43m \u001b[49m\u001b[43mdatamodule\u001b[49m\u001b[43m,\u001b[49m\u001b[43m \u001b[49m\u001b[43mckpt_path\u001b[49m\n\u001b[1;32m    546\u001b[0m \u001b[43m\u001b[49m\u001b[43m)\u001b[49m\n",
      "File \u001b[0;32m~/miniconda3/envs/graph/lib/python3.9/site-packages/lightning/pytorch/trainer/call.py:44\u001b[0m, in \u001b[0;36m_call_and_handle_interrupt\u001b[0;34m(trainer, trainer_fn, *args, **kwargs)\u001b[0m\n\u001b[1;32m     42\u001b[0m     \u001b[38;5;28;01mif\u001b[39;00m trainer\u001b[38;5;241m.\u001b[39mstrategy\u001b[38;5;241m.\u001b[39mlauncher \u001b[38;5;129;01mis\u001b[39;00m \u001b[38;5;129;01mnot\u001b[39;00m \u001b[38;5;28;01mNone\u001b[39;00m:\n\u001b[1;32m     43\u001b[0m         \u001b[38;5;28;01mreturn\u001b[39;00m trainer\u001b[38;5;241m.\u001b[39mstrategy\u001b[38;5;241m.\u001b[39mlauncher\u001b[38;5;241m.\u001b[39mlaunch(trainer_fn, \u001b[38;5;241m*\u001b[39margs, trainer\u001b[38;5;241m=\u001b[39mtrainer, \u001b[38;5;241m*\u001b[39m\u001b[38;5;241m*\u001b[39mkwargs)\n\u001b[0;32m---> 44\u001b[0m     \u001b[38;5;28;01mreturn\u001b[39;00m \u001b[43mtrainer_fn\u001b[49m\u001b[43m(\u001b[49m\u001b[38;5;241;43m*\u001b[39;49m\u001b[43margs\u001b[49m\u001b[43m,\u001b[49m\u001b[43m \u001b[49m\u001b[38;5;241;43m*\u001b[39;49m\u001b[38;5;241;43m*\u001b[39;49m\u001b[43mkwargs\u001b[49m\u001b[43m)\u001b[49m\n\u001b[1;32m     46\u001b[0m \u001b[38;5;28;01mexcept\u001b[39;00m _TunerExitException:\n\u001b[1;32m     47\u001b[0m     _call_teardown_hook(trainer)\n",
      "File \u001b[0;32m~/miniconda3/envs/graph/lib/python3.9/site-packages/lightning/pytorch/trainer/trainer.py:580\u001b[0m, in \u001b[0;36mTrainer._fit_impl\u001b[0;34m(self, model, train_dataloaders, val_dataloaders, datamodule, ckpt_path)\u001b[0m\n\u001b[1;32m    573\u001b[0m \u001b[38;5;28;01massert\u001b[39;00m \u001b[38;5;28mself\u001b[39m\u001b[38;5;241m.\u001b[39mstate\u001b[38;5;241m.\u001b[39mfn \u001b[38;5;129;01mis\u001b[39;00m \u001b[38;5;129;01mnot\u001b[39;00m \u001b[38;5;28;01mNone\u001b[39;00m\n\u001b[1;32m    574\u001b[0m ckpt_path \u001b[38;5;241m=\u001b[39m \u001b[38;5;28mself\u001b[39m\u001b[38;5;241m.\u001b[39m_checkpoint_connector\u001b[38;5;241m.\u001b[39m_select_ckpt_path(\n\u001b[1;32m    575\u001b[0m     \u001b[38;5;28mself\u001b[39m\u001b[38;5;241m.\u001b[39mstate\u001b[38;5;241m.\u001b[39mfn,\n\u001b[1;32m    576\u001b[0m     ckpt_path,\n\u001b[1;32m    577\u001b[0m     model_provided\u001b[38;5;241m=\u001b[39m\u001b[38;5;28;01mTrue\u001b[39;00m,\n\u001b[1;32m    578\u001b[0m     model_connected\u001b[38;5;241m=\u001b[39m\u001b[38;5;28mself\u001b[39m\u001b[38;5;241m.\u001b[39mlightning_module \u001b[38;5;129;01mis\u001b[39;00m \u001b[38;5;129;01mnot\u001b[39;00m \u001b[38;5;28;01mNone\u001b[39;00m,\n\u001b[1;32m    579\u001b[0m )\n\u001b[0;32m--> 580\u001b[0m \u001b[38;5;28;43mself\u001b[39;49m\u001b[38;5;241;43m.\u001b[39;49m\u001b[43m_run\u001b[49m\u001b[43m(\u001b[49m\u001b[43mmodel\u001b[49m\u001b[43m,\u001b[49m\u001b[43m \u001b[49m\u001b[43mckpt_path\u001b[49m\u001b[38;5;241;43m=\u001b[39;49m\u001b[43mckpt_path\u001b[49m\u001b[43m)\u001b[49m\n\u001b[1;32m    582\u001b[0m \u001b[38;5;28;01massert\u001b[39;00m \u001b[38;5;28mself\u001b[39m\u001b[38;5;241m.\u001b[39mstate\u001b[38;5;241m.\u001b[39mstopped\n\u001b[1;32m    583\u001b[0m \u001b[38;5;28mself\u001b[39m\u001b[38;5;241m.\u001b[39mtraining \u001b[38;5;241m=\u001b[39m \u001b[38;5;28;01mFalse\u001b[39;00m\n",
      "File \u001b[0;32m~/miniconda3/envs/graph/lib/python3.9/site-packages/lightning/pytorch/trainer/trainer.py:987\u001b[0m, in \u001b[0;36mTrainer._run\u001b[0;34m(self, model, ckpt_path)\u001b[0m\n\u001b[1;32m    982\u001b[0m \u001b[38;5;28mself\u001b[39m\u001b[38;5;241m.\u001b[39m_signal_connector\u001b[38;5;241m.\u001b[39mregister_signal_handlers()\n\u001b[1;32m    984\u001b[0m \u001b[38;5;66;03m# ----------------------------\u001b[39;00m\n\u001b[1;32m    985\u001b[0m \u001b[38;5;66;03m# RUN THE TRAINER\u001b[39;00m\n\u001b[1;32m    986\u001b[0m \u001b[38;5;66;03m# ----------------------------\u001b[39;00m\n\u001b[0;32m--> 987\u001b[0m results \u001b[38;5;241m=\u001b[39m \u001b[38;5;28;43mself\u001b[39;49m\u001b[38;5;241;43m.\u001b[39;49m\u001b[43m_run_stage\u001b[49m\u001b[43m(\u001b[49m\u001b[43m)\u001b[49m\n\u001b[1;32m    989\u001b[0m \u001b[38;5;66;03m# ----------------------------\u001b[39;00m\n\u001b[1;32m    990\u001b[0m \u001b[38;5;66;03m# POST-Training CLEAN UP\u001b[39;00m\n\u001b[1;32m    991\u001b[0m \u001b[38;5;66;03m# ----------------------------\u001b[39;00m\n\u001b[1;32m    992\u001b[0m log\u001b[38;5;241m.\u001b[39mdebug(\u001b[38;5;124mf\u001b[39m\u001b[38;5;124m\"\u001b[39m\u001b[38;5;132;01m{\u001b[39;00m\u001b[38;5;28mself\u001b[39m\u001b[38;5;241m.\u001b[39m\u001b[38;5;18m__class__\u001b[39m\u001b[38;5;241m.\u001b[39m\u001b[38;5;18m__name__\u001b[39m\u001b[38;5;132;01m}\u001b[39;00m\u001b[38;5;124m: trainer tearing down\u001b[39m\u001b[38;5;124m\"\u001b[39m)\n",
      "File \u001b[0;32m~/miniconda3/envs/graph/lib/python3.9/site-packages/lightning/pytorch/trainer/trainer.py:1033\u001b[0m, in \u001b[0;36mTrainer._run_stage\u001b[0;34m(self)\u001b[0m\n\u001b[1;32m   1031\u001b[0m         \u001b[38;5;28mself\u001b[39m\u001b[38;5;241m.\u001b[39m_run_sanity_check()\n\u001b[1;32m   1032\u001b[0m     \u001b[38;5;28;01mwith\u001b[39;00m torch\u001b[38;5;241m.\u001b[39mautograd\u001b[38;5;241m.\u001b[39mset_detect_anomaly(\u001b[38;5;28mself\u001b[39m\u001b[38;5;241m.\u001b[39m_detect_anomaly):\n\u001b[0;32m-> 1033\u001b[0m         \u001b[38;5;28;43mself\u001b[39;49m\u001b[38;5;241;43m.\u001b[39;49m\u001b[43mfit_loop\u001b[49m\u001b[38;5;241;43m.\u001b[39;49m\u001b[43mrun\u001b[49m\u001b[43m(\u001b[49m\u001b[43m)\u001b[49m\n\u001b[1;32m   1034\u001b[0m     \u001b[38;5;28;01mreturn\u001b[39;00m \u001b[38;5;28;01mNone\u001b[39;00m\n\u001b[1;32m   1035\u001b[0m \u001b[38;5;28;01mraise\u001b[39;00m \u001b[38;5;167;01mRuntimeError\u001b[39;00m(\u001b[38;5;124mf\u001b[39m\u001b[38;5;124m\"\u001b[39m\u001b[38;5;124mUnexpected state \u001b[39m\u001b[38;5;132;01m{\u001b[39;00m\u001b[38;5;28mself\u001b[39m\u001b[38;5;241m.\u001b[39mstate\u001b[38;5;132;01m}\u001b[39;00m\u001b[38;5;124m\"\u001b[39m)\n",
      "File \u001b[0;32m~/miniconda3/envs/graph/lib/python3.9/site-packages/lightning/pytorch/loops/fit_loop.py:206\u001b[0m, in \u001b[0;36m_FitLoop.run\u001b[0;34m(self)\u001b[0m\n\u001b[1;32m    204\u001b[0m     \u001b[38;5;28mself\u001b[39m\u001b[38;5;241m.\u001b[39mon_advance_start()\n\u001b[1;32m    205\u001b[0m     \u001b[38;5;28mself\u001b[39m\u001b[38;5;241m.\u001b[39madvance()\n\u001b[0;32m--> 206\u001b[0m     \u001b[38;5;28;43mself\u001b[39;49m\u001b[38;5;241;43m.\u001b[39;49m\u001b[43mon_advance_end\u001b[49m\u001b[43m(\u001b[49m\u001b[43m)\u001b[49m\n\u001b[1;32m    207\u001b[0m     \u001b[38;5;28mself\u001b[39m\u001b[38;5;241m.\u001b[39m_restarting \u001b[38;5;241m=\u001b[39m \u001b[38;5;28;01mFalse\u001b[39;00m\n\u001b[1;32m    208\u001b[0m \u001b[38;5;28;01mexcept\u001b[39;00m \u001b[38;5;167;01mStopIteration\u001b[39;00m:\n",
      "File \u001b[0;32m~/miniconda3/envs/graph/lib/python3.9/site-packages/lightning/pytorch/loops/fit_loop.py:378\u001b[0m, in \u001b[0;36m_FitLoop.on_advance_end\u001b[0;34m(self)\u001b[0m\n\u001b[1;32m    376\u001b[0m call\u001b[38;5;241m.\u001b[39m_call_callback_hooks(trainer, \u001b[38;5;124m\"\u001b[39m\u001b[38;5;124mon_train_epoch_end\u001b[39m\u001b[38;5;124m\"\u001b[39m, monitoring_callbacks\u001b[38;5;241m=\u001b[39m\u001b[38;5;28;01mFalse\u001b[39;00m)\n\u001b[1;32m    377\u001b[0m call\u001b[38;5;241m.\u001b[39m_call_lightning_module_hook(trainer, \u001b[38;5;124m\"\u001b[39m\u001b[38;5;124mon_train_epoch_end\u001b[39m\u001b[38;5;124m\"\u001b[39m)\n\u001b[0;32m--> 378\u001b[0m \u001b[43mcall\u001b[49m\u001b[38;5;241;43m.\u001b[39;49m\u001b[43m_call_callback_hooks\u001b[49m\u001b[43m(\u001b[49m\u001b[43mtrainer\u001b[49m\u001b[43m,\u001b[49m\u001b[43m \u001b[49m\u001b[38;5;124;43m\"\u001b[39;49m\u001b[38;5;124;43mon_train_epoch_end\u001b[39;49m\u001b[38;5;124;43m\"\u001b[39;49m\u001b[43m,\u001b[49m\u001b[43m \u001b[49m\u001b[43mmonitoring_callbacks\u001b[49m\u001b[38;5;241;43m=\u001b[39;49m\u001b[38;5;28;43;01mTrue\u001b[39;49;00m\u001b[43m)\u001b[49m\n\u001b[1;32m    380\u001b[0m trainer\u001b[38;5;241m.\u001b[39m_logger_connector\u001b[38;5;241m.\u001b[39mon_epoch_end()\n\u001b[1;32m    382\u001b[0m \u001b[38;5;28;01mif\u001b[39;00m \u001b[38;5;28mself\u001b[39m\u001b[38;5;241m.\u001b[39mepoch_loop\u001b[38;5;241m.\u001b[39m_num_ready_batches_reached():\n\u001b[1;32m    383\u001b[0m     \u001b[38;5;66;03m# if we are restarting and the above condition holds, it's because we are reloading an epoch-end checkpoint.\u001b[39;00m\n\u001b[1;32m    384\u001b[0m     \u001b[38;5;66;03m# since metric-based schedulers require access to metrics and those are not currently saved in the\u001b[39;00m\n\u001b[1;32m    385\u001b[0m     \u001b[38;5;66;03m# checkpoint, the plateau schedulers shouldn't be updated\u001b[39;00m\n",
      "File \u001b[0;32m~/miniconda3/envs/graph/lib/python3.9/site-packages/lightning/pytorch/trainer/call.py:208\u001b[0m, in \u001b[0;36m_call_callback_hooks\u001b[0;34m(trainer, hook_name, monitoring_callbacks, *args, **kwargs)\u001b[0m\n\u001b[1;32m    206\u001b[0m     \u001b[38;5;28;01mif\u001b[39;00m \u001b[38;5;28mcallable\u001b[39m(fn):\n\u001b[1;32m    207\u001b[0m         \u001b[38;5;28;01mwith\u001b[39;00m trainer\u001b[38;5;241m.\u001b[39mprofiler\u001b[38;5;241m.\u001b[39mprofile(\u001b[38;5;124mf\u001b[39m\u001b[38;5;124m\"\u001b[39m\u001b[38;5;124m[Callback]\u001b[39m\u001b[38;5;132;01m{\u001b[39;00mcallback\u001b[38;5;241m.\u001b[39mstate_key\u001b[38;5;132;01m}\u001b[39;00m\u001b[38;5;124m.\u001b[39m\u001b[38;5;132;01m{\u001b[39;00mhook_name\u001b[38;5;132;01m}\u001b[39;00m\u001b[38;5;124m\"\u001b[39m):\n\u001b[0;32m--> 208\u001b[0m             \u001b[43mfn\u001b[49m\u001b[43m(\u001b[49m\u001b[43mtrainer\u001b[49m\u001b[43m,\u001b[49m\u001b[43m \u001b[49m\u001b[43mtrainer\u001b[49m\u001b[38;5;241;43m.\u001b[39;49m\u001b[43mlightning_module\u001b[49m\u001b[43m,\u001b[49m\u001b[43m \u001b[49m\u001b[38;5;241;43m*\u001b[39;49m\u001b[43margs\u001b[49m\u001b[43m,\u001b[49m\u001b[43m \u001b[49m\u001b[38;5;241;43m*\u001b[39;49m\u001b[38;5;241;43m*\u001b[39;49m\u001b[43mkwargs\u001b[49m\u001b[43m)\u001b[49m\n\u001b[1;32m    210\u001b[0m \u001b[38;5;28;01mif\u001b[39;00m pl_module:\n\u001b[1;32m    211\u001b[0m     \u001b[38;5;66;03m# restore current_fx when nested context\u001b[39;00m\n\u001b[1;32m    212\u001b[0m     pl_module\u001b[38;5;241m.\u001b[39m_current_fx_name \u001b[38;5;241m=\u001b[39m prev_fx_name\n",
      "File \u001b[0;32m~/miniconda3/envs/graph/lib/python3.9/site-packages/lightning/pytorch/callbacks/model_checkpoint.py:325\u001b[0m, in \u001b[0;36mModelCheckpoint.on_train_epoch_end\u001b[0;34m(self, trainer, pl_module)\u001b[0m\n\u001b[1;32m    323\u001b[0m \u001b[38;5;28;01mif\u001b[39;00m \u001b[38;5;28mself\u001b[39m\u001b[38;5;241m.\u001b[39m_every_n_epochs \u001b[38;5;241m>\u001b[39m\u001b[38;5;241m=\u001b[39m \u001b[38;5;241m1\u001b[39m \u001b[38;5;129;01mand\u001b[39;00m (trainer\u001b[38;5;241m.\u001b[39mcurrent_epoch \u001b[38;5;241m+\u001b[39m \u001b[38;5;241m1\u001b[39m) \u001b[38;5;241m%\u001b[39m \u001b[38;5;28mself\u001b[39m\u001b[38;5;241m.\u001b[39m_every_n_epochs \u001b[38;5;241m==\u001b[39m \u001b[38;5;241m0\u001b[39m:\n\u001b[1;32m    324\u001b[0m     \u001b[38;5;28mself\u001b[39m\u001b[38;5;241m.\u001b[39m_save_topk_checkpoint(trainer, monitor_candidates)\n\u001b[0;32m--> 325\u001b[0m \u001b[38;5;28;43mself\u001b[39;49m\u001b[38;5;241;43m.\u001b[39;49m\u001b[43m_save_last_checkpoint\u001b[49m\u001b[43m(\u001b[49m\u001b[43mtrainer\u001b[49m\u001b[43m,\u001b[49m\u001b[43m \u001b[49m\u001b[43mmonitor_candidates\u001b[49m\u001b[43m)\u001b[49m\n",
      "File \u001b[0;32m~/miniconda3/envs/graph/lib/python3.9/site-packages/lightning/pytorch/callbacks/model_checkpoint.py:695\u001b[0m, in \u001b[0;36mModelCheckpoint._save_last_checkpoint\u001b[0;34m(self, trainer, monitor_candidates)\u001b[0m\n\u001b[1;32m    693\u001b[0m     \u001b[38;5;28mself\u001b[39m\u001b[38;5;241m.\u001b[39m_link_checkpoint(trainer, \u001b[38;5;28mself\u001b[39m\u001b[38;5;241m.\u001b[39m_last_checkpoint_saved, filepath)\n\u001b[1;32m    694\u001b[0m \u001b[38;5;28;01melse\u001b[39;00m:\n\u001b[0;32m--> 695\u001b[0m     \u001b[38;5;28;43mself\u001b[39;49m\u001b[38;5;241;43m.\u001b[39;49m\u001b[43m_save_checkpoint\u001b[49m\u001b[43m(\u001b[49m\u001b[43mtrainer\u001b[49m\u001b[43m,\u001b[49m\u001b[43m \u001b[49m\u001b[43mfilepath\u001b[49m\u001b[43m)\u001b[49m\n\u001b[1;32m    696\u001b[0m \u001b[38;5;28;01mif\u001b[39;00m previous \u001b[38;5;129;01mand\u001b[39;00m \u001b[38;5;28mself\u001b[39m\u001b[38;5;241m.\u001b[39m_should_remove_checkpoint(trainer, previous, filepath):\n\u001b[1;32m    697\u001b[0m     \u001b[38;5;28mself\u001b[39m\u001b[38;5;241m.\u001b[39m_remove_checkpoint(trainer, previous)\n",
      "File \u001b[0;32m~/miniconda3/envs/graph/lib/python3.9/site-packages/lightning/pytorch/callbacks/model_checkpoint.py:397\u001b[0m, in \u001b[0;36mModelCheckpoint._save_checkpoint\u001b[0;34m(self, trainer, filepath)\u001b[0m\n\u001b[1;32m    395\u001b[0m \u001b[38;5;28;01mif\u001b[39;00m trainer\u001b[38;5;241m.\u001b[39mis_global_zero:\n\u001b[1;32m    396\u001b[0m     \u001b[38;5;28;01mfor\u001b[39;00m logger \u001b[38;5;129;01min\u001b[39;00m trainer\u001b[38;5;241m.\u001b[39mloggers:\n\u001b[0;32m--> 397\u001b[0m         \u001b[43mlogger\u001b[49m\u001b[38;5;241;43m.\u001b[39;49m\u001b[43mafter_save_checkpoint\u001b[49m\u001b[43m(\u001b[49m\u001b[43mproxy\u001b[49m\u001b[43m(\u001b[49m\u001b[38;5;28;43mself\u001b[39;49m\u001b[43m)\u001b[49m\u001b[43m)\u001b[49m\n",
      "File \u001b[0;32m~/miniconda3/envs/graph/lib/python3.9/site-packages/lightning/pytorch/loggers/wandb.py:582\u001b[0m, in \u001b[0;36mWandbLogger.after_save_checkpoint\u001b[0;34m(self, checkpoint_callback)\u001b[0m\n\u001b[1;32m    578\u001b[0m \u001b[38;5;129m@override\u001b[39m\n\u001b[1;32m    579\u001b[0m \u001b[38;5;28;01mdef\u001b[39;00m \u001b[38;5;21mafter_save_checkpoint\u001b[39m(\u001b[38;5;28mself\u001b[39m, checkpoint_callback: ModelCheckpoint) \u001b[38;5;241m-\u001b[39m\u001b[38;5;241m>\u001b[39m \u001b[38;5;28;01mNone\u001b[39;00m:\n\u001b[1;32m    580\u001b[0m     \u001b[38;5;66;03m# log checkpoints as artifacts\u001b[39;00m\n\u001b[1;32m    581\u001b[0m     \u001b[38;5;28;01mif\u001b[39;00m \u001b[38;5;28mself\u001b[39m\u001b[38;5;241m.\u001b[39m_log_model \u001b[38;5;241m==\u001b[39m \u001b[38;5;124m\"\u001b[39m\u001b[38;5;124mall\u001b[39m\u001b[38;5;124m\"\u001b[39m \u001b[38;5;129;01mor\u001b[39;00m \u001b[38;5;28mself\u001b[39m\u001b[38;5;241m.\u001b[39m_log_model \u001b[38;5;129;01mis\u001b[39;00m \u001b[38;5;28;01mTrue\u001b[39;00m \u001b[38;5;129;01mand\u001b[39;00m checkpoint_callback\u001b[38;5;241m.\u001b[39msave_top_k \u001b[38;5;241m==\u001b[39m \u001b[38;5;241m-\u001b[39m\u001b[38;5;241m1\u001b[39m:\n\u001b[0;32m--> 582\u001b[0m         \u001b[38;5;28;43mself\u001b[39;49m\u001b[38;5;241;43m.\u001b[39;49m\u001b[43m_scan_and_log_checkpoints\u001b[49m\u001b[43m(\u001b[49m\u001b[43mcheckpoint_callback\u001b[49m\u001b[43m)\u001b[49m\n\u001b[1;32m    583\u001b[0m     \u001b[38;5;28;01melif\u001b[39;00m \u001b[38;5;28mself\u001b[39m\u001b[38;5;241m.\u001b[39m_log_model \u001b[38;5;129;01mis\u001b[39;00m \u001b[38;5;28;01mTrue\u001b[39;00m:\n\u001b[1;32m    584\u001b[0m         \u001b[38;5;28mself\u001b[39m\u001b[38;5;241m.\u001b[39m_checkpoint_callback \u001b[38;5;241m=\u001b[39m checkpoint_callback\n",
      "File \u001b[0;32m~/miniconda3/envs/graph/lib/python3.9/site-packages/lightning/pytorch/loggers/wandb.py:668\u001b[0m, in \u001b[0;36mWandbLogger._scan_and_log_checkpoints\u001b[0;34m(self, checkpoint_callback)\u001b[0m\n\u001b[1;32m    666\u001b[0m     \u001b[38;5;28mself\u001b[39m\u001b[38;5;241m.\u001b[39m_checkpoint_name \u001b[38;5;241m=\u001b[39m \u001b[38;5;124mf\u001b[39m\u001b[38;5;124m\"\u001b[39m\u001b[38;5;124mmodel-\u001b[39m\u001b[38;5;132;01m{\u001b[39;00m\u001b[38;5;28mself\u001b[39m\u001b[38;5;241m.\u001b[39mexperiment\u001b[38;5;241m.\u001b[39mid\u001b[38;5;132;01m}\u001b[39;00m\u001b[38;5;124m\"\u001b[39m\n\u001b[1;32m    667\u001b[0m artifact \u001b[38;5;241m=\u001b[39m wandb\u001b[38;5;241m.\u001b[39mArtifact(name\u001b[38;5;241m=\u001b[39m\u001b[38;5;28mself\u001b[39m\u001b[38;5;241m.\u001b[39m_checkpoint_name, \u001b[38;5;28mtype\u001b[39m\u001b[38;5;241m=\u001b[39m\u001b[38;5;124m\"\u001b[39m\u001b[38;5;124mmodel\u001b[39m\u001b[38;5;124m\"\u001b[39m, metadata\u001b[38;5;241m=\u001b[39mmetadata)\n\u001b[0;32m--> 668\u001b[0m \u001b[43martifact\u001b[49m\u001b[38;5;241;43m.\u001b[39;49m\u001b[43madd_file\u001b[49m\u001b[43m(\u001b[49m\u001b[43mp\u001b[49m\u001b[43m,\u001b[49m\u001b[43m \u001b[49m\u001b[43mname\u001b[49m\u001b[38;5;241;43m=\u001b[39;49m\u001b[38;5;124;43m\"\u001b[39;49m\u001b[38;5;124;43mmodel.ckpt\u001b[39;49m\u001b[38;5;124;43m\"\u001b[39;49m\u001b[43m)\u001b[49m\n\u001b[1;32m    669\u001b[0m aliases \u001b[38;5;241m=\u001b[39m [\u001b[38;5;124m\"\u001b[39m\u001b[38;5;124mlatest\u001b[39m\u001b[38;5;124m\"\u001b[39m, \u001b[38;5;124m\"\u001b[39m\u001b[38;5;124mbest\u001b[39m\u001b[38;5;124m\"\u001b[39m] \u001b[38;5;28;01mif\u001b[39;00m p \u001b[38;5;241m==\u001b[39m checkpoint_callback\u001b[38;5;241m.\u001b[39mbest_model_path \u001b[38;5;28;01melse\u001b[39;00m [\u001b[38;5;124m\"\u001b[39m\u001b[38;5;124mlatest\u001b[39m\u001b[38;5;124m\"\u001b[39m]\n\u001b[1;32m    670\u001b[0m \u001b[38;5;28mself\u001b[39m\u001b[38;5;241m.\u001b[39mexperiment\u001b[38;5;241m.\u001b[39mlog_artifact(artifact, aliases\u001b[38;5;241m=\u001b[39maliases)\n",
      "File \u001b[0;32m~/miniconda3/envs/graph/lib/python3.9/site-packages/wandb/sdk/artifacts/artifact.py:1162\u001b[0m, in \u001b[0;36mArtifact.add_file\u001b[0;34m(self, local_path, name, is_tmp)\u001b[0m\n\u001b[1;32m   1159\u001b[0m     file_name_parts[\u001b[38;5;241m0\u001b[39m] \u001b[38;5;241m=\u001b[39m b64_to_hex_id(digest)[:\u001b[38;5;241m20\u001b[39m]\n\u001b[1;32m   1160\u001b[0m     name \u001b[38;5;241m=\u001b[39m os\u001b[38;5;241m.\u001b[39mpath\u001b[38;5;241m.\u001b[39mjoin(file_path, \u001b[38;5;124m\"\u001b[39m\u001b[38;5;124m.\u001b[39m\u001b[38;5;124m\"\u001b[39m\u001b[38;5;241m.\u001b[39mjoin(file_name_parts))\n\u001b[0;32m-> 1162\u001b[0m \u001b[38;5;28;01mreturn\u001b[39;00m \u001b[38;5;28;43mself\u001b[39;49m\u001b[38;5;241;43m.\u001b[39;49m\u001b[43m_add_local_file\u001b[49m\u001b[43m(\u001b[49m\u001b[43mname\u001b[49m\u001b[43m,\u001b[49m\u001b[43m \u001b[49m\u001b[43mlocal_path\u001b[49m\u001b[43m,\u001b[49m\u001b[43m \u001b[49m\u001b[43mdigest\u001b[49m\u001b[38;5;241;43m=\u001b[39;49m\u001b[43mdigest\u001b[49m\u001b[43m)\u001b[49m\n",
      "File \u001b[0;32m~/miniconda3/envs/graph/lib/python3.9/site-packages/wandb/sdk/artifacts/artifact.py:1393\u001b[0m, in \u001b[0;36mArtifact._add_local_file\u001b[0;34m(self, name, path, digest)\u001b[0m\n\u001b[1;32m   1391\u001b[0m \u001b[38;5;28;01mwith\u001b[39;00m tempfile\u001b[38;5;241m.\u001b[39mNamedTemporaryFile(\u001b[38;5;28mdir\u001b[39m\u001b[38;5;241m=\u001b[39mget_staging_dir(), delete\u001b[38;5;241m=\u001b[39m\u001b[38;5;28;01mFalse\u001b[39;00m) \u001b[38;5;28;01mas\u001b[39;00m f:\n\u001b[1;32m   1392\u001b[0m     staging_path \u001b[38;5;241m=\u001b[39m f\u001b[38;5;241m.\u001b[39mname\n\u001b[0;32m-> 1393\u001b[0m     \u001b[43mshutil\u001b[49m\u001b[38;5;241;43m.\u001b[39;49m\u001b[43mcopyfile\u001b[49m\u001b[43m(\u001b[49m\u001b[43mpath\u001b[49m\u001b[43m,\u001b[49m\u001b[43m \u001b[49m\u001b[43mstaging_path\u001b[49m\u001b[43m)\u001b[49m\n\u001b[1;32m   1394\u001b[0m     os\u001b[38;5;241m.\u001b[39mchmod(staging_path, \u001b[38;5;241m0o400\u001b[39m)\n\u001b[1;32m   1396\u001b[0m entry \u001b[38;5;241m=\u001b[39m ArtifactManifestEntry(\n\u001b[1;32m   1397\u001b[0m     path\u001b[38;5;241m=\u001b[39mname,\n\u001b[1;32m   1398\u001b[0m     digest\u001b[38;5;241m=\u001b[39mdigest \u001b[38;5;129;01mor\u001b[39;00m md5_file_b64(staging_path),\n\u001b[1;32m   1399\u001b[0m     size\u001b[38;5;241m=\u001b[39mos\u001b[38;5;241m.\u001b[39mpath\u001b[38;5;241m.\u001b[39mgetsize(staging_path),\n\u001b[1;32m   1400\u001b[0m     local_path\u001b[38;5;241m=\u001b[39mstaging_path,\n\u001b[1;32m   1401\u001b[0m )\n",
      "File \u001b[0;32m~/miniconda3/envs/graph/lib/python3.9/shutil.py:277\u001b[0m, in \u001b[0;36mcopyfile\u001b[0;34m(src, dst, follow_symlinks)\u001b[0m\n\u001b[1;32m    275\u001b[0m \u001b[38;5;28;01melif\u001b[39;00m _USE_CP_SENDFILE:\n\u001b[1;32m    276\u001b[0m     \u001b[38;5;28;01mtry\u001b[39;00m:\n\u001b[0;32m--> 277\u001b[0m         \u001b[43m_fastcopy_sendfile\u001b[49m\u001b[43m(\u001b[49m\u001b[43mfsrc\u001b[49m\u001b[43m,\u001b[49m\u001b[43m \u001b[49m\u001b[43mfdst\u001b[49m\u001b[43m)\u001b[49m\n\u001b[1;32m    278\u001b[0m         \u001b[38;5;28;01mreturn\u001b[39;00m dst\n\u001b[1;32m    279\u001b[0m     \u001b[38;5;28;01mexcept\u001b[39;00m _GiveupOnFastCopy:\n",
      "File \u001b[0;32m~/miniconda3/envs/graph/lib/python3.9/shutil.py:166\u001b[0m, in \u001b[0;36m_fastcopy_sendfile\u001b[0;34m(fsrc, fdst)\u001b[0m\n\u001b[1;32m    163\u001b[0m     \u001b[38;5;28;01mraise\u001b[39;00m _GiveupOnFastCopy(err)\n\u001b[1;32m    165\u001b[0m \u001b[38;5;28;01mif\u001b[39;00m err\u001b[38;5;241m.\u001b[39merrno \u001b[38;5;241m==\u001b[39m errno\u001b[38;5;241m.\u001b[39mENOSPC:  \u001b[38;5;66;03m# filesystem is full\u001b[39;00m\n\u001b[0;32m--> 166\u001b[0m     \u001b[38;5;28;01mraise\u001b[39;00m err \u001b[38;5;28;01mfrom\u001b[39;00m \u001b[38;5;28;01mNone\u001b[39;00m\n\u001b[1;32m    168\u001b[0m \u001b[38;5;66;03m# Give up on first call and if no data was copied.\u001b[39;00m\n\u001b[1;32m    169\u001b[0m \u001b[38;5;28;01mif\u001b[39;00m offset \u001b[38;5;241m==\u001b[39m \u001b[38;5;241m0\u001b[39m \u001b[38;5;129;01mand\u001b[39;00m os\u001b[38;5;241m.\u001b[39mlseek(outfd, \u001b[38;5;241m0\u001b[39m, os\u001b[38;5;241m.\u001b[39mSEEK_CUR) \u001b[38;5;241m==\u001b[39m \u001b[38;5;241m0\u001b[39m:\n",
      "File \u001b[0;32m~/miniconda3/envs/graph/lib/python3.9/shutil.py:152\u001b[0m, in \u001b[0;36m_fastcopy_sendfile\u001b[0;34m(fsrc, fdst)\u001b[0m\n\u001b[1;32m    150\u001b[0m \u001b[38;5;28;01mwhile\u001b[39;00m \u001b[38;5;28;01mTrue\u001b[39;00m:\n\u001b[1;32m    151\u001b[0m     \u001b[38;5;28;01mtry\u001b[39;00m:\n\u001b[0;32m--> 152\u001b[0m         sent \u001b[38;5;241m=\u001b[39m \u001b[43mos\u001b[49m\u001b[38;5;241;43m.\u001b[39;49m\u001b[43msendfile\u001b[49m\u001b[43m(\u001b[49m\u001b[43moutfd\u001b[49m\u001b[43m,\u001b[49m\u001b[43m \u001b[49m\u001b[43minfd\u001b[49m\u001b[43m,\u001b[49m\u001b[43m \u001b[49m\u001b[43moffset\u001b[49m\u001b[43m,\u001b[49m\u001b[43m \u001b[49m\u001b[43mblocksize\u001b[49m\u001b[43m)\u001b[49m\n\u001b[1;32m    153\u001b[0m     \u001b[38;5;28;01mexcept\u001b[39;00m \u001b[38;5;167;01mOSError\u001b[39;00m \u001b[38;5;28;01mas\u001b[39;00m err:\n\u001b[1;32m    154\u001b[0m         \u001b[38;5;66;03m# ...in oder to have a more informative exception.\u001b[39;00m\n\u001b[1;32m    155\u001b[0m         err\u001b[38;5;241m.\u001b[39mfilename \u001b[38;5;241m=\u001b[39m fsrc\u001b[38;5;241m.\u001b[39mname\n",
      "\u001b[0;31mOSError\u001b[0m: [Errno 28] No space left on device: '/media/hoangtran/T7/graph-anomaly-detection/link_prediction/results/checkpoints/graphsage/loss/last-v8.ckpt' -> '/home/hoangtran/.local/share/wandb/artifacts/staging/tmpa_1iuoah'"
     ]
    },
    {
     "name": "stderr",
     "output_type": "stream",
     "text": [
      "wandb: WARNING Cache size exceeded. Attempting to reclaim space...\n",
      "wandb: ERROR Error uploading \"/home/hoangtran/.local/share/wandb/artifacts/staging/tmpwbbsqqqf\": FileNotFoundError, [Errno 2] No such file or directory: '/home/hoangtran/.local/share/wandb/artifacts/staging/tmpwbbsqqqf'\n",
      "wandb: ERROR Uploading artifact file failed. Artifact won't be committed.\n",
      "wandb: ERROR Error uploading \"/home/hoangtran/.local/share/wandb/artifacts/staging/tmpf7_uvc16\": FileNotFoundError, [Errno 2] No such file or directory: '/home/hoangtran/.local/share/wandb/artifacts/staging/tmpf7_uvc16'\n",
      "wandb: ERROR Uploading artifact file failed. Artifact won't be committed.\n",
      "wandb: ERROR Error uploading \"/home/hoangtran/.local/share/wandb/artifacts/staging/tmp02mkzmlq\": FileNotFoundError, [Errno 2] No such file or directory: '/home/hoangtran/.local/share/wandb/artifacts/staging/tmp02mkzmlq'\n",
      "wandb: ERROR Uploading artifact file failed. Artifact won't be committed.\n",
      "wandb: ERROR Error uploading \"/home/hoangtran/.local/share/wandb/artifacts/staging/tmpr5z46itg\": FileNotFoundError, [Errno 2] No such file or directory: '/home/hoangtran/.local/share/wandb/artifacts/staging/tmpr5z46itg'\n",
      "wandb: ERROR Uploading artifact file failed. Artifact won't be committed.\n",
      "wandb: ERROR Error uploading \"/home/hoangtran/.local/share/wandb/artifacts/staging/tmpj0hjtune\": FileNotFoundError, [Errno 2] No such file or directory: '/home/hoangtran/.local/share/wandb/artifacts/staging/tmpj0hjtune'\n",
      "wandb: ERROR Uploading artifact file failed. Artifact won't be committed.\n",
      "wandb: ERROR Error uploading \"/home/hoangtran/.local/share/wandb/artifacts/staging/tmptuwfm8sh\": FileNotFoundError, [Errno 2] No such file or directory: '/home/hoangtran/.local/share/wandb/artifacts/staging/tmptuwfm8sh'\n",
      "wandb: ERROR Uploading artifact file failed. Artifact won't be committed.\n",
      "wandb: ERROR Error uploading \"/home/hoangtran/.local/share/wandb/artifacts/staging/tmp4du4hdoy\": FileNotFoundError, [Errno 2] No such file or directory: '/home/hoangtran/.local/share/wandb/artifacts/staging/tmp4du4hdoy'\n",
      "wandb: ERROR Uploading artifact file failed. Artifact won't be committed.\n",
      "wandb: ERROR Error uploading \"/home/hoangtran/.local/share/wandb/artifacts/staging/tmpaz022r11\": FileNotFoundError, [Errno 2] No such file or directory: '/home/hoangtran/.local/share/wandb/artifacts/staging/tmpaz022r11'\n",
      "wandb: ERROR Uploading artifact file failed. Artifact won't be committed.\n",
      "wandb: ERROR Error uploading \"/home/hoangtran/.local/share/wandb/artifacts/staging/tmp2n7zro93\": FileNotFoundError, [Errno 2] No such file or directory: '/home/hoangtran/.local/share/wandb/artifacts/staging/tmp2n7zro93'\n",
      "wandb: ERROR Uploading artifact file failed. Artifact won't be committed.\n",
      "wandb: ERROR Error uploading \"/home/hoangtran/.local/share/wandb/artifacts/staging/tmptfc1xnmq\": FileNotFoundError, [Errno 2] No such file or directory: '/home/hoangtran/.local/share/wandb/artifacts/staging/tmptfc1xnmq'\n",
      "wandb: ERROR Uploading artifact file failed. Artifact won't be committed.\n",
      "wandb: ERROR Error uploading \"/home/hoangtran/.local/share/wandb/artifacts/staging/tmpuxrtm1c1\": FileNotFoundError, [Errno 2] No such file or directory: '/home/hoangtran/.local/share/wandb/artifacts/staging/tmpuxrtm1c1'\n",
      "wandb: ERROR Uploading artifact file failed. Artifact won't be committed.\n",
      "wandb: ERROR Error uploading \"/home/hoangtran/.local/share/wandb/artifacts/staging/tmp9v8gww9_\": FileNotFoundError, [Errno 2] No such file or directory: '/home/hoangtran/.local/share/wandb/artifacts/staging/tmp9v8gww9_'\n",
      "wandb: ERROR Uploading artifact file failed. Artifact won't be committed.\n",
      "wandb: ERROR Error uploading \"/home/hoangtran/.local/share/wandb/artifacts/staging/tmpr5icmzou\": FileNotFoundError, [Errno 2] No such file or directory: '/home/hoangtran/.local/share/wandb/artifacts/staging/tmpr5icmzou'\n",
      "wandb: ERROR Uploading artifact file failed. Artifact won't be committed.\n",
      "wandb: ERROR Error uploading \"/home/hoangtran/.local/share/wandb/artifacts/staging/tmpkd7kps94\": FileNotFoundError, [Errno 2] No such file or directory: '/home/hoangtran/.local/share/wandb/artifacts/staging/tmpkd7kps94'\n",
      "wandb: ERROR Uploading artifact file failed. Artifact won't be committed.\n",
      "wandb: ERROR Error uploading \"/home/hoangtran/.local/share/wandb/artifacts/staging/tmpvvoqfoew\": FileNotFoundError, [Errno 2] No such file or directory: '/home/hoangtran/.local/share/wandb/artifacts/staging/tmpvvoqfoew'\n",
      "wandb: ERROR Uploading artifact file failed. Artifact won't be committed.\n",
      "wandb: ERROR Error uploading \"/home/hoangtran/.local/share/wandb/artifacts/staging/tmpgvqoamir\": FileNotFoundError, [Errno 2] No such file or directory: '/home/hoangtran/.local/share/wandb/artifacts/staging/tmpgvqoamir'\n",
      "wandb: ERROR Uploading artifact file failed. Artifact won't be committed.\n",
      "wandb: ERROR Error uploading \"/home/hoangtran/.local/share/wandb/artifacts/staging/tmpl7xylvcg\": FileNotFoundError, [Errno 2] No such file or directory: '/home/hoangtran/.local/share/wandb/artifacts/staging/tmpl7xylvcg'\n",
      "wandb: ERROR Uploading artifact file failed. Artifact won't be committed.\n",
      "wandb: ERROR Error uploading \"/home/hoangtran/.local/share/wandb/artifacts/staging/tmpkwyv2z62\": FileNotFoundError, [Errno 2] No such file or directory: '/home/hoangtran/.local/share/wandb/artifacts/staging/tmpkwyv2z62'\n",
      "wandb: ERROR Uploading artifact file failed. Artifact won't be committed.\n",
      "wandb: ERROR Error uploading \"/home/hoangtran/.local/share/wandb/artifacts/staging/tmpouu1x_oz\": FileNotFoundError, [Errno 2] No such file or directory: '/home/hoangtran/.local/share/wandb/artifacts/staging/tmpouu1x_oz'\n",
      "wandb: ERROR Uploading artifact file failed. Artifact won't be committed.\n",
      "wandb: ERROR Error uploading \"/home/hoangtran/.local/share/wandb/artifacts/staging/tmpoj3mo165\": FileNotFoundError, [Errno 2] No such file or directory: '/home/hoangtran/.local/share/wandb/artifacts/staging/tmpoj3mo165'\n",
      "wandb: ERROR Uploading artifact file failed. Artifact won't be committed.\n",
      "wandb: ERROR Error uploading \"/home/hoangtran/.local/share/wandb/artifacts/staging/tmp8p7_j32k\": FileNotFoundError, [Errno 2] No such file or directory: '/home/hoangtran/.local/share/wandb/artifacts/staging/tmp8p7_j32k'\n",
      "wandb: ERROR Uploading artifact file failed. Artifact won't be committed.\n",
      "wandb: ERROR Error uploading \"/home/hoangtran/.local/share/wandb/artifacts/staging/tmp4stw0x2m\": FileNotFoundError, [Errno 2] No such file or directory: '/home/hoangtran/.local/share/wandb/artifacts/staging/tmp4stw0x2m'\n",
      "wandb: ERROR Uploading artifact file failed. Artifact won't be committed.\n",
      "wandb: ERROR Error uploading \"/home/hoangtran/.local/share/wandb/artifacts/staging/tmpv4o7ou5r\": FileNotFoundError, [Errno 2] No such file or directory: '/home/hoangtran/.local/share/wandb/artifacts/staging/tmpv4o7ou5r'\n",
      "wandb: ERROR Uploading artifact file failed. Artifact won't be committed.\n",
      "wandb: ERROR Error uploading \"/home/hoangtran/.local/share/wandb/artifacts/staging/tmpa5f54i_l\": FileNotFoundError, [Errno 2] No such file or directory: '/home/hoangtran/.local/share/wandb/artifacts/staging/tmpa5f54i_l'\n",
      "wandb: ERROR Uploading artifact file failed. Artifact won't be committed.\n",
      "wandb: ERROR Error uploading \"/home/hoangtran/.local/share/wandb/artifacts/staging/tmp8c46sy90\": FileNotFoundError, [Errno 2] No such file or directory: '/home/hoangtran/.local/share/wandb/artifacts/staging/tmp8c46sy90'\n",
      "wandb: ERROR Uploading artifact file failed. Artifact won't be committed.\n",
      "wandb: ERROR Error uploading \"/home/hoangtran/.local/share/wandb/artifacts/staging/tmplsy_qu9k\": FileNotFoundError, [Errno 2] No such file or directory: '/home/hoangtran/.local/share/wandb/artifacts/staging/tmplsy_qu9k'\n",
      "wandb: ERROR Uploading artifact file failed. Artifact won't be committed.\n",
      "wandb: ERROR Error uploading \"/home/hoangtran/.local/share/wandb/artifacts/staging/tmpsh42jqte\": FileNotFoundError, [Errno 2] No such file or directory: '/home/hoangtran/.local/share/wandb/artifacts/staging/tmpsh42jqte'\n",
      "wandb: ERROR Uploading artifact file failed. Artifact won't be committed.\n",
      "wandb: ERROR Error uploading \"/home/hoangtran/.local/share/wandb/artifacts/staging/tmpppuzbez8\": FileNotFoundError, [Errno 2] No such file or directory: '/home/hoangtran/.local/share/wandb/artifacts/staging/tmpppuzbez8'\n",
      "wandb: ERROR Uploading artifact file failed. Artifact won't be committed.\n",
      "wandb: ERROR Error uploading \"/home/hoangtran/.local/share/wandb/artifacts/staging/tmpixpqhxqc\": FileNotFoundError, [Errno 2] No such file or directory: '/home/hoangtran/.local/share/wandb/artifacts/staging/tmpixpqhxqc'\n",
      "wandb: ERROR Uploading artifact file failed. Artifact won't be committed.\n",
      "wandb: ERROR Error uploading \"/home/hoangtran/.local/share/wandb/artifacts/staging/tmp8yuhk3hk\": FileNotFoundError, [Errno 2] No such file or directory: '/home/hoangtran/.local/share/wandb/artifacts/staging/tmp8yuhk3hk'\n",
      "wandb: ERROR Uploading artifact file failed. Artifact won't be committed.\n",
      "wandb: ERROR Error uploading \"/home/hoangtran/.local/share/wandb/artifacts/staging/tmpc63fz327\": FileNotFoundError, [Errno 2] No such file or directory: '/home/hoangtran/.local/share/wandb/artifacts/staging/tmpc63fz327'\n",
      "wandb: ERROR Uploading artifact file failed. Artifact won't be committed.\n",
      "wandb: ERROR Error uploading \"/home/hoangtran/.local/share/wandb/artifacts/staging/tmpf9fg3vvk\": FileNotFoundError, [Errno 2] No such file or directory: '/home/hoangtran/.local/share/wandb/artifacts/staging/tmpf9fg3vvk'\n",
      "wandb: ERROR Uploading artifact file failed. Artifact won't be committed.\n",
      "wandb: ERROR Error uploading \"/home/hoangtran/.local/share/wandb/artifacts/staging/tmpkkznwi0e\": FileNotFoundError, [Errno 2] No such file or directory: '/home/hoangtran/.local/share/wandb/artifacts/staging/tmpkkznwi0e'\n",
      "wandb: ERROR Uploading artifact file failed. Artifact won't be committed.\n",
      "wandb: ERROR Error uploading \"/home/hoangtran/.local/share/wandb/artifacts/staging/tmpmgq_624j\": FileNotFoundError, [Errno 2] No such file or directory: '/home/hoangtran/.local/share/wandb/artifacts/staging/tmpmgq_624j'\n",
      "wandb: ERROR Uploading artifact file failed. Artifact won't be committed.\n",
      "wandb: ERROR Error uploading \"/home/hoangtran/.local/share/wandb/artifacts/staging/tmpagoaojv9\": FileNotFoundError, [Errno 2] No such file or directory: '/home/hoangtran/.local/share/wandb/artifacts/staging/tmpagoaojv9'\n",
      "wandb: ERROR Uploading artifact file failed. Artifact won't be committed.\n",
      "wandb: ERROR Error uploading \"/home/hoangtran/.local/share/wandb/artifacts/staging/tmpgecto8o8\": FileNotFoundError, [Errno 2] No such file or directory: '/home/hoangtran/.local/share/wandb/artifacts/staging/tmpgecto8o8'\n",
      "wandb: ERROR Uploading artifact file failed. Artifact won't be committed.\n",
      "wandb: ERROR Error uploading \"/home/hoangtran/.local/share/wandb/artifacts/staging/tmp5jvibr0v\": FileNotFoundError, [Errno 2] No such file or directory: '/home/hoangtran/.local/share/wandb/artifacts/staging/tmp5jvibr0v'\n",
      "wandb: ERROR Uploading artifact file failed. Artifact won't be committed.\n",
      "wandb: ERROR Error uploading \"/home/hoangtran/.local/share/wandb/artifacts/staging/tmp7gw1g9_m\": FileNotFoundError, [Errno 2] No such file or directory: '/home/hoangtran/.local/share/wandb/artifacts/staging/tmp7gw1g9_m'\n",
      "wandb: ERROR Uploading artifact file failed. Artifact won't be committed.\n",
      "wandb: ERROR Error uploading \"/home/hoangtran/.local/share/wandb/artifacts/staging/tmpxb5_71_j\": FileNotFoundError, [Errno 2] No such file or directory: '/home/hoangtran/.local/share/wandb/artifacts/staging/tmpxb5_71_j'\n",
      "wandb: ERROR Uploading artifact file failed. Artifact won't be committed.\n",
      "wandb: ERROR Error uploading \"/home/hoangtran/.local/share/wandb/artifacts/staging/tmp3_9dju2d\": FileNotFoundError, [Errno 2] No such file or directory: '/home/hoangtran/.local/share/wandb/artifacts/staging/tmp3_9dju2d'\n",
      "wandb: ERROR Uploading artifact file failed. Artifact won't be committed.\n",
      "wandb: ERROR Error uploading \"/home/hoangtran/.local/share/wandb/artifacts/staging/tmptpsp0rqu\": FileNotFoundError, [Errno 2] No such file or directory: '/home/hoangtran/.local/share/wandb/artifacts/staging/tmptpsp0rqu'\n",
      "wandb: ERROR Uploading artifact file failed. Artifact won't be committed.\n",
      "wandb: ERROR Error uploading \"/home/hoangtran/.local/share/wandb/artifacts/staging/tmpqngp2w7_\": FileNotFoundError, [Errno 2] No such file or directory: '/home/hoangtran/.local/share/wandb/artifacts/staging/tmpqngp2w7_'\n",
      "wandb: ERROR Uploading artifact file failed. Artifact won't be committed.\n",
      "wandb: ERROR Error uploading \"/home/hoangtran/.local/share/wandb/artifacts/staging/tmpr7e6zuvj\": FileNotFoundError, [Errno 2] No such file or directory: '/home/hoangtran/.local/share/wandb/artifacts/staging/tmpr7e6zuvj'\n",
      "wandb: ERROR Uploading artifact file failed. Artifact won't be committed.\n",
      "wandb: ERROR Error uploading \"/home/hoangtran/.local/share/wandb/artifacts/staging/tmptfnemy1e\": FileNotFoundError, [Errno 2] No such file or directory: '/home/hoangtran/.local/share/wandb/artifacts/staging/tmptfnemy1e'\n",
      "wandb: ERROR Uploading artifact file failed. Artifact won't be committed.\n",
      "wandb: ERROR Error uploading \"/home/hoangtran/.local/share/wandb/artifacts/staging/tmpi6waj3u0\": FileNotFoundError, [Errno 2] No such file or directory: '/home/hoangtran/.local/share/wandb/artifacts/staging/tmpi6waj3u0'\n",
      "wandb: ERROR Uploading artifact file failed. Artifact won't be committed.\n",
      "wandb: ERROR Error uploading \"/home/hoangtran/.local/share/wandb/artifacts/staging/tmp6cvg3p2f\": FileNotFoundError, [Errno 2] No such file or directory: '/home/hoangtran/.local/share/wandb/artifacts/staging/tmp6cvg3p2f'\n",
      "wandb: ERROR Uploading artifact file failed. Artifact won't be committed.\n",
      "wandb: ERROR Error uploading \"/home/hoangtran/.local/share/wandb/artifacts/staging/tmpo8uyxhy7\": FileNotFoundError, [Errno 2] No such file or directory: '/home/hoangtran/.local/share/wandb/artifacts/staging/tmpo8uyxhy7'\n",
      "wandb: ERROR Uploading artifact file failed. Artifact won't be committed.\n",
      "wandb: ERROR Error uploading \"/home/hoangtran/.local/share/wandb/artifacts/staging/tmp8rpur6yc\": FileNotFoundError, [Errno 2] No such file or directory: '/home/hoangtran/.local/share/wandb/artifacts/staging/tmp8rpur6yc'\n",
      "wandb: ERROR Uploading artifact file failed. Artifact won't be committed.\n",
      "wandb: ERROR Error uploading \"/home/hoangtran/.local/share/wandb/artifacts/staging/tmpfm0mvs8s\": FileNotFoundError, [Errno 2] No such file or directory: '/home/hoangtran/.local/share/wandb/artifacts/staging/tmpfm0mvs8s'\n",
      "wandb: ERROR Uploading artifact file failed. Artifact won't be committed.\n",
      "wandb: ERROR Error uploading \"/home/hoangtran/.local/share/wandb/artifacts/staging/tmp51dfai_k\": FileNotFoundError, [Errno 2] No such file or directory: '/home/hoangtran/.local/share/wandb/artifacts/staging/tmp51dfai_k'\n",
      "wandb: ERROR Uploading artifact file failed. Artifact won't be committed.\n",
      "wandb: ERROR Error uploading \"/home/hoangtran/.local/share/wandb/artifacts/staging/tmpad66gqff\": FileNotFoundError, [Errno 2] No such file or directory: '/home/hoangtran/.local/share/wandb/artifacts/staging/tmpad66gqff'\n",
      "wandb: ERROR Uploading artifact file failed. Artifact won't be committed.\n",
      "wandb: ERROR Error uploading \"/home/hoangtran/.local/share/wandb/artifacts/staging/tmpph_z_czy\": FileNotFoundError, [Errno 2] No such file or directory: '/home/hoangtran/.local/share/wandb/artifacts/staging/tmpph_z_czy'\n",
      "wandb: ERROR Uploading artifact file failed. Artifact won't be committed.\n",
      "wandb: ERROR Error uploading \"/home/hoangtran/.local/share/wandb/artifacts/staging/tmpjlgzdykh\": FileNotFoundError, [Errno 2] No such file or directory: '/home/hoangtran/.local/share/wandb/artifacts/staging/tmpjlgzdykh'\n",
      "wandb: ERROR Uploading artifact file failed. Artifact won't be committed.\n",
      "wandb: ERROR Error uploading \"/home/hoangtran/.local/share/wandb/artifacts/staging/tmphn4rb1yu\": FileNotFoundError, [Errno 2] No such file or directory: '/home/hoangtran/.local/share/wandb/artifacts/staging/tmphn4rb1yu'\n",
      "wandb: ERROR Uploading artifact file failed. Artifact won't be committed.\n",
      "wandb: ERROR Error uploading \"/home/hoangtran/.local/share/wandb/artifacts/staging/tmp_gcenppz\": FileNotFoundError, [Errno 2] No such file or directory: '/home/hoangtran/.local/share/wandb/artifacts/staging/tmp_gcenppz'\n",
      "wandb: ERROR Uploading artifact file failed. Artifact won't be committed.\n",
      "wandb: ERROR Error uploading \"/home/hoangtran/.local/share/wandb/artifacts/staging/tmplbmieifn\": FileNotFoundError, [Errno 2] No such file or directory: '/home/hoangtran/.local/share/wandb/artifacts/staging/tmplbmieifn'\n",
      "wandb: ERROR Uploading artifact file failed. Artifact won't be committed.\n",
      "wandb: ERROR Error uploading \"/home/hoangtran/.local/share/wandb/artifacts/staging/tmpmk4kor1v\": FileNotFoundError, [Errno 2] No such file or directory: '/home/hoangtran/.local/share/wandb/artifacts/staging/tmpmk4kor1v'\n",
      "wandb: ERROR Uploading artifact file failed. Artifact won't be committed.\n",
      "wandb: ERROR Error uploading \"/home/hoangtran/.local/share/wandb/artifacts/staging/tmpxyedu2qc\": FileNotFoundError, [Errno 2] No such file or directory: '/home/hoangtran/.local/share/wandb/artifacts/staging/tmpxyedu2qc'\n",
      "wandb: ERROR Uploading artifact file failed. Artifact won't be committed.\n",
      "wandb: ERROR Error uploading \"/home/hoangtran/.local/share/wandb/artifacts/staging/tmpksn6pc8j\": FileNotFoundError, [Errno 2] No such file or directory: '/home/hoangtran/.local/share/wandb/artifacts/staging/tmpksn6pc8j'\n",
      "wandb: ERROR Uploading artifact file failed. Artifact won't be committed.\n",
      "wandb: ERROR Error uploading \"/home/hoangtran/.local/share/wandb/artifacts/staging/tmp3kz5itrn\": FileNotFoundError, [Errno 2] No such file or directory: '/home/hoangtran/.local/share/wandb/artifacts/staging/tmp3kz5itrn'\n",
      "wandb: ERROR Uploading artifact file failed. Artifact won't be committed.\n",
      "wandb: ERROR Error uploading \"/home/hoangtran/.local/share/wandb/artifacts/staging/tmpan_6dvs1\": FileNotFoundError, [Errno 2] No such file or directory: '/home/hoangtran/.local/share/wandb/artifacts/staging/tmpan_6dvs1'\n",
      "wandb: ERROR Uploading artifact file failed. Artifact won't be committed.\n",
      "wandb: ERROR Error uploading \"/home/hoangtran/.local/share/wandb/artifacts/staging/tmprd3s_dun\": FileNotFoundError, [Errno 2] No such file or directory: '/home/hoangtran/.local/share/wandb/artifacts/staging/tmprd3s_dun'\n",
      "wandb: ERROR Uploading artifact file failed. Artifact won't be committed.\n",
      "wandb: ERROR Error uploading \"/home/hoangtran/.local/share/wandb/artifacts/staging/tmpbesc2a6c\": FileNotFoundError, [Errno 2] No such file or directory: '/home/hoangtran/.local/share/wandb/artifacts/staging/tmpbesc2a6c'\n",
      "wandb: ERROR Uploading artifact file failed. Artifact won't be committed.\n",
      "wandb: ERROR Error uploading \"/home/hoangtran/.local/share/wandb/artifacts/staging/tmpgw2b8xv_\": FileNotFoundError, [Errno 2] No such file or directory: '/home/hoangtran/.local/share/wandb/artifacts/staging/tmpgw2b8xv_'\n",
      "wandb: ERROR Uploading artifact file failed. Artifact won't be committed.\n",
      "wandb: ERROR Error uploading \"/home/hoangtran/.local/share/wandb/artifacts/staging/tmp4awpsccd\": FileNotFoundError, [Errno 2] No such file or directory: '/home/hoangtran/.local/share/wandb/artifacts/staging/tmp4awpsccd'\n",
      "wandb: ERROR Uploading artifact file failed. Artifact won't be committed.\n",
      "wandb: ERROR Error uploading \"/home/hoangtran/.local/share/wandb/artifacts/staging/tmpm0av4gfi\": FileNotFoundError, [Errno 2] No such file or directory: '/home/hoangtran/.local/share/wandb/artifacts/staging/tmpm0av4gfi'\n",
      "wandb: ERROR Uploading artifact file failed. Artifact won't be committed.\n",
      "wandb: ERROR Error uploading \"/home/hoangtran/.local/share/wandb/artifacts/staging/tmpj1z57q98\": FileNotFoundError, [Errno 2] No such file or directory: '/home/hoangtran/.local/share/wandb/artifacts/staging/tmpj1z57q98'\n",
      "wandb: ERROR Uploading artifact file failed. Artifact won't be committed.\n",
      "wandb: ERROR Error uploading \"/home/hoangtran/.local/share/wandb/artifacts/staging/tmp5mzhs8k9\": FileNotFoundError, [Errno 2] No such file or directory: '/home/hoangtran/.local/share/wandb/artifacts/staging/tmp5mzhs8k9'\n",
      "wandb: ERROR Uploading artifact file failed. Artifact won't be committed.\n",
      "wandb: ERROR Error uploading \"/home/hoangtran/.local/share/wandb/artifacts/staging/tmpvm03tn3h\": FileNotFoundError, [Errno 2] No such file or directory: '/home/hoangtran/.local/share/wandb/artifacts/staging/tmpvm03tn3h'\n",
      "wandb: ERROR Uploading artifact file failed. Artifact won't be committed.\n",
      "wandb: ERROR Error uploading \"/home/hoangtran/.local/share/wandb/artifacts/staging/tmp7553otod\": FileNotFoundError, [Errno 2] No such file or directory: '/home/hoangtran/.local/share/wandb/artifacts/staging/tmp7553otod'\n",
      "wandb: ERROR Uploading artifact file failed. Artifact won't be committed.\n",
      "wandb: ERROR Error uploading \"/home/hoangtran/.local/share/wandb/artifacts/staging/tmpurq3g94k\": FileNotFoundError, [Errno 2] No such file or directory: '/home/hoangtran/.local/share/wandb/artifacts/staging/tmpurq3g94k'\n",
      "wandb: ERROR Uploading artifact file failed. Artifact won't be committed.\n",
      "wandb: ERROR Error uploading \"/home/hoangtran/.local/share/wandb/artifacts/staging/tmp_82tleej\": FileNotFoundError, [Errno 2] No such file or directory: '/home/hoangtran/.local/share/wandb/artifacts/staging/tmp_82tleej'\n",
      "wandb: ERROR Uploading artifact file failed. Artifact won't be committed.\n"
     ]
    }
   ],
   "source": [
    "# for edge_types, rev_edge_types in edges:\n",
    "for edge_type in edge_types:\n",
    "    loss_checkpoint_callback = ModelCheckpoint(\n",
    "        monitor=f'{edge_type[1]}_val_loss',\n",
    "        dirpath='results/checkpoints/graphsage/loss',\n",
    "        filename=f'LinkPred-{{epoch:02d}}-{{{edge_type[1]}_val_loss:.2f}}',\n",
    "        save_top_k=3,\n",
    "        save_last=True,\n",
    "        mode='min',\n",
    "        every_n_epochs=1\n",
    "    )\n",
    "    roc_auc_checkpoint_callback = ModelCheckpoint(\n",
    "        monitor=f'{edge_type[1]}_val_roc_auc',\n",
    "        dirpath='results/checkpoints/graphsage/roc_auc',\n",
    "        filename=f'LinkPred-{{epoch:02d}}-{{{edge_type[1]}_val_roc_auc:.2f}}',\n",
    "        save_top_k=3,\n",
    "        save_last=True,\n",
    "        mode='max',\n",
    "        every_n_epochs=1\n",
    "    )\n",
    "    trainer = L.Trainer(\n",
    "        max_epochs=100,\n",
    "        check_val_every_n_epoch=1,\n",
    "        callbacks=[\n",
    "            loss_checkpoint_callback, \n",
    "            roc_auc_checkpoint_callback,\n",
    "        ],\n",
    "        logger=wandb_logger\n",
    "    )\n",
    "    \n",
    "    train_batch_size=128\n",
    "    val_batch_size=val_data[edge_type]['edge_label'].size(0)\n",
    "    model.set_trainval_info(edge_type, train_batch_size, val_batch_size)\n",
    "    train_edge_label_index = train_data[edge_type].edge_label_index\n",
    "    train_edge_label = train_data[edge_type].edge_label\n",
    "    train_loader = LinkNeighborLoader(\n",
    "        data=train_data,\n",
    "        num_neighbors=[20, 20],\n",
    "        neg_sampling_ratio=2.0,\n",
    "        edge_label_index=(edge_type, train_edge_label_index),\n",
    "        edge_label=train_edge_label,\n",
    "        batch_size=train_batch_size,\n",
    "        shuffle=True,\n",
    "        pin_memory=True,\n",
    "        num_workers=8,\n",
    "    )\n",
    "\n",
    "    val_edge_label_index = val_data[edge_type].edge_label_index\n",
    "    val_edge_label = val_data[edge_type].edge_label\n",
    "    val_loader = LinkNeighborLoader(\n",
    "        data=val_data,\n",
    "        num_neighbors=[20, 20],\n",
    "        neg_sampling_ratio=None,\n",
    "        edge_label_index=(edge_type, val_edge_label_index),\n",
    "        edge_label=val_edge_label,\n",
    "        batch_size=val_batch_size,\n",
    "        shuffle=False,\n",
    "        pin_memory=True,\n",
    "        num_workers=8,\n",
    "    )\n",
    "    \n",
    "    trainer.fit(model, train_loader, val_loader)"
   ]
  },
  {
   "cell_type": "code",
   "execution_count": null,
   "id": "8b95a465-146e-41af-b8fd-9081430808ec",
   "metadata": {},
   "outputs": [],
   "source": []
  }
 ],
 "metadata": {
  "kernelspec": {
   "display_name": "Python 3 (ipykernel)",
   "language": "python",
   "name": "python3"
  },
  "language_info": {
   "codemirror_mode": {
    "name": "ipython",
    "version": 3
   },
   "file_extension": ".py",
   "mimetype": "text/x-python",
   "name": "python",
   "nbconvert_exporter": "python",
   "pygments_lexer": "ipython3",
   "version": "3.9.18"
  }
 },
 "nbformat": 4,
 "nbformat_minor": 5
}
