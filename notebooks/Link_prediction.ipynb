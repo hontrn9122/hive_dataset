{
 "cells": [
  {
   "cell_type": "markdown",
   "id": "2a58262e-3cb6-4ac4-bdfc-7c668b44db2e",
   "metadata": {},
   "source": [
    "# Link Prediction for Heterogeneous graph"
   ]
  },
  {
   "cell_type": "markdown",
   "id": "7c43a503-c35b-4f57-af13-b9b1cb66498d",
   "metadata": {},
   "source": [
    "## 0. Enviroment setup"
   ]
  },
  {
   "cell_type": "code",
   "execution_count": 1,
   "id": "66863bbe-209d-4e93-a48a-4481229cdf6b",
   "metadata": {
    "scrolled": true,
    "tags": []
   },
   "outputs": [],
   "source": [
    "# !pip uninstall torch torchvision torchaudio --yes\n",
    "# !pip install torch==2.2.1 torchvision==0.17.1 torchaudio==2.2.1 --index-url https://download.pytorch.org/whl/cu121\n",
    "# !pip install lightning torch_geometric\n",
    "# !pip install pyg_lib torch_scatter torch_sparse torch_cluster torch_spline_conv -f https://data.pyg.org/whl/torch-2.2.0+cu121.html\n",
    "# !pip install wandb"
   ]
  },
  {
   "cell_type": "code",
   "execution_count": 2,
   "id": "b342f272-4864-4e44-9973-9e2d0e6c6a7c",
   "metadata": {},
   "outputs": [],
   "source": [
    "import os\n",
    "import shutil\n",
    "import wandb\n",
    "import torch\n",
    "import torch.nn as nn\n",
    "from torch.utils.data import Dataset\n",
    "from torch.utils.data import DataLoader\n",
    "from tqdm import tqdm\n",
    "\n",
    "from torch_geometric.utils import negative_sampling\n",
    "import torch_geometric.transforms as T\n",
    "from torch_geometric.utils import train_test_split_edges\n",
    "# from torch_geometric.loader import LinkNeighborLoader\n",
    "# from torch_geometric.data.lightning import LightningLinkData\n",
    "\n",
    "import lightning as L\n",
    "from lightning.pytorch.callbacks import ModelCheckpoint\n",
    "from lightning.pytorch.loggers import WandbLogger"
   ]
  },
  {
   "cell_type": "code",
   "execution_count": 3,
   "id": "0279406c-1e43-4f2e-b7ae-d8cdef5a384b",
   "metadata": {},
   "outputs": [],
   "source": [
    "from hive_analysis.models.link_prediction import *\n",
    "from hive_analysis.dataloaders import hive_preprocessing"
   ]
  },
  {
   "cell_type": "code",
   "execution_count": 4,
   "id": "dda9588f-6383-46e9-8a86-4bdd0ec8e5f2",
   "metadata": {},
   "outputs": [],
   "source": [
    "os.environ['CUDA_LAUNCH_BLOCKING'] = '1'"
   ]
  },
  {
   "cell_type": "code",
   "execution_count": 5,
   "id": "448a0250-aed8-4f35-8a06-7e40fd3939f4",
   "metadata": {},
   "outputs": [
    {
     "data": {
      "text/plain": [
       "'cuda'"
      ]
     },
     "execution_count": 5,
     "metadata": {},
     "output_type": "execute_result"
    }
   ],
   "source": [
    "# Setup device agnostic code\n",
    "device = \"cuda\" if torch.cuda.is_available() else \"cpu\"\n",
    "device"
   ]
  },
  {
   "cell_type": "markdown",
   "id": "22880da8-8fb8-4288-b6d2-fdc56493af45",
   "metadata": {
    "tags": []
   },
   "source": [
    "## 1. Data Pre-processing"
   ]
  },
  {
   "cell_type": "code",
   "execution_count": 6,
   "id": "fb8d2c96-aacd-4689-ba1d-2af084d3f9e8",
   "metadata": {},
   "outputs": [],
   "source": [
    "DATA_VERSION = 'final_v1'"
   ]
  },
  {
   "cell_type": "code",
   "execution_count": 7,
   "id": "0e3fad6d-95fb-48b8-af4f-1fccc4271f0d",
   "metadata": {
    "scrolled": true
   },
   "outputs": [
    {
     "data": {
      "text/plain": [
       "HeteroData(\n",
       "  user={\n",
       "    x=[18645, 5],\n",
       "    node_label=<built-in method long of Tensor object at 0x7f62f97a30e0>,\n",
       "  },\n",
       "  comment={\n",
       "    x=[125111, 1],\n",
       "    node_label=<built-in method long of Tensor object at 0x7f62f97a3270>,\n",
       "  },\n",
       "  post={\n",
       "    x=[13540, 1],\n",
       "    node_label=<built-in method long of Tensor object at 0x7f62f97a34a0>,\n",
       "  },\n",
       "  (user, upvote, comment)={\n",
       "    edge_index=[2, 423638],\n",
       "    edge_attr=[423638, 1],\n",
       "    y=[423638],\n",
       "  },\n",
       "  (user, upvote, post)={\n",
       "    edge_index=[2, 554131],\n",
       "    edge_attr=[554131, 1],\n",
       "    y=[554131],\n",
       "  },\n",
       "  (user, write, comment)={\n",
       "    edge_index=[2, 78696],\n",
       "    edge_attr=[78696, 1],\n",
       "    y=[78696],\n",
       "  },\n",
       "  (user, write, post)={\n",
       "    edge_index=[2, 12958],\n",
       "    edge_attr=[12958, 1],\n",
       "    y=[12958],\n",
       "  },\n",
       "  (user, downvote, comment)={\n",
       "    edge_index=[2, 6819],\n",
       "    edge_attr=[6819, 1],\n",
       "    y=[6819],\n",
       "  },\n",
       "  (user, downvote, post)={\n",
       "    edge_index=[2, 2934],\n",
       "    edge_attr=[2934, 1],\n",
       "    y=[2934],\n",
       "  },\n",
       "  (comment, belong_to, comment)={\n",
       "    edge_index=[2, 58911],\n",
       "    edge_attr=[58911, 1],\n",
       "    y=[58911],\n",
       "  },\n",
       "  (comment, belong_to, post)={\n",
       "    edge_index=[2, 19838],\n",
       "    edge_attr=[19838, 1],\n",
       "    y=[19838],\n",
       "  },\n",
       "  (comment, rev_upvote, user)={\n",
       "    edge_index=[2, 423638],\n",
       "    edge_attr=[423638, 1],\n",
       "    y=[423638],\n",
       "  },\n",
       "  (post, rev_upvote, user)={\n",
       "    edge_index=[2, 554131],\n",
       "    edge_attr=[554131, 1],\n",
       "    y=[554131],\n",
       "  },\n",
       "  (comment, rev_write, user)={\n",
       "    edge_index=[2, 78696],\n",
       "    edge_attr=[78696, 1],\n",
       "    y=[78696],\n",
       "  },\n",
       "  (post, rev_write, user)={\n",
       "    edge_index=[2, 12958],\n",
       "    edge_attr=[12958, 1],\n",
       "    y=[12958],\n",
       "  },\n",
       "  (comment, rev_downvote, user)={\n",
       "    edge_index=[2, 6819],\n",
       "    edge_attr=[6819, 1],\n",
       "    y=[6819],\n",
       "  },\n",
       "  (post, rev_downvote, user)={\n",
       "    edge_index=[2, 2934],\n",
       "    edge_attr=[2934, 1],\n",
       "    y=[2934],\n",
       "  },\n",
       "  (comment, rev_belong_to, comment)={\n",
       "    edge_index=[2, 58911],\n",
       "    edge_attr=[58911, 1],\n",
       "    y=[58911],\n",
       "  },\n",
       "  (post, rev_belong_to, comment)={\n",
       "    edge_index=[2, 19838],\n",
       "    edge_attr=[19838, 1],\n",
       "    y=[19838],\n",
       "  }\n",
       ")"
      ]
     },
     "execution_count": 7,
     "metadata": {},
     "output_type": "execute_result"
    }
   ],
   "source": [
    "# data = hive_preprocessing(\n",
    "#     f'dataset/hive/{DATA_VERSION}/nodes_labelled.csv',\n",
    "#     f'dataset/hive/{DATA_VERSION}/edges_labelled.csv',\n",
    "#     to_undirected = True,\n",
    "# )\n",
    "# torch.save(data, f'dataset/hive/{DATA_VERSION}/hive.pt')\n",
    "data = torch.load(f'dataset/hive/{DATA_VERSION}/hive.pt')\n",
    "data"
   ]
  },
  {
   "cell_type": "code",
   "execution_count": 8,
   "id": "e592b04e-99b3-4581-9e72-9cc964ea9b38",
   "metadata": {},
   "outputs": [],
   "source": [
    "num_edges = len(data.edge_types)\n",
    "edge_types = data.edge_types[:num_edges//2]"
   ]
  },
  {
   "cell_type": "code",
   "execution_count": 9,
   "id": "a1d39f36-af29-490e-9054-64a10bc48c62",
   "metadata": {},
   "outputs": [
    {
     "data": {
      "text/plain": [
       "('user', 'upvote', 'comment')"
      ]
     },
     "execution_count": 9,
     "metadata": {},
     "output_type": "execute_result"
    }
   ],
   "source": [
    "edge_types[0]"
   ]
  },
  {
   "cell_type": "code",
   "execution_count": 10,
   "id": "4d199ee4-ffef-4e3d-8c1c-b6b7cc0b3dec",
   "metadata": {},
   "outputs": [],
   "source": [
    "rev_edge_types = data.edge_types[num_edges//2:]"
   ]
  },
  {
   "cell_type": "code",
   "execution_count": 11,
   "id": "fa9b9598-8f90-4462-a354-a5b9090ad119",
   "metadata": {},
   "outputs": [],
   "source": [
    "transform = T.RandomLinkSplit(\n",
    "    num_val=0.1,\n",
    "    num_test=0.1,\n",
    "    disjoint_train_ratio=0.3, \n",
    "    add_negative_train_samples=True,\n",
    "    neg_sampling_ratio=2.0,\n",
    "    edge_types=edge_types,\n",
    "    rev_edge_types=rev_edge_types, \n",
    ")\n",
    "\n",
    "train_data, val_data, test_data = transform(data)"
   ]
  },
  {
   "cell_type": "markdown",
   "id": "2f33980f-d459-48c9-862c-3b87d217f598",
   "metadata": {},
   "source": [
    "## 2. Training"
   ]
  },
  {
   "cell_type": "code",
   "execution_count": 12,
   "id": "5c703cf3-1874-4cea-ba5d-1a251fd1289d",
   "metadata": {},
   "outputs": [],
   "source": [
    "models = {\n",
    "    # 'HGT': HGT, \n",
    "    # 'GATv2': GATv2, \n",
    "    # 'GraphSAGE': GraphSAGE, \n",
    "    # 'GAT':GAT\n",
    "    'GraphConv': GraphConvNet,\n",
    "}"
   ]
  },
  {
   "cell_type": "code",
   "execution_count": 13,
   "id": "26cee249-b402-4d37-ad1b-e378a0dc2261",
   "metadata": {},
   "outputs": [],
   "source": [
    "models = { k: m(\n",
    "    in_channels=-1,  \n",
    "    out_channels=128,\n",
    "    hidden_channels=[64, 128, 256, 256, 512], \n",
    "    metadata=data.metadata(), \n",
    "    edge_types=edge_types,\n",
    "    rev_edge_types=rev_edge_types,\n",
    "    # aggr_scheme='mean',\n",
    ") for k, m in models.items()}"
   ]
  },
  {
   "cell_type": "code",
   "execution_count": 14,
   "id": "be87e56f-bf62-45fa-82a2-7425ac99f96a",
   "metadata": {},
   "outputs": [],
   "source": [
    "class GraphDataset(Dataset):\n",
    "    def __init__(\n",
    "        self,\n",
    "        data,\n",
    "        edge_types,\n",
    "        key='edge_label',\n",
    "    ):\n",
    "        self.data = data\n",
    "        self.edge_types = edge_types\n",
    "        self.key =  key\n",
    "\n",
    "    def __len__(self):\n",
    "        return len(self.edge_types)\n",
    "\n",
    "    def __getitem__(self, idx):\n",
    "        return self.data, self.edge_types[idx], self.key\n",
    "    \n",
    "def collate_fn(input):\n",
    "    data, edge_types, key = zip(*input)\n",
    "    return data[0], edge_types, key[0]\n",
    "\n",
    "train_loader = DataLoader(\n",
    "    GraphDataset(train_data, edge_types),\n",
    "    batch_size=1,\n",
    "    shuffle=True,\n",
    "    drop_last=False,\n",
    "    pin_memory=True,\n",
    "    num_workers=4,\n",
    "    collate_fn=collate_fn,\n",
    ")\n",
    "val_loader = DataLoader(\n",
    "    GraphDataset(val_data, edge_types),\n",
    "    batch_size=len(edge_types),\n",
    "    shuffle=False,\n",
    "    drop_last=False,\n",
    "    pin_memory=True,\n",
    "    num_workers=4,\n",
    "    collate_fn=collate_fn\n",
    ")"
   ]
  },
  {
   "cell_type": "code",
   "execution_count": 15,
   "id": "dc952de0-8844-4663-8c51-e7cf504f3370",
   "metadata": {
    "tags": []
   },
   "outputs": [
    {
     "name": "stderr",
     "output_type": "stream",
     "text": [
      "GPU available: True (cuda), used: True\n",
      "TPU available: False, using: 0 TPU cores\n",
      "IPU available: False, using: 0 IPUs\n",
      "HPU available: False, using: 0 HPUs\n",
      "You are using a CUDA device ('NVIDIA RTX A6000') that has Tensor Cores. To properly utilize them, you should set `torch.set_float32_matmul_precision('medium' | 'high')` which will trade-off precision for performance. For more details, read https://pytorch.org/docs/stable/generated/torch.set_float32_matmul_precision.html#torch.set_float32_matmul_precision\n",
      "\u001b[34m\u001b[1mwandb\u001b[0m: Currently logged in as: \u001b[33mhontrn9122\u001b[0m (\u001b[33mssc_project\u001b[0m). Use \u001b[1m`wandb login --relogin`\u001b[0m to force relogin\n"
     ]
    },
    {
     "data": {
      "text/html": [
       "wandb version 0.16.6 is available!  To upgrade, please run:\n",
       " $ pip install wandb --upgrade"
      ],
      "text/plain": [
       "<IPython.core.display.HTML object>"
      ]
     },
     "metadata": {},
     "output_type": "display_data"
    },
    {
     "data": {
      "text/html": [
       "Tracking run with wandb version 0.13.4"
      ],
      "text/plain": [
       "<IPython.core.display.HTML object>"
      ]
     },
     "metadata": {},
     "output_type": "display_data"
    },
    {
     "data": {
      "text/html": [
       "Run data is saved locally in <code>results/log/lp/graphconv/wandb/run-20240405_213032-12x368zd</code>"
      ],
      "text/plain": [
       "<IPython.core.display.HTML object>"
      ]
     },
     "metadata": {},
     "output_type": "display_data"
    },
    {
     "data": {
      "text/html": [
       "Syncing run <strong><a href=\"https://wandb.ai/ssc_project/LinkPrediction_finalv1/runs/12x368zd\" target=\"_blank\">GraphConv</a></strong> to <a href=\"https://wandb.ai/ssc_project/LinkPrediction_finalv1\" target=\"_blank\">Weights & Biases</a> (<a href=\"https://wandb.me/run\" target=\"_blank\">docs</a>)<br/>"
      ],
      "text/plain": [
       "<IPython.core.display.HTML object>"
      ]
     },
     "metadata": {},
     "output_type": "display_data"
    },
    {
     "name": "stderr",
     "output_type": "stream",
     "text": [
      "/usr/local/lib/python3.9/dist-packages/lightning/pytorch/callbacks/model_checkpoint.py:653: Checkpoint directory /notebooks/results/checkpoints/lp/graphconv/loss exists and is not empty.\n",
      "/usr/local/lib/python3.9/dist-packages/lightning/pytorch/callbacks/model_checkpoint.py:653: Checkpoint directory /notebooks/results/checkpoints/lp/graphconv/roc_auc exists and is not empty.\n",
      "/usr/local/lib/python3.9/dist-packages/lightning/pytorch/callbacks/model_checkpoint.py:653: Checkpoint directory /notebooks/results/checkpoints/lp/graphconv/acc exists and is not empty.\n",
      "LOCAL_RANK: 0 - CUDA_VISIBLE_DEVICES: [0]\n",
      "/usr/local/lib/python3.9/dist-packages/lightning/pytorch/utilities/model_summary/model_summary.py:454: A layer with UninitializedParameter was found. Thus, the total number of parameters detected may be inaccurate.\n",
      "\n",
      "  | Name    | Type              | Params\n",
      "----------------------------------------------\n",
      "0 | encoder | ModuleDict        | 77.8 M\n",
      "1 | crit    | BCEWithLogitsLoss | 0     \n",
      "----------------------------------------------\n",
      "77.8 M    Trainable params\n",
      "0         Non-trainable params\n",
      "77.8 M    Total params\n",
      "311.067   Total estimated model params size (MB)\n"
     ]
    },
    {
     "data": {
      "application/vnd.jupyter.widget-view+json": {
       "model_id": "",
       "version_major": 2,
       "version_minor": 0
      },
      "text/plain": [
       "Sanity Checking: |          | 0/? [00:00<?, ?it/s]"
      ]
     },
     "metadata": {},
     "output_type": "display_data"
    },
    {
     "data": {
      "application/vnd.jupyter.widget-view+json": {
       "model_id": "efc4aba41a4342b995113c8302e7da6e",
       "version_major": 2,
       "version_minor": 0
      },
      "text/plain": [
       "Training: |          | 0/? [00:00<?, ?it/s]"
      ]
     },
     "metadata": {},
     "output_type": "display_data"
    },
    {
     "data": {
      "application/vnd.jupyter.widget-view+json": {
       "model_id": "",
       "version_major": 2,
       "version_minor": 0
      },
      "text/plain": [
       "Validation: |          | 0/? [00:00<?, ?it/s]"
      ]
     },
     "metadata": {},
     "output_type": "display_data"
    },
    {
     "data": {
      "application/vnd.jupyter.widget-view+json": {
       "model_id": "",
       "version_major": 2,
       "version_minor": 0
      },
      "text/plain": [
       "Validation: |          | 0/? [00:00<?, ?it/s]"
      ]
     },
     "metadata": {},
     "output_type": "display_data"
    },
    {
     "data": {
      "application/vnd.jupyter.widget-view+json": {
       "model_id": "",
       "version_major": 2,
       "version_minor": 0
      },
      "text/plain": [
       "Validation: |          | 0/? [00:00<?, ?it/s]"
      ]
     },
     "metadata": {},
     "output_type": "display_data"
    },
    {
     "data": {
      "application/vnd.jupyter.widget-view+json": {
       "model_id": "",
       "version_major": 2,
       "version_minor": 0
      },
      "text/plain": [
       "Validation: |          | 0/? [00:00<?, ?it/s]"
      ]
     },
     "metadata": {},
     "output_type": "display_data"
    },
    {
     "data": {
      "application/vnd.jupyter.widget-view+json": {
       "model_id": "",
       "version_major": 2,
       "version_minor": 0
      },
      "text/plain": [
       "Validation: |          | 0/? [00:00<?, ?it/s]"
      ]
     },
     "metadata": {},
     "output_type": "display_data"
    },
    {
     "data": {
      "application/vnd.jupyter.widget-view+json": {
       "model_id": "",
       "version_major": 2,
       "version_minor": 0
      },
      "text/plain": [
       "Validation: |          | 0/? [00:00<?, ?it/s]"
      ]
     },
     "metadata": {},
     "output_type": "display_data"
    },
    {
     "data": {
      "application/vnd.jupyter.widget-view+json": {
       "model_id": "",
       "version_major": 2,
       "version_minor": 0
      },
      "text/plain": [
       "Validation: |          | 0/? [00:00<?, ?it/s]"
      ]
     },
     "metadata": {},
     "output_type": "display_data"
    },
    {
     "data": {
      "application/vnd.jupyter.widget-view+json": {
       "model_id": "",
       "version_major": 2,
       "version_minor": 0
      },
      "text/plain": [
       "Validation: |          | 0/? [00:00<?, ?it/s]"
      ]
     },
     "metadata": {},
     "output_type": "display_data"
    },
    {
     "data": {
      "application/vnd.jupyter.widget-view+json": {
       "model_id": "",
       "version_major": 2,
       "version_minor": 0
      },
      "text/plain": [
       "Validation: |          | 0/? [00:00<?, ?it/s]"
      ]
     },
     "metadata": {},
     "output_type": "display_data"
    },
    {
     "data": {
      "application/vnd.jupyter.widget-view+json": {
       "model_id": "",
       "version_major": 2,
       "version_minor": 0
      },
      "text/plain": [
       "Validation: |          | 0/? [00:00<?, ?it/s]"
      ]
     },
     "metadata": {},
     "output_type": "display_data"
    },
    {
     "data": {
      "application/vnd.jupyter.widget-view+json": {
       "model_id": "",
       "version_major": 2,
       "version_minor": 0
      },
      "text/plain": [
       "Validation: |          | 0/? [00:00<?, ?it/s]"
      ]
     },
     "metadata": {},
     "output_type": "display_data"
    },
    {
     "data": {
      "application/vnd.jupyter.widget-view+json": {
       "model_id": "",
       "version_major": 2,
       "version_minor": 0
      },
      "text/plain": [
       "Validation: |          | 0/? [00:00<?, ?it/s]"
      ]
     },
     "metadata": {},
     "output_type": "display_data"
    },
    {
     "data": {
      "application/vnd.jupyter.widget-view+json": {
       "model_id": "",
       "version_major": 2,
       "version_minor": 0
      },
      "text/plain": [
       "Validation: |          | 0/? [00:00<?, ?it/s]"
      ]
     },
     "metadata": {},
     "output_type": "display_data"
    },
    {
     "data": {
      "application/vnd.jupyter.widget-view+json": {
       "model_id": "",
       "version_major": 2,
       "version_minor": 0
      },
      "text/plain": [
       "Validation: |          | 0/? [00:00<?, ?it/s]"
      ]
     },
     "metadata": {},
     "output_type": "display_data"
    },
    {
     "data": {
      "application/vnd.jupyter.widget-view+json": {
       "model_id": "",
       "version_major": 2,
       "version_minor": 0
      },
      "text/plain": [
       "Validation: |          | 0/? [00:00<?, ?it/s]"
      ]
     },
     "metadata": {},
     "output_type": "display_data"
    },
    {
     "data": {
      "application/vnd.jupyter.widget-view+json": {
       "model_id": "",
       "version_major": 2,
       "version_minor": 0
      },
      "text/plain": [
       "Validation: |          | 0/? [00:00<?, ?it/s]"
      ]
     },
     "metadata": {},
     "output_type": "display_data"
    },
    {
     "data": {
      "application/vnd.jupyter.widget-view+json": {
       "model_id": "",
       "version_major": 2,
       "version_minor": 0
      },
      "text/plain": [
       "Validation: |          | 0/? [00:00<?, ?it/s]"
      ]
     },
     "metadata": {},
     "output_type": "display_data"
    },
    {
     "data": {
      "application/vnd.jupyter.widget-view+json": {
       "model_id": "",
       "version_major": 2,
       "version_minor": 0
      },
      "text/plain": [
       "Validation: |          | 0/? [00:00<?, ?it/s]"
      ]
     },
     "metadata": {},
     "output_type": "display_data"
    },
    {
     "data": {
      "application/vnd.jupyter.widget-view+json": {
       "model_id": "",
       "version_major": 2,
       "version_minor": 0
      },
      "text/plain": [
       "Validation: |          | 0/? [00:00<?, ?it/s]"
      ]
     },
     "metadata": {},
     "output_type": "display_data"
    },
    {
     "data": {
      "application/vnd.jupyter.widget-view+json": {
       "model_id": "",
       "version_major": 2,
       "version_minor": 0
      },
      "text/plain": [
       "Validation: |          | 0/? [00:00<?, ?it/s]"
      ]
     },
     "metadata": {},
     "output_type": "display_data"
    },
    {
     "data": {
      "application/vnd.jupyter.widget-view+json": {
       "model_id": "",
       "version_major": 2,
       "version_minor": 0
      },
      "text/plain": [
       "Validation: |          | 0/? [00:00<?, ?it/s]"
      ]
     },
     "metadata": {},
     "output_type": "display_data"
    },
    {
     "data": {
      "application/vnd.jupyter.widget-view+json": {
       "model_id": "",
       "version_major": 2,
       "version_minor": 0
      },
      "text/plain": [
       "Validation: |          | 0/? [00:00<?, ?it/s]"
      ]
     },
     "metadata": {},
     "output_type": "display_data"
    },
    {
     "data": {
      "application/vnd.jupyter.widget-view+json": {
       "model_id": "",
       "version_major": 2,
       "version_minor": 0
      },
      "text/plain": [
       "Validation: |          | 0/? [00:00<?, ?it/s]"
      ]
     },
     "metadata": {},
     "output_type": "display_data"
    },
    {
     "data": {
      "application/vnd.jupyter.widget-view+json": {
       "model_id": "",
       "version_major": 2,
       "version_minor": 0
      },
      "text/plain": [
       "Validation: |          | 0/? [00:00<?, ?it/s]"
      ]
     },
     "metadata": {},
     "output_type": "display_data"
    },
    {
     "data": {
      "application/vnd.jupyter.widget-view+json": {
       "model_id": "",
       "version_major": 2,
       "version_minor": 0
      },
      "text/plain": [
       "Validation: |          | 0/? [00:00<?, ?it/s]"
      ]
     },
     "metadata": {},
     "output_type": "display_data"
    },
    {
     "data": {
      "application/vnd.jupyter.widget-view+json": {
       "model_id": "",
       "version_major": 2,
       "version_minor": 0
      },
      "text/plain": [
       "Validation: |          | 0/? [00:00<?, ?it/s]"
      ]
     },
     "metadata": {},
     "output_type": "display_data"
    },
    {
     "data": {
      "application/vnd.jupyter.widget-view+json": {
       "model_id": "",
       "version_major": 2,
       "version_minor": 0
      },
      "text/plain": [
       "Validation: |          | 0/? [00:00<?, ?it/s]"
      ]
     },
     "metadata": {},
     "output_type": "display_data"
    },
    {
     "data": {
      "application/vnd.jupyter.widget-view+json": {
       "model_id": "",
       "version_major": 2,
       "version_minor": 0
      },
      "text/plain": [
       "Validation: |          | 0/? [00:00<?, ?it/s]"
      ]
     },
     "metadata": {},
     "output_type": "display_data"
    },
    {
     "data": {
      "application/vnd.jupyter.widget-view+json": {
       "model_id": "",
       "version_major": 2,
       "version_minor": 0
      },
      "text/plain": [
       "Validation: |          | 0/? [00:00<?, ?it/s]"
      ]
     },
     "metadata": {},
     "output_type": "display_data"
    },
    {
     "data": {
      "application/vnd.jupyter.widget-view+json": {
       "model_id": "",
       "version_major": 2,
       "version_minor": 0
      },
      "text/plain": [
       "Validation: |          | 0/? [00:00<?, ?it/s]"
      ]
     },
     "metadata": {},
     "output_type": "display_data"
    },
    {
     "data": {
      "application/vnd.jupyter.widget-view+json": {
       "model_id": "",
       "version_major": 2,
       "version_minor": 0
      },
      "text/plain": [
       "Validation: |          | 0/? [00:00<?, ?it/s]"
      ]
     },
     "metadata": {},
     "output_type": "display_data"
    },
    {
     "data": {
      "application/vnd.jupyter.widget-view+json": {
       "model_id": "",
       "version_major": 2,
       "version_minor": 0
      },
      "text/plain": [
       "Validation: |          | 0/? [00:00<?, ?it/s]"
      ]
     },
     "metadata": {},
     "output_type": "display_data"
    },
    {
     "data": {
      "application/vnd.jupyter.widget-view+json": {
       "model_id": "",
       "version_major": 2,
       "version_minor": 0
      },
      "text/plain": [
       "Validation: |          | 0/? [00:00<?, ?it/s]"
      ]
     },
     "metadata": {},
     "output_type": "display_data"
    },
    {
     "data": {
      "application/vnd.jupyter.widget-view+json": {
       "model_id": "",
       "version_major": 2,
       "version_minor": 0
      },
      "text/plain": [
       "Validation: |          | 0/? [00:00<?, ?it/s]"
      ]
     },
     "metadata": {},
     "output_type": "display_data"
    },
    {
     "data": {
      "application/vnd.jupyter.widget-view+json": {
       "model_id": "",
       "version_major": 2,
       "version_minor": 0
      },
      "text/plain": [
       "Validation: |          | 0/? [00:00<?, ?it/s]"
      ]
     },
     "metadata": {},
     "output_type": "display_data"
    },
    {
     "data": {
      "application/vnd.jupyter.widget-view+json": {
       "model_id": "",
       "version_major": 2,
       "version_minor": 0
      },
      "text/plain": [
       "Validation: |          | 0/? [00:00<?, ?it/s]"
      ]
     },
     "metadata": {},
     "output_type": "display_data"
    },
    {
     "data": {
      "application/vnd.jupyter.widget-view+json": {
       "model_id": "",
       "version_major": 2,
       "version_minor": 0
      },
      "text/plain": [
       "Validation: |          | 0/? [00:00<?, ?it/s]"
      ]
     },
     "metadata": {},
     "output_type": "display_data"
    },
    {
     "data": {
      "application/vnd.jupyter.widget-view+json": {
       "model_id": "",
       "version_major": 2,
       "version_minor": 0
      },
      "text/plain": [
       "Validation: |          | 0/? [00:00<?, ?it/s]"
      ]
     },
     "metadata": {},
     "output_type": "display_data"
    },
    {
     "data": {
      "application/vnd.jupyter.widget-view+json": {
       "model_id": "",
       "version_major": 2,
       "version_minor": 0
      },
      "text/plain": [
       "Validation: |          | 0/? [00:00<?, ?it/s]"
      ]
     },
     "metadata": {},
     "output_type": "display_data"
    },
    {
     "data": {
      "application/vnd.jupyter.widget-view+json": {
       "model_id": "",
       "version_major": 2,
       "version_minor": 0
      },
      "text/plain": [
       "Validation: |          | 0/? [00:00<?, ?it/s]"
      ]
     },
     "metadata": {},
     "output_type": "display_data"
    },
    {
     "data": {
      "application/vnd.jupyter.widget-view+json": {
       "model_id": "",
       "version_major": 2,
       "version_minor": 0
      },
      "text/plain": [
       "Validation: |          | 0/? [00:00<?, ?it/s]"
      ]
     },
     "metadata": {},
     "output_type": "display_data"
    },
    {
     "data": {
      "application/vnd.jupyter.widget-view+json": {
       "model_id": "",
       "version_major": 2,
       "version_minor": 0
      },
      "text/plain": [
       "Validation: |          | 0/? [00:00<?, ?it/s]"
      ]
     },
     "metadata": {},
     "output_type": "display_data"
    },
    {
     "data": {
      "application/vnd.jupyter.widget-view+json": {
       "model_id": "9c4ec0b8567f42099dae0d2833bb4092",
       "version_major": 2,
       "version_minor": 0
      },
      "text/plain": [
       "Validation: |          | 0/? [00:00<?, ?it/s]"
      ]
     },
     "metadata": {},
     "output_type": "display_data"
    },
    {
     "data": {
      "application/vnd.jupyter.widget-view+json": {
       "model_id": "53135793571b44af8418f7cddd47fca4",
       "version_major": 2,
       "version_minor": 0
      },
      "text/plain": [
       "Validation: |          | 0/? [00:00<?, ?it/s]"
      ]
     },
     "metadata": {},
     "output_type": "display_data"
    },
    {
     "data": {
      "application/vnd.jupyter.widget-view+json": {
       "model_id": "3e33fc3f64984fa884a1a84d9d36d1ff",
       "version_major": 2,
       "version_minor": 0
      },
      "text/plain": [
       "Validation: |          | 0/? [00:00<?, ?it/s]"
      ]
     },
     "metadata": {},
     "output_type": "display_data"
    },
    {
     "data": {
      "application/vnd.jupyter.widget-view+json": {
       "model_id": "099dc12c5d50429e926fc50630656fe9",
       "version_major": 2,
       "version_minor": 0
      },
      "text/plain": [
       "Validation: |          | 0/? [00:00<?, ?it/s]"
      ]
     },
     "metadata": {},
     "output_type": "display_data"
    },
    {
     "data": {
      "application/vnd.jupyter.widget-view+json": {
       "model_id": "82c62ee3519749e4bd22f1ede7a67b89",
       "version_major": 2,
       "version_minor": 0
      },
      "text/plain": [
       "Validation: |          | 0/? [00:00<?, ?it/s]"
      ]
     },
     "metadata": {},
     "output_type": "display_data"
    },
    {
     "data": {
      "application/vnd.jupyter.widget-view+json": {
       "model_id": "9f11f23dbfb84e6ca269da8c3606b4bb",
       "version_major": 2,
       "version_minor": 0
      },
      "text/plain": [
       "Validation: |          | 0/? [00:00<?, ?it/s]"
      ]
     },
     "metadata": {},
     "output_type": "display_data"
    },
    {
     "data": {
      "application/vnd.jupyter.widget-view+json": {
       "model_id": "211a3d57ef4446c1bd92e6f6e163024d",
       "version_major": 2,
       "version_minor": 0
      },
      "text/plain": [
       "Validation: |          | 0/? [00:00<?, ?it/s]"
      ]
     },
     "metadata": {},
     "output_type": "display_data"
    },
    {
     "data": {
      "application/vnd.jupyter.widget-view+json": {
       "model_id": "e6c2c7704d424bdb9e2e6db016e66342",
       "version_major": 2,
       "version_minor": 0
      },
      "text/plain": [
       "Validation: |          | 0/? [00:00<?, ?it/s]"
      ]
     },
     "metadata": {},
     "output_type": "display_data"
    },
    {
     "name": "stderr",
     "output_type": "stream",
     "text": [
      "`Trainer.fit` stopped: `max_epochs=500` reached.\n"
     ]
    },
    {
     "data": {
      "text/html": [
       "Waiting for W&B process to finish... <strong style=\"color:green\">(success).</strong>"
      ],
      "text/plain": [
       "<IPython.core.display.HTML object>"
      ]
     },
     "metadata": {},
     "output_type": "display_data"
    },
    {
     "data": {
      "text/html": [
       "<style>\n",
       "    table.wandb td:nth-child(1) { padding: 0 10px; text-align: left ; width: auto;} td:nth-child(2) {text-align: left ; width: 100%}\n",
       "    .wandb-row { display: flex; flex-direction: row; flex-wrap: wrap; justify-content: flex-start; width: 100% }\n",
       "    .wandb-col { display: flex; flex-direction: column; flex-basis: 100%; flex: 1; padding: 10px; }\n",
       "    </style>\n",
       "<div class=\"wandb-row\"><div class=\"wandb-col\"><h3>Run history:</h3><br/><table class=\"wandb\"><tr><td>epoch</td><td>▁▁▁▁▂▂▂▂▂▃▃▃▃▃▃▄▄▄▄▄▅▅▅▅▅▅▆▆▆▆▆▆▇▇▇▇▇███</td></tr><tr><td>train_loss</td><td>▆▅▃▃█▄▄▄▄▃▃▃▂▁▁▃▁▆▂▆▃▃▁▁▂▄▂▂▁▂▂▂▁▄▂▁▁▂▁▁</td></tr><tr><td>trainer/global_step</td><td>▁▁▁▁▂▂▂▂▂▃▃▃▃▃▃▄▄▄▄▄▄▅▅▅▅▅▆▆▆▆▆▆▇▇▇▇▇███</td></tr><tr><td>val_accuracy</td><td>▁▃▅▆▆▇▆▆▆▇▇▇▇█▇█████████████████████████</td></tr><tr><td>val_f1</td><td>▁▃▅▆▆▇▆▆▆▇▇▇▇█▇█████████████████████████</td></tr><tr><td>val_loss</td><td>█▆▄▄▃▂▃▂▃▂▂▂▁▁▁▁▁▁▁▁▁▁▁▁▁▁▁▁▁▁▁▁▁▁▁▁▁▁▁▁</td></tr><tr><td>val_precision</td><td>▁▂▄▄▅▆▄▅▄▆▅▅▆▇▆▇▇▆▇▇▇██▇▇▇▇▇█▇██▇███████</td></tr><tr><td>val_recall</td><td>▁▅▅▆▇▆█▇█▇██▇▇█▇▇▇▇▇▇▆▆▇▇▇▇▆▆▆▆▆▆▆▆▆▆▆▆▆</td></tr><tr><td>val_roc_auc</td><td>▁▄▅▆▇▇▇▇▇▇███████████▇████████▇▇▇▇▇▇▇▇▇▇</td></tr></table><br/></div><div class=\"wandb-col\"><h3>Run summary:</h3><br/><table class=\"wandb\"><tr><td>epoch</td><td>499</td></tr><tr><td>train_loss</td><td>0.37563</td></tr><tr><td>trainer/global_step</td><td>3999</td></tr><tr><td>val_accuracy</td><td>0.86092</td></tr><tr><td>val_f1</td><td>0.86092</td></tr><tr><td>val_loss</td><td>0.4563</td></tr><tr><td>val_precision</td><td>0.76702</td></tr><tr><td>val_recall</td><td>0.83697</td></tr><tr><td>val_roc_auc</td><td>0.85493</td></tr></table><br/></div></div>"
      ],
      "text/plain": [
       "<IPython.core.display.HTML object>"
      ]
     },
     "metadata": {},
     "output_type": "display_data"
    },
    {
     "data": {
      "text/html": [
       "Synced <strong style=\"color:#cdcd00\">GraphConv</strong>: <a href=\"https://wandb.ai/ssc_project/LinkPrediction_finalv1/runs/12x368zd\" target=\"_blank\">https://wandb.ai/ssc_project/LinkPrediction_finalv1/runs/12x368zd</a><br/>Synced 5 W&B file(s), 0 media file(s), 4 artifact file(s) and 0 other file(s)"
      ],
      "text/plain": [
       "<IPython.core.display.HTML object>"
      ]
     },
     "metadata": {},
     "output_type": "display_data"
    },
    {
     "data": {
      "text/html": [
       "Find logs at: <code>results/log/lp/graphconv/wandb/run-20240405_213032-12x368zd/logs</code>"
      ],
      "text/plain": [
       "<IPython.core.display.HTML object>"
      ]
     },
     "metadata": {},
     "output_type": "display_data"
    }
   ],
   "source": [
    "# for edge_types, rev_edge_types in edges:\n",
    "for mtype, model in models.items():\n",
    "    log_dir = 'results/log/lp/' + mtype.lower()\n",
    "    loss_checkpoint_dir = f'results/checkpoints/lp/{mtype.lower()}/loss'\n",
    "    auc_checkpoint_dir = f'results/checkpoints/lp/{mtype.lower()}/roc_auc'\n",
    "    acc_checkpoint_dir = f'results/checkpoints/lp/{mtype.lower()}/acc'\n",
    "\n",
    "    os.makedirs(log_dir, exist_ok=True)\n",
    "    os.makedirs(loss_checkpoint_dir, exist_ok=True)\n",
    "    os.makedirs(auc_checkpoint_dir, exist_ok=True)\n",
    "    os.makedirs(acc_checkpoint_dir, exist_ok=True)\n",
    "\n",
    "\n",
    "    lr = 1e-3\n",
    "    optim = torch.optim.Adam(model.parameters(), lr=lr)\n",
    "    model.set_optimizer(optim)\n",
    "\n",
    "    wandb_logger = WandbLogger(\n",
    "        project=\"LinkPrediction_finalv1\",\n",
    "        log_model=True,\n",
    "        save_dir=log_dir,\n",
    "        name=mtype,\n",
    "        entity='ssc_project'\n",
    "\n",
    "    )\n",
    "\n",
    "    loss_checkpoint_callback = ModelCheckpoint(\n",
    "        monitor=f'val_loss',\n",
    "        dirpath=loss_checkpoint_dir,\n",
    "        filename='LinkPred-{epoch:02d}-{val_loss:.2f}',\n",
    "        save_top_k=3,\n",
    "        save_last=True,\n",
    "        mode='min',\n",
    "        every_n_epochs=1\n",
    "    )\n",
    "    roc_auc_checkpoint_callback = ModelCheckpoint(\n",
    "        monitor=f'val_roc_auc',\n",
    "        dirpath=auc_checkpoint_dir,\n",
    "        filename='LinkPred-{epoch:02d}-{val_roc_auc:.2f}',\n",
    "        save_top_k=3,\n",
    "        save_last=True,\n",
    "        mode='max',\n",
    "        every_n_epochs=1\n",
    "    )\n",
    "    acc_checkpoint_callback = ModelCheckpoint(\n",
    "        monitor=f'val_accuracy',\n",
    "        dirpath=acc_checkpoint_dir,\n",
    "        filename='LinkPred-{epoch:02d}-{val_accuracy:.2f}',\n",
    "        save_top_k=3,\n",
    "        save_last=True,\n",
    "        mode='max',\n",
    "        every_n_epochs=1\n",
    "    )\n",
    "\n",
    "    trainer = L.Trainer(\n",
    "        max_epochs=500,\n",
    "        check_val_every_n_epoch=10,\n",
    "        callbacks=[\n",
    "            loss_checkpoint_callback, \n",
    "            roc_auc_checkpoint_callback,\n",
    "            acc_checkpoint_callback,\n",
    "        ],\n",
    "        logger=wandb_logger,\n",
    "        log_every_n_steps=4\n",
    "    )\n",
    "\n",
    "\n",
    "    trainer.fit(model, train_loader, val_loader)\n",
    "    wandb.finish()"
   ]
  },
  {
   "cell_type": "code",
   "execution_count": 16,
   "id": "8b95a465-146e-41af-b8fd-9081430808ec",
   "metadata": {},
   "outputs": [
    {
     "name": "stdout",
     "output_type": "stream",
     "text": [
      "done\n"
     ]
    }
   ],
   "source": [
    "print('done')"
   ]
  },
  {
   "cell_type": "code",
   "execution_count": null,
   "id": "403ecbeb-6540-4e38-9c85-4dc3e84df7df",
   "metadata": {},
   "outputs": [],
   "source": []
  }
 ],
 "metadata": {
  "kernelspec": {
   "display_name": "Python 3 (ipykernel)",
   "language": "python",
   "name": "python3"
  },
  "language_info": {
   "codemirror_mode": {
    "name": "ipython",
    "version": 3
   },
   "file_extension": ".py",
   "mimetype": "text/x-python",
   "name": "python",
   "nbconvert_exporter": "python",
   "pygments_lexer": "ipython3",
   "version": "3.9.16"
  }
 },
 "nbformat": 4,
 "nbformat_minor": 5
}
