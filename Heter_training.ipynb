{
 "cells": [
  {
   "cell_type": "markdown",
   "id": "2a58262e-3cb6-4ac4-bdfc-7c668b44db2e",
   "metadata": {},
   "source": [
    "# Link Prediction for Heterogeneous graph"
   ]
  },
  {
   "cell_type": "markdown",
   "id": "7c43a503-c35b-4f57-af13-b9b1cb66498d",
   "metadata": {},
   "source": [
    "## 0. Enviroment setup"
   ]
  },
  {
   "cell_type": "code",
   "execution_count": 1,
   "id": "b342f272-4864-4e44-9973-9e2d0e6c6a7c",
   "metadata": {},
   "outputs": [],
   "source": [
    "import os\n",
    "import shutil\n",
    "import numpy as np\n",
    "import pandas as pd\n",
    "import torch\n",
    "import torch.nn as nn\n",
    "from tqdm import tqdm\n",
    "\n",
    "from sklearn.metrics import roc_auc_score, f1_score\n",
    "from torch_geometric.utils import negative_sampling\n",
    "import torch_geometric.transforms as T\n",
    "from torch_geometric.utils import train_test_split_edges\n",
    "from torch_geometric.loader import LinkNeighborLoader\n",
    "\n",
    "import lightning as L\n",
    "from lightning.pytorch.callbacks import ModelCheckpoint\n",
    "from lightning.pytorch.loggers import WandbLogger"
   ]
  },
  {
   "cell_type": "code",
   "execution_count": 2,
   "id": "0279406c-1e43-4f2e-b7ae-d8cdef5a384b",
   "metadata": {},
   "outputs": [],
   "source": [
    "from link_prediction.models import *\n",
    "from link_prediction.dataloaders import *"
   ]
  },
  {
   "cell_type": "code",
   "execution_count": 3,
   "id": "dda9588f-6383-46e9-8a86-4bdd0ec8e5f2",
   "metadata": {},
   "outputs": [],
   "source": [
    "os.environ['CUDA_LAUNCH_BLOCKING'] = '1'"
   ]
  },
  {
   "cell_type": "code",
   "execution_count": 4,
   "id": "448a0250-aed8-4f35-8a06-7e40fd3939f4",
   "metadata": {},
   "outputs": [
    {
     "data": {
      "text/plain": [
       "'cuda'"
      ]
     },
     "execution_count": 4,
     "metadata": {},
     "output_type": "execute_result"
    }
   ],
   "source": [
    "# Setup device agnostic code\n",
    "device = \"cuda\" if torch.cuda.is_available() else \"cpu\"\n",
    "device"
   ]
  },
  {
   "cell_type": "markdown",
   "id": "22880da8-8fb8-4288-b6d2-fdc56493af45",
   "metadata": {},
   "source": [
    "## 1. Data Pre-processing"
   ]
  },
  {
   "cell_type": "code",
   "execution_count": 5,
   "id": "fb8d2c96-aacd-4689-ba1d-2af084d3f9e8",
   "metadata": {},
   "outputs": [],
   "source": [
    "DATA_VERSION = 'final_v1'"
   ]
  },
  {
   "cell_type": "code",
   "execution_count": 6,
   "id": "0e3fad6d-95fb-48b8-af4f-1fccc4271f0d",
   "metadata": {},
   "outputs": [
    {
     "data": {
      "text/plain": [
       "HeteroData(\n",
       "  user={\n",
       "    x=[18645, 5],\n",
       "    y=[18645],\n",
       "  },\n",
       "  comment={\n",
       "    x=[125111, 1],\n",
       "    y=[125111],\n",
       "  },\n",
       "  post={\n",
       "    x=[13540, 1],\n",
       "    y=[13540],\n",
       "  },\n",
       "  (user, upvote, comment)={\n",
       "    edge_index=[2, 423638],\n",
       "    edge_attr=[423638, 1],\n",
       "    y=[423638],\n",
       "  },\n",
       "  (user, upvote, post)={\n",
       "    edge_index=[2, 554131],\n",
       "    edge_attr=[554131, 1],\n",
       "    y=[554131],\n",
       "  },\n",
       "  (user, write, comment)={\n",
       "    edge_index=[2, 78696],\n",
       "    edge_attr=[78696, 1],\n",
       "    y=[78696],\n",
       "  },\n",
       "  (user, write, post)={\n",
       "    edge_index=[2, 12958],\n",
       "    edge_attr=[12958, 1],\n",
       "    y=[12958],\n",
       "  },\n",
       "  (user, downvote, comment)={\n",
       "    edge_index=[2, 6819],\n",
       "    edge_attr=[6819, 1],\n",
       "    y=[6819],\n",
       "  },\n",
       "  (user, downvote, post)={\n",
       "    edge_index=[2, 2934],\n",
       "    edge_attr=[2934, 1],\n",
       "    y=[2934],\n",
       "  },\n",
       "  (comment, belong_to, comment)={\n",
       "    edge_index=[2, 117822],\n",
       "    edge_attr=[117822, 1],\n",
       "    y=[117822],\n",
       "  },\n",
       "  (comment, belong_to, post)={\n",
       "    edge_index=[2, 19838],\n",
       "    edge_attr=[19838, 1],\n",
       "    y=[19838],\n",
       "  },\n",
       "  (comment, rev_upvote, user)={\n",
       "    edge_index=[2, 423638],\n",
       "    edge_attr=[423638, 1],\n",
       "    y=[423638],\n",
       "  },\n",
       "  (post, rev_upvote, user)={\n",
       "    edge_index=[2, 554131],\n",
       "    edge_attr=[554131, 1],\n",
       "    y=[554131],\n",
       "  },\n",
       "  (comment, rev_write, user)={\n",
       "    edge_index=[2, 78696],\n",
       "    edge_attr=[78696, 1],\n",
       "    y=[78696],\n",
       "  },\n",
       "  (post, rev_write, user)={\n",
       "    edge_index=[2, 12958],\n",
       "    edge_attr=[12958, 1],\n",
       "    y=[12958],\n",
       "  },\n",
       "  (comment, rev_downvote, user)={\n",
       "    edge_index=[2, 6819],\n",
       "    edge_attr=[6819, 1],\n",
       "    y=[6819],\n",
       "  },\n",
       "  (post, rev_downvote, user)={\n",
       "    edge_index=[2, 2934],\n",
       "    edge_attr=[2934, 1],\n",
       "    y=[2934],\n",
       "  },\n",
       "  (post, rev_belong_to, comment)={\n",
       "    edge_index=[2, 19838],\n",
       "    edge_attr=[19838, 1],\n",
       "    y=[19838],\n",
       "  }\n",
       ")"
      ]
     },
     "execution_count": 6,
     "metadata": {},
     "output_type": "execute_result"
    }
   ],
   "source": [
    "data = getHiveDataset(\n",
    "    f'dataset/hive/{DATA_VERSION}/nodes_labelled.csv',\n",
    "    f'dataset/hive/{DATA_VERSION}/edges_labelled.csv',\n",
    ")\n",
    "data = T.ToUndirected()(data)\n",
    "\n",
    "# data = torch.load('hive.pt')\n",
    "data"
   ]
  },
  {
   "cell_type": "code",
   "execution_count": 9,
   "id": "356d8e4d-b75f-4a3b-80e6-66d5afe8dd17",
   "metadata": {},
   "outputs": [],
   "source": [
    "torch.save(data, 'hive.pt')"
   ]
  },
  {
   "cell_type": "code",
   "execution_count": 15,
   "id": "7f78565b-7e76-4e28-a735-2299f1e54f57",
   "metadata": {},
   "outputs": [],
   "source": [
    "num_edges = len(data.edge_types)\n",
    "edge_types = data.edge_types[:num_edges//2 + 1]"
   ]
  },
  {
   "cell_type": "code",
   "execution_count": 16,
   "id": "a1d39f36-af29-490e-9054-64a10bc48c62",
   "metadata": {},
   "outputs": [
    {
     "data": {
      "text/plain": [
       "[('user', 'upvote', 'comment'),\n",
       " ('user', 'upvote', 'post'),\n",
       " ('user', 'write', 'comment'),\n",
       " ('user', 'write', 'post'),\n",
       " ('user', 'downvote', 'comment'),\n",
       " ('user', 'downvote', 'post'),\n",
       " ('comment', 'belong_to', 'comment'),\n",
       " ('comment', 'belong_to', 'post')]"
      ]
     },
     "execution_count": 16,
     "metadata": {},
     "output_type": "execute_result"
    }
   ],
   "source": [
    "edge_types"
   ]
  },
  {
   "cell_type": "code",
   "execution_count": 17,
   "id": "4d199ee4-ffef-4e3d-8c1c-b6b7cc0b3dec",
   "metadata": {},
   "outputs": [],
   "source": [
    "rev_edge_types = data.edge_types[num_edges//2 + 1:-1] + [edge_types[-2], data.edge_types[-1]] "
   ]
  },
  {
   "cell_type": "code",
   "execution_count": 18,
   "id": "fa9b9598-8f90-4462-a354-a5b9090ad119",
   "metadata": {},
   "outputs": [],
   "source": [
    "transform = T.RandomLinkSplit(\n",
    "    num_val=0.1,\n",
    "    num_test=0.1,\n",
    "    disjoint_train_ratio=0.3, \n",
    "    add_negative_train_samples=False,\n",
    "    # neg_sampling_ratio=2.0,\n",
    "    edge_types=edge_types,\n",
    "    rev_edge_types=rev_edge_types, \n",
    ")\n",
    "\n",
    "train_data, val_data, test_data = transform(data)"
   ]
  },
  {
   "cell_type": "markdown",
   "id": "2f33980f-d459-48c9-862c-3b87d217f598",
   "metadata": {},
   "source": [
    "## 2. Training"
   ]
  },
  {
   "cell_type": "code",
   "execution_count": 19,
   "id": "5c703cf3-1874-4cea-ba5d-1a251fd1289d",
   "metadata": {},
   "outputs": [],
   "source": [
    "model = GATv2(\n",
    "    in_channels=-1, \n",
    "    out_channels=128, \n",
    "    hidden_channels=[64, 128, 256, 256, 512], \n",
    "    metadata=data.metadata(), \n",
    "    # aggr_scheme='mean',\n",
    ")\n"
   ]
  },
  {
   "cell_type": "code",
   "execution_count": 20,
   "id": "37f31a01-ffc3-4b4d-91cf-1774ca19b390",
   "metadata": {},
   "outputs": [],
   "source": [
    "lr = 1e-3\n",
    "optim = torch.optim.Adam(model.parameters(), lr=lr)\n",
    "model.set_optimizer(optim)\n",
    "\n",
    "wandb_logger = WandbLogger(\n",
    "    project=\"LinkPrediction_finalv1\",\n",
    "    log_model='all',\n",
    "    save_dir='results/log',\n",
    "    name='gatv2_large',\n",
    "    entity='ssc_project'\n",
    ")"
   ]
  },
  {
   "cell_type": "code",
   "execution_count": null,
   "id": "dc952de0-8844-4663-8c51-e7cf504f3370",
   "metadata": {
    "scrolled": true
   },
   "outputs": [
    {
     "name": "stderr",
     "output_type": "stream",
     "text": [
      "GPU available: True (cuda), used: True\n",
      "TPU available: False, using: 0 TPU cores\n",
      "IPU available: False, using: 0 IPUs\n",
      "HPU available: False, using: 0 HPUs\n"
     ]
    }
   ],
   "source": [
    "# for edge_types, rev_edge_types in edges:\n",
    "for edge_type in edge_types:\n",
    "    loss_checkpoint_callback = ModelCheckpoint(\n",
    "        monitor=f'{edge_type[1]}_val_loss',\n",
    "        dirpath='results/checkpoints/graphsage/loss',\n",
    "        filename=f'LinkPred-{{epoch:02d}}-{{{edge_type[1]}_val_loss:.2f}}',\n",
    "        save_top_k=3,\n",
    "        save_last=True,\n",
    "        mode='min',\n",
    "        every_n_epochs=1\n",
    "    )\n",
    "    roc_auc_checkpoint_callback = ModelCheckpoint(\n",
    "        monitor=f'{edge_type[1]}_val_roc_auc',\n",
    "        dirpath='results/checkpoints/graphsage/roc_auc',\n",
    "        filename=f'LinkPred-{{epoch:02d}}-{{{edge_type[1]}_val_roc_auc:.2f}}',\n",
    "        save_top_k=3,\n",
    "        save_last=True,\n",
    "        mode='max',\n",
    "        every_n_epochs=1\n",
    "    )\n",
    "    trainer = L.Trainer(\n",
    "        max_epochs=100,\n",
    "        check_val_every_n_epoch=1,\n",
    "        callbacks=[\n",
    "            loss_checkpoint_callback, \n",
    "            roc_auc_checkpoint_callback,\n",
    "        ],\n",
    "        logger=wandb_logger\n",
    "    )\n",
    "    \n",
    "    train_batch_size=128\n",
    "    val_batch_size=val_data[edge_type]['edge_label'].size(0)\n",
    "    model.set_trainval_info(edge_type, train_batch_size, val_batch_size)\n",
    "    train_edge_label_index = train_data[edge_type].edge_label_index\n",
    "    train_edge_label = train_data[edge_type].edge_label\n",
    "    train_loader = LinkNeighborLoader(\n",
    "        data=train_data,\n",
    "        num_neighbors=[20, 20],\n",
    "        neg_sampling_ratio=2.0,\n",
    "        edge_label_index=(edge_type, train_edge_label_index),\n",
    "        edge_label=train_edge_label,\n",
    "        batch_size=train_batch_size,\n",
    "        shuffle=True,\n",
    "        pin_memory=True,\n",
    "        num_workers=8,\n",
    "    )\n",
    "\n",
    "    val_edge_label_index = val_data[edge_type].edge_label_index\n",
    "    val_edge_label = val_data[edge_type].edge_label\n",
    "    val_loader = LinkNeighborLoader(\n",
    "        data=val_data,\n",
    "        num_neighbors=[20, 20],\n",
    "        neg_sampling_ratio=None,\n",
    "        edge_label_index=(edge_type, val_edge_label_index),\n",
    "        edge_label=val_edge_label,\n",
    "        batch_size=val_batch_size,\n",
    "        shuffle=False,\n",
    "        pin_memory=True,\n",
    "        num_workers=8,\n",
    "    )\n",
    "    \n",
    "    trainer.fit(model, train_loader, val_loader)"
   ]
  },
  {
   "cell_type": "code",
   "execution_count": null,
   "id": "8b95a465-146e-41af-b8fd-9081430808ec",
   "metadata": {},
   "outputs": [],
   "source": []
  }
 ],
 "metadata": {
  "kernelspec": {
   "display_name": "graph_kernel",
   "language": "python",
   "name": "graph_kernel"
  },
  "language_info": {
   "codemirror_mode": {
    "name": "ipython",
    "version": 3
   },
   "file_extension": ".py",
   "mimetype": "text/x-python",
   "name": "python",
   "nbconvert_exporter": "python",
   "pygments_lexer": "ipython3",
   "version": "3.10.14"
  }
 },
 "nbformat": 4,
 "nbformat_minor": 5
}
